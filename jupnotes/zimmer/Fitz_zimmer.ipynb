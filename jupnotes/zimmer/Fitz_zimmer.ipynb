{
 "cells": [
  {
   "cell_type": "code",
   "execution_count": 201,
   "metadata": {},
   "outputs": [],
   "source": [
    "import fitz\n",
    "import sys\n",
    "import pandas as pd\n",
    "import re"
   ]
  },
  {
   "cell_type": "markdown",
   "metadata": {},
   "source": [
    "## What is Fitz?\n",
    "\n",
    "\"PyMuPDF is a Python binding for MuPDF – a lightweight PDF, XPS, and E-book viewer, renderer, and toolkit, which is maintained and developed by Artifex Software, Inc\" - [PyMu Docs Page](https://pymupdf.readthedocs.io/en/latest/intro.html)\n",
    "\n",
    "\n",
    "“After Artifex Software acquired the MuPDF project, the development focus shifted on writing a new modern graphics library called “Fitz”. Fitz was originally intended as an R&D project to replace the aging Ghostscript graphics library, but has instead become the rendering engine powering MuPDF.” - [Wikipedia](https://en.wikipedia.org/wiki/MuPDF)"
   ]
  },
  {
   "cell_type": "markdown",
   "metadata": {},
   "source": [
    "# Using Fitz to open PDF"
   ]
  },
  {
   "cell_type": "code",
   "execution_count": 202,
   "metadata": {},
   "outputs": [],
   "source": [
    "pdf_path = '../data/ZIMMER-BIOMET_PERI-ARTICULATION.pdf'\n",
    "fitz_open_pdf = fitz.open(pdf_path)"
   ]
  },
  {
   "cell_type": "code",
   "execution_count": 134,
   "metadata": {},
   "outputs": [
    {
     "data": {
      "text/plain": [
       "fitz.fitz.Document"
      ]
     },
     "execution_count": 134,
     "metadata": {},
     "output_type": "execute_result"
    }
   ],
   "source": [
    "type(fitz_open_pdf)"
   ]
  },
  {
   "cell_type": "code",
   "execution_count": 135,
   "metadata": {},
   "outputs": [
    {
     "data": {
      "text/plain": [
       "18"
      ]
     },
     "execution_count": 135,
     "metadata": {},
     "output_type": "execute_result"
    }
   ],
   "source": [
    "len(fitz_open_pdf)"
   ]
  },
  {
   "cell_type": "code",
   "execution_count": 136,
   "metadata": {},
   "outputs": [
    {
     "data": {
      "text/plain": [
       "page 1 of ../data/ZIMMER-BIOMET_PERI-ARTICULATION.pdf"
      ]
     },
     "execution_count": 136,
     "metadata": {},
     "output_type": "execute_result"
    }
   ],
   "source": [
    "fitz_open_pdf[1]"
   ]
  },
  {
   "cell_type": "code",
   "execution_count": 137,
   "metadata": {},
   "outputs": [
    {
     "name": "stdout",
     "output_type": "stream",
     "text": [
      "page 1 of ../data/ZIMMER-BIOMET_PERI-ARTICULATION.pdf\n"
     ]
    }
   ],
   "source": [
    "print(fitz_open_pdf[1])"
   ]
  },
  {
   "cell_type": "markdown",
   "metadata": {},
   "source": [
    "---------\n",
    "I found the solution below ``page.getText()` *somewhere*.....but looking back at the documentation, it says to use a different version: `page.get-text('text)`. So, I don't know where this came from....later I will make a run through of following the documentation more closely. \n",
    "\n",
    "But for the moment this works....\n",
    "\n",
    "--------"
   ]
  },
  {
   "cell_type": "code",
   "execution_count": 143,
   "metadata": {},
   "outputs": [
    {
     "name": "stdout",
     "output_type": "stream",
     "text": [
      "<class 'list'>\n"
     ]
    },
    {
     "data": {
      "text/plain": [
       "18"
      ]
     },
     "execution_count": 143,
     "metadata": {},
     "output_type": "execute_result"
    }
   ],
   "source": [
    "# WE SEE THE LENGTH OF THIS LIST IS THE SAME AS THE 'fitz_open_pdf' and it has created a list.\n",
    "text = [page.getText('text') for page in fitz_open_pdf]\n",
    "print(type(text))\n",
    "len(text)"
   ]
  },
  {
   "cell_type": "code",
   "execution_count": 139,
   "metadata": {},
   "outputs": [
    {
     "data": {
      "text/plain": [
       "'Ordering\\tInformation\\n   \\n3.5mm Proximal Lateral Humeral Locking Plate \\n \\nLeft \\nRight \\nDescription \\nHoles \\nLength\\n\\t00-2358-002-04\\t\\t\\n00-2358-001-04\\t\\t\\nProximal\\tLateral\\tHumeral\\tLocking\\t\\t\\nPlate\\t4\\t\\t\\n90mm\\n\\t00-2358-002-06\\t\\t\\n00-2358-001-06\\t\\t\\nProximal\\tLateral\\tHumeral\\tLocking\\t\\t\\nPlate\\t6\\t\\t\\n114mm\\n\\t00-2358-002-08\\t\\t\\n00-2358-001-08\\t\\t\\nProximal\\tLateral\\tHumeral\\tLocking\\t\\t\\nPlate\\t8\\t\\t\\n138mm\\n\\t00-2358-002-12\\t\\t\\n00-2358-001-12\\t\\t\\nProximal\\tLateral\\tHumeral\\tLocking\\t\\t\\nPlate\\t12\\t\\t\\n186mm\\n\\t00-2358-002-16\\t\\t\\n00-2358-001-16\\t\\t\\nProximal\\tLateral\\tHumeral\\tLocking\\t\\t\\nPlate\\t16\\t\\t\\n234mm\\nPrOxIMaL\\tLaTeraL\\tHuMeraL\\tLOckIng\\tPLaTeS\\nProximal Lateral Humeral Locking Plate Set \\n \\n \\nQty\\n00-2358-000-05 \\nProximal Lateral Humeral Locking  \\n \\nPlate Set (Contains the following) \\n \\n \\n00-2358-002-04\\t\\nProximal\\tLateral\\tHumeral\\tLocking\\tPlate\\t \\t\\n\\t\\n1\\n00-2358-002-06\\t\\nProximal\\tLateral\\tHumeral\\tLocking\\tPlate\\t \\t\\n\\t\\n1\\n00-2358-002-08\\t\\nProximal\\tLateral\\tHumeral\\tLocking\\tPlate\\t \\t\\n\\t\\n1\\n00-2358-002-12\\t\\nProximal\\tLateral\\tHumeral\\tLocking\\tPlate\\t \\t\\n\\t\\n1\\n00-2358-002-16\\t\\nProximal\\tLateral\\tHumeral\\tLocking\\tPlate\\t \\t\\n\\t\\n1\\n00-2358-001-04\\t\\nProximal\\tLateral\\tHumeral\\tLocking\\tPlate\\t \\t\\n\\t\\n1\\n00-2358-001-06\\t\\nProximal\\tLateral\\tHumeral\\tLocking\\tPlate\\t \\t\\n\\t\\n1\\n00-2358-001-08\\t\\nProximal\\tLateral\\tHumeral\\tLocking\\tPlate\\t \\t\\n\\t\\n1\\n00-2358-001-12\\t\\nProximal\\tLateral\\tHumeral\\tLocking\\tPlate\\t \\t\\n\\t\\n1\\n00-2358-001-16\\t\\nProximal\\tLateral\\tHumeral\\tLocking\\tPlate\\t \\t\\n\\t\\n1\\n3.5mm/2.7mm Periarticular Locking Instrument Set \\nQty \\n00-2360-000-02 \\n3.5mm/2.7mm Periarticular Locking  \\n \\nInstrument Set (Contains the following) \\n00-1147-071-00\\t\\t\\nCleaning\\tStylet\\t\\t\\n1\\n00-1147-076-00\\t\\t\\nCleaning\\tBrush\\t\\t\\n1\\n00-2358-040-00\\t\\t\\n\\t3.5mm/2.7mm\\tLocking\\tScrew\\tand\\tInstrument\\t\\t\\nCase\\t\\t\\n1\\n00-2360-011-01\\t\\t\\n\\t3.5mm/2.7mm\\tLocking\\tPlate\\tReduction\\t\\t\\nInstrument\\t\\t\\n2\\n00-2360-011-02\\t\\t\\n\\t3.5mm/2.7mm\\tLocking\\tPlate\\tReduction\\t\\t\\nSleeve\\t\\t\\n2\\n00-2360-012-03\\t\\t\\nPlate\\tReduction\\tSpin\\tKnob\\t\\t\\n2\\n00-2360-020-20\\t\\t\\n2.0mm\\tStandard\\tCannula\\t\\t\\n4\\n00-2360-020-27\\t\\t\\n2.7mm\\tStandard\\tCannula\\t\\t\\n4\\n00-2360-021-16\\t\\t\\n1.6mm\\tStandard\\tCannula\\t\\t\\n4\\n00-2360-033-16\\t\\t\\n\\t1.6mm\\tStandard\\tDrill-Tip\\tGuide\\tWire\\t\\t\\n(5\\tper\\tBox)\\t\\t\\n2\\tBx\\n00-2360-040-35\\t\\t\\n\\t3.5mm/2.7mm\\tLocking\\tScrew\\tStandard\\t\\t\\nDepth\\tGauge\\t\\t\\n1\\n00-2360-041-35\\t\\t\\n\\t3.5mm\\tCannulated\\tLocking\\tScrew\\t\\t\\nDepth\\tGauge\\t\\t\\n1\\n00-2360-053-27\\t\\t\\n2.7mm\\tLocking\\tScrew\\tTap\\t\\t\\n2\\n00-2360-053-35\\t\\t\\n3.5mm\\tLocking\\tScrew\\tTap\\t\\t\\n2\\n00-2360-054-35\\t\\t\\n3.5mm\\tCannulated\\tLocking\\tScrew\\tTap\\t\\t\\n2\\n00-2360-065-00\\t\\t\\n2.5mm\\tScrewdriver\\tStop\\tRing\\t\\t\\n1\\n00-2360-065-25\\t\\t\\n2.5mm\\tHex\\tStandard\\tScrewdriver\\t\\t\\n2\\n00-2360-066-25\\t\\t\\n\\t2.5mm\\tHex\\tStandard\\tCannulated\\t\\t\\nScrewdriver\\t\\t\\n2\\n00-2360-071-27\\t\\t\\n2.7mm\\tStandard\\tCannulated\\tDrill\\t\\t\\n2\\n00-2360-080-00\\t\\t\\nTorque-Limiting\\tAttachment\\t\\t\\n1\\n00-2360-086-00\\t\\t\\nModular\\tHandle\\t\\t\\n1\\n00-2360-088-00\\t\\t\\n3.5mm/2.7mm\\tCannula\\tInserter\\t\\t\\n1\\n00-2360-175-20\\t\\t\\n2.0mm\\tStandard\\tDrill\\t\\t\\n2\\n00-2360-205-27\\t\\t\\n2.7mm\\tStandard\\tDrill\\t\\t\\n2\\n00-4812-045-00\\t\\t\\nLarge\\tHex\\tScrewdriver\\t\\t\\n1\\n00-2360-050-25\\t\\t\\n2.5mm\\tHex\\tForward\\tCaptive\\tScrewdriver\\t\\t\\n0\\n00-2360-051-25\\t\\t\\n\\t2.5mm\\tHex\\tCannulated\\tForward\\tCaptive\\t\\t\\nScrewdriver\\t\\t\\n0\\nCompatible with:\\nZimmer Periarticular 3.5mm Self-Tapping Cortical Screws; Zimmer \\nPeriarticular 4.0mm Cancellous Screws\\nScrew and Instrument Sets\\n00-2360-000-02\\t\\n3.5mm/2.7mm\\tPeriarticular\\tLocking\\tInstrument\\tSet\\n00-2359-000-02\\t\\n3.5mm/2.7mm\\tLocking\\tScrew\\tSet\\n00-2358-000-05\\t\\nProximal\\tLateral\\tHumeral\\tLocking\\tPlate\\tSet\\n00-2360-000-14\\t\\nProximal\\tLateral\\tHumeral\\tPlate\\tStandard\\tJig\\tSet\\nProximal Lateral Humeral Plate Standard Jig Set \\nQty\\n00-2360-000-14 \\nProximal Lateral Humeral Plate  \\n \\nStandard Jig Set (Contains the following)  \\n \\n00-2360-092-01\\t\\nProximal\\tLateral\\tHumeral\\tPlate\\tJig,\\tRight\\t\\n1\\n00-2360-092-02\\t\\nProximal\\tLateral\\tHumeral\\tPlate\\tJig,\\tLeft\\t\\n1\\n00-2358-030-05\\t\\t\\nProximal\\tLateral\\tHumeral\\tLocking\\tPlate\\tCase\\t\\n1\\n'"
      ]
     },
     "execution_count": 139,
     "metadata": {},
     "output_type": "execute_result"
    }
   ],
   "source": [
    "text[5]"
   ]
  },
  {
   "cell_type": "code",
   "execution_count": 140,
   "metadata": {},
   "outputs": [],
   "source": [
    "# Here we are extracting ONLY the pages that contain tables.\n",
    "pages_of_text = text[5:-1]"
   ]
  },
  {
   "cell_type": "code",
   "execution_count": 144,
   "metadata": {},
   "outputs": [
    {
     "data": {
      "text/plain": [
       "12"
      ]
     },
     "execution_count": 144,
     "metadata": {},
     "output_type": "execute_result"
    }
   ],
   "source": [
    "len(pages_of_text)"
   ]
  },
  {
   "cell_type": "markdown",
   "metadata": {},
   "source": [
    "--------\n",
    "This was a see the printed output of each page....output not shown for brevity's sake......."
   ]
  },
  {
   "cell_type": "code",
   "execution_count": null,
   "metadata": {},
   "outputs": [],
   "source": [
    "for count, page in enumerate(pages_of_text[0:1]):\n",
    "    print('-------------------------------------')\n",
    "    print(f\"Page{count}\")\n",
    "    \n",
    "    print('-------------------------------------')\n",
    "    print(page)\n",
    "    print('-------------------------------------')"
   ]
  },
  {
   "cell_type": "markdown",
   "metadata": {},
   "source": [
    "-------"
   ]
  },
  {
   "cell_type": "code",
   "execution_count": 145,
   "metadata": {},
   "outputs": [
    {
     "data": {
      "text/plain": [
       "list"
      ]
     },
     "execution_count": 145,
     "metadata": {},
     "output_type": "execute_result"
    }
   ],
   "source": [
    "type(pages_of_text)"
   ]
  },
  {
   "cell_type": "code",
   "execution_count": 146,
   "metadata": {},
   "outputs": [
    {
     "data": {
      "text/plain": [
       "str"
      ]
     },
     "execution_count": 146,
     "metadata": {},
     "output_type": "execute_result"
    }
   ],
   "source": [
    "type(pages_of_text[0])"
   ]
  },
  {
   "cell_type": "markdown",
   "metadata": {},
   "source": [
    "This is a brute attempt to see what happens...."
   ]
  },
  {
   "cell_type": "code",
   "execution_count": 151,
   "metadata": {},
   "outputs": [],
   "source": [
    "zimmer_list_df = pd.DataFrame(pages_of_text)"
   ]
  },
  {
   "cell_type": "code",
   "execution_count": 148,
   "metadata": {},
   "outputs": [
    {
     "data": {
      "text/html": [
       "<div>\n",
       "<style scoped>\n",
       "    .dataframe tbody tr th:only-of-type {\n",
       "        vertical-align: middle;\n",
       "    }\n",
       "\n",
       "    .dataframe tbody tr th {\n",
       "        vertical-align: top;\n",
       "    }\n",
       "\n",
       "    .dataframe thead th {\n",
       "        text-align: right;\n",
       "    }\n",
       "</style>\n",
       "<table border=\"1\" class=\"dataframe\">\n",
       "  <thead>\n",
       "    <tr style=\"text-align: right;\">\n",
       "      <th></th>\n",
       "      <th>0</th>\n",
       "    </tr>\n",
       "  </thead>\n",
       "  <tbody>\n",
       "    <tr>\n",
       "      <th>0</th>\n",
       "      <td>Ordering\\tInformation\\n   \\n3.5mm Proximal Lat...</td>\n",
       "    </tr>\n",
       "    <tr>\n",
       "      <th>1</th>\n",
       "      <td>Item Number \\nDescription \\nQty\\n00-2359-030-3...</td>\n",
       "    </tr>\n",
       "    <tr>\n",
       "      <th>2</th>\n",
       "      <td>Ordering\\tInformation\\t(continued)\\n   \\nDISTa...</td>\n",
       "    </tr>\n",
       "    <tr>\n",
       "      <th>3</th>\n",
       "      <td>Item Number \\nDescription \\nQty\\n00-2359-008-2...</td>\n",
       "    </tr>\n",
       "    <tr>\n",
       "      <th>4</th>\n",
       "      <td>Ordering\\tInformation\\t(continued)\\n   \\nDISTa...</td>\n",
       "    </tr>\n",
       "    <tr>\n",
       "      <th>5</th>\n",
       "      <td>Item Number \\nDescription \\nQty\\n00-2359-008-2...</td>\n",
       "    </tr>\n",
       "    <tr>\n",
       "      <th>6</th>\n",
       "      <td>Ordering\\tInformation\\t(continued)\\n   \\n5.5mm...</td>\n",
       "    </tr>\n",
       "    <tr>\n",
       "      <th>7</th>\n",
       "      <td>5.5mm/4.5mm Locking Screw Set \\nItem Number \\n...</td>\n",
       "    </tr>\n",
       "    <tr>\n",
       "      <th>8</th>\n",
       "      <td>Ordering\\tInformation\\t(continued)\\n   \\nDISTa...</td>\n",
       "    </tr>\n",
       "    <tr>\n",
       "      <th>9</th>\n",
       "      <td>Item Number \\nDescription \\nQty\\n00-2359-030-3...</td>\n",
       "    </tr>\n",
       "    <tr>\n",
       "      <th>10</th>\n",
       "      <td>Ordering\\tInformation\\t(continued)\\n   \\nCompa...</td>\n",
       "    </tr>\n",
       "    <tr>\n",
       "      <th>11</th>\n",
       "      <td>Item Number \\nDescription \\nQty\\n00-2359-030-3...</td>\n",
       "    </tr>\n",
       "  </tbody>\n",
       "</table>\n",
       "</div>"
      ],
      "text/plain": [
       "                                                    0\n",
       "0   Ordering\\tInformation\\n   \\n3.5mm Proximal Lat...\n",
       "1   Item Number \\nDescription \\nQty\\n00-2359-030-3...\n",
       "2   Ordering\\tInformation\\t(continued)\\n   \\nDISTa...\n",
       "3   Item Number \\nDescription \\nQty\\n00-2359-008-2...\n",
       "4   Ordering\\tInformation\\t(continued)\\n   \\nDISTa...\n",
       "5   Item Number \\nDescription \\nQty\\n00-2359-008-2...\n",
       "6   Ordering\\tInformation\\t(continued)\\n   \\n5.5mm...\n",
       "7   5.5mm/4.5mm Locking Screw Set \\nItem Number \\n...\n",
       "8   Ordering\\tInformation\\t(continued)\\n   \\nDISTa...\n",
       "9   Item Number \\nDescription \\nQty\\n00-2359-030-3...\n",
       "10  Ordering\\tInformation\\t(continued)\\n   \\nCompa...\n",
       "11  Item Number \\nDescription \\nQty\\n00-2359-030-3..."
      ]
     },
     "execution_count": 148,
     "metadata": {},
     "output_type": "execute_result"
    }
   ],
   "source": [
    "# We see there are 12 rows which correlates to the number of pages....so each row equals one page\n",
    "zimmer_list_df"
   ]
  },
  {
   "cell_type": "markdown",
   "metadata": {},
   "source": [
    "Pandas takes a 2D array....so it is convenient to have the information as a list of lists....just straight text isn't going to get us anything"
   ]
  },
  {
   "cell_type": "code",
   "execution_count": 149,
   "metadata": {},
   "outputs": [
    {
     "ename": "ValueError",
     "evalue": "DataFrame constructor not properly called!",
     "output_type": "error",
     "traceback": [
      "\u001b[0;31m---------------------------------------------------------------------------\u001b[0m",
      "\u001b[0;31mValueError\u001b[0m                                Traceback (most recent call last)",
      "\u001b[0;32m<ipython-input-149-451865e5e9e4>\u001b[0m in \u001b[0;36m<module>\u001b[0;34m\u001b[0m\n\u001b[0;32m----> 1\u001b[0;31m \u001b[0mdf_page_1\u001b[0m \u001b[0;34m=\u001b[0m \u001b[0mpd\u001b[0m\u001b[0;34m.\u001b[0m\u001b[0mDataFrame\u001b[0m\u001b[0;34m(\u001b[0m\u001b[0mpages_of_text\u001b[0m\u001b[0;34m[\u001b[0m\u001b[0;36m0\u001b[0m\u001b[0;34m]\u001b[0m\u001b[0;34m)\u001b[0m\u001b[0;34m\u001b[0m\u001b[0;34m\u001b[0m\u001b[0m\n\u001b[0m",
      "\u001b[0;32m/usr/local/lib/python3.8/site-packages/pandas/core/frame.py\u001b[0m in \u001b[0;36m__init__\u001b[0;34m(self, data, index, columns, dtype, copy)\u001b[0m\n\u001b[1;32m    588\u001b[0m         \u001b[0;32melse\u001b[0m\u001b[0;34m:\u001b[0m\u001b[0;34m\u001b[0m\u001b[0;34m\u001b[0m\u001b[0m\n\u001b[1;32m    589\u001b[0m             \u001b[0;32mif\u001b[0m \u001b[0mindex\u001b[0m \u001b[0;32mis\u001b[0m \u001b[0;32mNone\u001b[0m \u001b[0;32mor\u001b[0m \u001b[0mcolumns\u001b[0m \u001b[0;32mis\u001b[0m \u001b[0;32mNone\u001b[0m\u001b[0;34m:\u001b[0m\u001b[0;34m\u001b[0m\u001b[0;34m\u001b[0m\u001b[0m\n\u001b[0;32m--> 590\u001b[0;31m                 \u001b[0;32mraise\u001b[0m \u001b[0mValueError\u001b[0m\u001b[0;34m(\u001b[0m\u001b[0;34m\"DataFrame constructor not properly called!\"\u001b[0m\u001b[0;34m)\u001b[0m\u001b[0;34m\u001b[0m\u001b[0;34m\u001b[0m\u001b[0m\n\u001b[0m\u001b[1;32m    591\u001b[0m \u001b[0;34m\u001b[0m\u001b[0m\n\u001b[1;32m    592\u001b[0m             \u001b[0;32mif\u001b[0m \u001b[0;32mnot\u001b[0m \u001b[0mdtype\u001b[0m\u001b[0;34m:\u001b[0m\u001b[0;34m\u001b[0m\u001b[0;34m\u001b[0m\u001b[0m\n",
      "\u001b[0;31mValueError\u001b[0m: DataFrame constructor not properly called!"
     ]
    }
   ],
   "source": [
    "df_page_1 = pd.DataFrame(pages_of_text[0])"
   ]
  },
  {
   "cell_type": "markdown",
   "metadata": {},
   "source": [
    "\n",
    "\n",
    "If we can clean this up a bit maybe it would go into a `df`, though...."
   ]
  },
  {
   "cell_type": "markdown",
   "metadata": {},
   "source": [
    "----------\n",
    "\n",
    "# Fitz: what the documentation says\n",
    "\n",
    "It seems that in order to extract text, the docs tells you to create a text file with `sys` into which the text you extract will go."
   ]
  },
  {
   "cell_type": "markdown",
   "metadata": {},
   "source": [
    "    import sys, fitz\n",
    "    fname = sys.argv[1]  # get document filename\n",
    "    doc = fitz.open(fname)  # open document\n",
    "    out = open(fname + \".txt\", \"wb\")  # open text output\n",
    "    for page in doc:  # iterate the document pages\n",
    "        text = page.get_text().encode(\"utf8\")  # get plain text (is in UTF-8)\n",
    "        out.write(text)  # write text of page\n",
    "        out.write(bytes((12,)))  # write page delimiter (form feed 0x0C)\n",
    "    out.close()"
   ]
  },
  {
   "cell_type": "markdown",
   "metadata": {},
   "source": [
    "**!!! First !!!**\n",
    "<br>I don't understand `sys.argv[1]`"
   ]
  },
  {
   "cell_type": "code",
   "execution_count": 96,
   "metadata": {},
   "outputs": [
    {
     "name": "stdout",
     "output_type": "stream",
     "text": [
      "['/usr/local/lib/python3.8/site-packages/ipykernel_launcher.py', '-f', '/Users/claytonlouden/Library/Jupyter/runtime/kernel-978be9f7-6ada-4847-988f-8297c941dd0e.json'] 3\n"
     ]
    }
   ],
   "source": [
    "print(sys.argv, len(sys.argv))"
   ]
  },
  {
   "cell_type": "code",
   "execution_count": 97,
   "metadata": {},
   "outputs": [
    {
     "name": "stdout",
     "output_type": "stream",
     "text": [
      "-f\n"
     ]
    }
   ],
   "source": [
    "print(sys.argv[1])"
   ]
  },
  {
   "cell_type": "markdown",
   "metadata": {},
   "source": [
    "[Here](https://stackoverflow.com/questions/4117530/sys-argv1-meaning-in-script) is a very good explanation of `sys.argv` on (of all places) stackoverflow.....I wish there were more answers like this.....\n",
    "\n",
    "\n",
    "But after a few attempts at using `fname = sys.argv[1]` it only ended up naming the file `-f.text`.... not very useful and I am more confused why this was step was included.....\n",
    "\n",
    "-------\n",
    "\n",
    "### Here we have created the text file\n",
    "\n",
    "Have decided that the `sys.argv[1]` step is not useful in this case."
   ]
  },
  {
   "cell_type": "code",
   "execution_count": 130,
   "metadata": {},
   "outputs": [],
   "source": [
    "doc = fitz.open(pdf_path)  # open the pdf document\n",
    "out = open(\"../data/\" + \"zimmer\" + \".txt\", \"wb\")  # open text output into ../data/\n",
    "for page in doc:  # iterate the document pages\n",
    "    t = page.get_text().encode(\"utf8\")  # get plain text (is in UTF-8)\n",
    "    out.write(t)  # write text of page\n",
    "    out.write(bytes((12,)))  # write page delimiter (form feed 0x0C)\n",
    "out.close()"
   ]
  },
  {
   "cell_type": "code",
   "execution_count": 131,
   "metadata": {},
   "outputs": [],
   "source": [
    "zimmer_text=open(\"../data/zimmer.txt\",'r')\n",
    "read_text = zimmer_text.read()"
   ]
  },
  {
   "cell_type": "code",
   "execution_count": 132,
   "metadata": {},
   "outputs": [
    {
     "name": "stdout",
     "output_type": "stream",
     "text": [
      "62673\n"
     ]
    },
    {
     "data": {
      "text/plain": [
       "'With the Periarticular Locking Plate System, Zimmer offers advanced solutions for \\nthe management of comminuted fractures and fractures in which deficient bone \\nstock or poor bone quality is encountered. The system combines anatomically \\ncontoured periarticular plates with locking screw technology. The unique plate \\ndesigns feature a transitioned profile that is thinner in the metaphyseal and  \\nthicker in the diaphyseal areas. Locking screw holes  \\nare combined with compression slots,  \\nso that the plates can be used  \\nboth as locking devices and for  \\nfracture compression.\\nAdvanced fabricating technologies are guided \\nby data from a digital laser scanner that helps \\nto determine optimal implant contours.\\nPeriarticular Locking Plate System\\nCombining anatomic fit with locking technology\\n Precontoured plates that follow  \\nthe shape of the bone \\nOne of the most difficult challenges in the treatment \\nof periarticular fractures is bending the plate to fit \\nthe specific profile of the bone. Zimmer’s advanced \\nperiarticular plates were developed using digital laser \\nbone-scanning technology. The data was used to \\nguide advanced fabricating technologies in the precise \\nmanufacture of precontoured implants. The Periarticular \\nLocking Plates closely follow the shape of the bone to  \\ncreate a fit that requires little or no additional bending.\\nLocking in the perfect fit\\n97-2347-601-00  5ML Printed in U.S.A. ©2006 Zimmer, Inc.\\n   Zimmer ®\\nPeriarticular\\nLocking Plate  \\nSystem\\n+H124972347601001/$061113K067\\nContact your Zimmer representative or visit us at www.zimmer.com\\n\\x0cPULL\\nHERE\\n\\x0cWith the Periarticular Locking Plate System, Zimmer offers advanced solutions for \\nthe management of comminuted fractures and fractures in which deficient bone \\nstock or poor bone quality is encountered. The system combines anatomically \\ncontoured periarticular plates with locking screw technology. The unique plate \\ndesigns feature a transitioned profile that is thinner in the metaphyseal and  \\nthicker in the diaphyseal areas. Locking screw holes  \\nare combined with compression slots,  \\nso that the plates can be used  \\nboth as locking devices and for  \\nfracture compression.\\nAdvanced fabricating technologies are guided \\nby data from a digital laser scanner that helps \\nto determine optimal implant contours.\\nPeriarticular Locking Plate System\\nCombining anatomic fit with locking technology\\n Precontoured plates that follow  \\nthe shape of the bone \\nOne of the most difficult challenges in the treatment \\nof periarticular fractures is bending the plate to fit \\nthe specific profile of the bone. Zimmer’s advanced \\nperiarticular plates were developed using digital laser \\nbone-scanning technology. The data was used to \\nguide advanced fabricating technologies in the precise \\nmanufacture of precontoured implants. The Periarticular \\nLocking Plates closely follow the shape of the bone to  \\ncreate a fit that requires little or no additional bending.\\nLocking in the perfect fit\\n97-2347-601-00  5ML Printed in U.S.A. ©2006 Zimmer, Inc.\\n   Zimmer ®\\nPeriarticular\\nLocking Plate  \\nSystem\\n+H124972347601001/$061113K067\\nContact your Zimmer representative or visit us at www.zimmer.com\\n\\x0cWith the Periarticular Locking Plate System, Zimmer offers advanced solutions for \\nthe management of comminuted fractures and fractures in which deficient bone \\nstock or poor bone quality is encountered. The system combines anatomically \\ncontoured periarticular plates with locking screw technology. The unique plate \\ndesigns feature a transitioned profile that is thinner in the metaphyseal and  \\nthicker in the diaphyseal areas. Locking screw holes  \\nare combined with compression slots,  \\nso that the plates can be used  \\nboth as locking devices and for  \\nfracture compression.\\nAdvanced fabricating technologies are guided \\nby data from a digital laser scanner that helps \\nto determine optimal implant contours.\\nPeriarticular Locking Plate System\\nCombining anatomic fit with locking technology\\n Precontoured plates that follow  \\nthe shape of the bone \\nOne of the most difficult challenges in the treatment \\nof periarticular fractures is bending the plate to fit \\nthe specific profile of the bone. Zimmer’s advanced \\nperiarticular plates were developed using digital laser \\nbone-scanning technology. The data was used to \\nguide advanced fabricating technologies in the precise \\nmanufacture of precontoured implants. The Periarticular \\nLocking Plates closely follow the shape of the bone to  \\ncreate a fit that requires little or no additional bending.\\nLocking in the perfect fit\\n97-2347-601-00  5ML Printed in U.S.A. ©2006 Zimmer, Inc.\\n   Zimmer ®\\nPeriarticular\\nLocking Plate  \\nSystem\\n+H124972347601001/$061113K067\\nContact your Zimmer representative or visit us at www.zimmer.com\\n\\x0c\\t Low-profile\\tfixation\\t\\naccommodates\\tboth\\t\\npatient\\tand\\tsurgeon\\nZimmer’s periarticular plate designs \\ndecrease in thickness toward the \\njoint line to reduce the potential \\nfor soft-tissue irritation and to \\nsimplify any additional contouring'"
      ]
     },
     "execution_count": 132,
     "metadata": {},
     "output_type": "execute_result"
    }
   ],
   "source": [
    "# This returns a long string of 62,673 chracters\n",
    "print(len(read_text))\n",
    "read_text[:5000]"
   ]
  },
  {
   "cell_type": "markdown",
   "metadata": {},
   "source": [
    "-------\n",
    "# Let's take a legitmate stab at cleaning"
   ]
  },
  {
   "cell_type": "markdown",
   "metadata": {},
   "source": [
    "These are some of the characters we have to clean up.\n",
    "- \\b is backspace\n",
    "- \\n is newline\n",
    "- \\r is carriage return (return to left margin)\n",
    "- \\t is tab\n",
    "\n",
    "We are also going to use the `list` of `lists` instead of the single `string` because we can easily choose which pages to focus on which cuts out any work to try to find the beginning of the tabular info.\n",
    "\n",
    "**Remember** the items of the `lists` we wanted were saved to `pages_of_text`"
   ]
  },
  {
   "cell_type": "code",
   "execution_count": 181,
   "metadata": {},
   "outputs": [],
   "source": [
    "drop_characters = [\" \\n\", \" \\n \", \"\\n\", \"\\t\"]"
   ]
  },
  {
   "cell_type": "code",
   "execution_count": 182,
   "metadata": {},
   "outputs": [],
   "source": [
    "page_one = pages_of_text[0]"
   ]
  },
  {
   "cell_type": "code",
   "execution_count": 183,
   "metadata": {},
   "outputs": [],
   "source": [
    "for char in drop_characters:\n",
    "    if char in page_one:\n",
    "        rp = page_one.replace(char,'')\n",
    "        sp = page_one.split(char)"
   ]
  },
  {
   "cell_type": "code",
   "execution_count": 191,
   "metadata": {},
   "outputs": [],
   "source": [
    "# '\\s' finds all whitespace characters\n",
    "clean_one = re.sub(r'\\s', ' ',page_one)"
   ]
  },
  {
   "cell_type": "code",
   "execution_count": 192,
   "metadata": {},
   "outputs": [
    {
     "data": {
      "text/plain": [
       "'Ordering Information     3.5mm Proximal Lateral Humeral Locking Plate    Left  Right  Description  Holes  Length  00-2358-002-04   00-2358-001-04   Proximal Lateral Humeral Locking   Plate 4   90mm  00-2358-002-06   00-2358-001-06   Proximal Lateral Humeral Locking   Plate 6   114mm  00-2358-002-08   00-2358-001-08   Proximal Lateral Humeral Locking   Plate 8   138mm  00-2358-002-12   00-2358-001-12   Proximal Lateral Humeral Locking   Plate 12   186mm  00-2358-002-16   00-2358-001-16   Proximal Lateral Humeral Locking   Plate 16   234mm PrOxIMaL LaTeraL HuMeraL LOckIng PLaTeS Proximal Lateral Humeral Locking Plate Set      Qty 00-2358-000-05  Proximal Lateral Humeral Locking     Plate Set (Contains the following)      00-2358-002-04  Proximal Lateral Humeral Locking Plate      1 00-2358-002-06  Proximal Lateral Humeral Locking Plate      1 00-2358-002-08  Proximal Lateral Humeral Locking Plate      1 00-2358-002-12  Proximal Lateral Humeral Locking Plate      1 00-2358-002-16  Proximal Lateral Humeral Locking Plate      1 00-2358-001-04  Proximal Lateral Humeral Locking Plate      1 00-2358-001-06  Proximal Lateral Humeral Locking Plate      1 00-2358-001-08  Proximal Lateral Humeral Locking Plate      1 00-2358-001-12  Proximal Lateral Humeral Locking Plate      1 00-2358-001-16  Proximal Lateral Humeral Locking Plate      1 3.5mm/2.7mm Periarticular Locking Instrument Set  Qty  00-2360-000-02  3.5mm/2.7mm Periarticular Locking     Instrument Set (Contains the following)  00-1147-071-00   Cleaning Stylet   1 00-1147-076-00   Cleaning Brush   1 00-2358-040-00    3.5mm/2.7mm Locking Screw and Instrument   Case   1 00-2360-011-01    3.5mm/2.7mm Locking Plate Reduction   Instrument   2 00-2360-011-02    3.5mm/2.7mm Locking Plate Reduction   Sleeve   2 00-2360-012-03   Plate Reduction Spin Knob   2 00-2360-020-20   2.0mm Standard Cannula   4 00-2360-020-27   2.7mm Standard Cannula   4 00-2360-021-16   1.6mm Standard Cannula   4 00-2360-033-16    1.6mm Standard Drill-Tip Guide Wire   (5 per Box)   2 Bx 00-2360-040-35    3.5mm/2.7mm Locking Screw Standard   Depth Gauge   1 00-2360-041-35    3.5mm Cannulated Locking Screw   Depth Gauge   1 00-2360-053-27   2.7mm Locking Screw Tap   2 00-2360-053-35   3.5mm Locking Screw Tap   2 00-2360-054-35   3.5mm Cannulated Locking Screw Tap   2 00-2360-065-00   2.5mm Screwdriver Stop Ring   1 00-2360-065-25   2.5mm Hex Standard Screwdriver   2 00-2360-066-25    2.5mm Hex Standard Cannulated   Screwdriver   2 00-2360-071-27   2.7mm Standard Cannulated Drill   2 00-2360-080-00   Torque-Limiting Attachment   1 00-2360-086-00   Modular Handle   1 00-2360-088-00   3.5mm/2.7mm Cannula Inserter   1 00-2360-175-20   2.0mm Standard Drill   2 00-2360-205-27   2.7mm Standard Drill   2 00-4812-045-00   Large Hex Screwdriver   1 00-2360-050-25   2.5mm Hex Forward Captive Screwdriver   0 00-2360-051-25    2.5mm Hex Cannulated Forward Captive   Screwdriver   0 Compatible with: Zimmer Periarticular 3.5mm Self-Tapping Cortical Screws; Zimmer  Periarticular 4.0mm Cancellous Screws Screw and Instrument Sets 00-2360-000-02  3.5mm/2.7mm Periarticular Locking Instrument Set 00-2359-000-02  3.5mm/2.7mm Locking Screw Set 00-2358-000-05  Proximal Lateral Humeral Locking Plate Set 00-2360-000-14  Proximal Lateral Humeral Plate Standard Jig Set Proximal Lateral Humeral Plate Standard Jig Set  Qty 00-2360-000-14  Proximal Lateral Humeral Plate     Standard Jig Set (Contains the following)     00-2360-092-01  Proximal Lateral Humeral Plate Jig, Right  1 00-2360-092-02  Proximal Lateral Humeral Plate Jig, Left  1 00-2358-030-05   Proximal Lateral Humeral Locking Plate Case  1 '"
      ]
     },
     "execution_count": 192,
     "metadata": {},
     "output_type": "execute_result"
    }
   ],
   "source": [
    "clean_one"
   ]
  },
  {
   "cell_type": "code",
   "execution_count": 209,
   "metadata": {},
   "outputs": [],
   "source": [
    "split_one = re.split(r\"\\s{1,}\",clean_one)"
   ]
  },
  {
   "cell_type": "code",
   "execution_count": 212,
   "metadata": {},
   "outputs": [],
   "source": [
    "split_one = split_one[2:]"
   ]
  },
  {
   "cell_type": "code",
   "execution_count": 216,
   "metadata": {},
   "outputs": [
    {
     "data": {
      "text/plain": [
       "['3.5mm',\n",
       " 'Proximal',\n",
       " 'Lateral',\n",
       " 'Humeral',\n",
       " 'Locking',\n",
       " 'Plate',\n",
       " 'Left',\n",
       " 'Right',\n",
       " 'Description',\n",
       " 'Holes',\n",
       " 'Length',\n",
       " '00-2358-002-04',\n",
       " '00-2358-001-04',\n",
       " 'Proximal',\n",
       " 'Lateral',\n",
       " 'Humeral',\n",
       " 'Locking',\n",
       " 'Plate',\n",
       " '4',\n",
       " '90mm',\n",
       " '00-2358-002-06',\n",
       " '00-2358-001-06',\n",
       " 'Proximal',\n",
       " 'Lateral',\n",
       " 'Humeral',\n",
       " 'Locking',\n",
       " 'Plate',\n",
       " '6',\n",
       " '114mm',\n",
       " '00-2358-002-08',\n",
       " '00-2358-001-08',\n",
       " 'Proximal',\n",
       " 'Lateral',\n",
       " 'Humeral',\n",
       " 'Locking',\n",
       " 'Plate',\n",
       " '8',\n",
       " '138mm',\n",
       " '00-2358-002-12',\n",
       " '00-2358-001-12',\n",
       " 'Proximal',\n",
       " 'Lateral',\n",
       " 'Humeral',\n",
       " 'Locking',\n",
       " 'Plate',\n",
       " '12',\n",
       " '186mm',\n",
       " '00-2358-002-16',\n",
       " '00-2358-001-16',\n",
       " 'Proximal']"
      ]
     },
     "execution_count": 216,
     "metadata": {},
     "output_type": "execute_result"
    }
   ],
   "source": [
    "split_one[:50]"
   ]
  },
  {
   "cell_type": "markdown",
   "metadata": {},
   "source": [
    "**COMMENTS**\n",
    "\n",
    "This is really clean and quick.....but....a time consuming weeding out of the details. It is better organized than the PyPDF2.\n",
    "\n"
   ]
  },
  {
   "cell_type": "code",
   "execution_count": null,
   "metadata": {},
   "outputs": [],
   "source": []
  }
 ],
 "metadata": {
  "kernelspec": {
   "display_name": "Python 3",
   "language": "python",
   "name": "python3"
  },
  "language_info": {
   "codemirror_mode": {
    "name": "ipython",
    "version": 3
   },
   "file_extension": ".py",
   "mimetype": "text/x-python",
   "name": "python",
   "nbconvert_exporter": "python",
   "pygments_lexer": "ipython3",
   "version": "3.8.5"
  }
 },
 "nbformat": 4,
 "nbformat_minor": 4
}
