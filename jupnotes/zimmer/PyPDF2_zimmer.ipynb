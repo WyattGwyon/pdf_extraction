{
 "cells": [
  {
   "cell_type": "code",
   "execution_count": 43,
   "metadata": {},
   "outputs": [],
   "source": [
    "import PyPDF2\n",
    "import re"
   ]
  },
  {
   "cell_type": "markdown",
   "metadata": {},
   "source": [
    "# What is PyPDF2?"
   ]
  },
  {
   "cell_type": "code",
   "execution_count": 24,
   "metadata": {},
   "outputs": [],
   "source": [
    "# We will open the file in `read binary` mode\n",
    "# creating a pdf file object\n",
    "pdf_path = '../data/ZIMMER-BIOMET_PERI-ARTICULATION.pdf'\n",
    "pdfFileObj = open(pdf_path, 'rb') "
   ]
  },
  {
   "cell_type": "code",
   "execution_count": 26,
   "metadata": {},
   "outputs": [
    {
     "data": {
      "text/plain": [
       "_io.BufferedReader"
      ]
     },
     "execution_count": 26,
     "metadata": {},
     "output_type": "execute_result"
    }
   ],
   "source": [
    "type(pdfFileObj)"
   ]
  },
  {
   "cell_type": "code",
   "execution_count": 33,
   "metadata": {},
   "outputs": [
    {
     "name": "stdout",
     "output_type": "stream",
     "text": [
      "<_io.BufferedReader name='../data/ZIMMER-BIOMET_PERI-ARTICULATION.pdf'>\n"
     ]
    }
   ],
   "source": [
    "print(pdfFileObj)"
   ]
  },
  {
   "cell_type": "code",
   "execution_count": 25,
   "metadata": {},
   "outputs": [],
   "source": [
    "# creating a pdf reader object \n",
    "pdfReader = PyPDF2.PdfFileReader(pdfFileObj) "
   ]
  },
  {
   "cell_type": "code",
   "execution_count": 27,
   "metadata": {},
   "outputs": [
    {
     "data": {
      "text/plain": [
       "PyPDF2.pdf.PdfFileReader"
      ]
     },
     "execution_count": 27,
     "metadata": {},
     "output_type": "execute_result"
    }
   ],
   "source": [
    "type(pdfReader)"
   ]
  },
  {
   "cell_type": "code",
   "execution_count": 34,
   "metadata": {},
   "outputs": [
    {
     "name": "stdout",
     "output_type": "stream",
     "text": [
      "<PyPDF2.pdf.PdfFileReader object at 0x1046803d0>\n"
     ]
    }
   ],
   "source": [
    "print(pdfReader)"
   ]
  },
  {
   "cell_type": "code",
   "execution_count": 35,
   "metadata": {},
   "outputs": [],
   "source": [
    "pdf_page_list = []\n",
    "pageObj = pdfReader.getPage(5)\n",
    "pdf_page_list += pageObj.extractText()\n"
   ]
  },
  {
   "cell_type": "code",
   "execution_count": 29,
   "metadata": {},
   "outputs": [
    {
     "data": {
      "text/plain": [
       "PyPDF2.pdf.PageObject"
      ]
     },
     "execution_count": 29,
     "metadata": {},
     "output_type": "execute_result"
    }
   ],
   "source": [
    "type(pageObj)"
   ]
  },
  {
   "cell_type": "code",
   "execution_count": 30,
   "metadata": {},
   "outputs": [
    {
     "data": {
      "text/plain": [
       "list"
      ]
     },
     "execution_count": 30,
     "metadata": {},
     "output_type": "execute_result"
    }
   ],
   "source": [
    "type(pdf_page_list)"
   ]
  },
  {
   "cell_type": "code",
   "execution_count": 31,
   "metadata": {},
   "outputs": [
    {
     "data": {
      "text/plain": [
       "3759"
      ]
     },
     "execution_count": 31,
     "metadata": {},
     "output_type": "execute_result"
    }
   ],
   "source": [
    "len(pdf_page_list)"
   ]
  },
  {
   "cell_type": "code",
   "execution_count": null,
   "metadata": {},
   "outputs": [],
   "source": [
    "# OUTPUT IS A LIST OF EACH LETTER......\n",
    "pdf_page_list"
   ]
  },
  {
   "cell_type": "code",
   "execution_count": 16,
   "metadata": {},
   "outputs": [
    {
     "name": "stdout",
     "output_type": "stream",
     "text": [
      "18\n"
     ]
    }
   ],
   "source": [
    "# printing number of pages in pdf file\n",
    "print(pdfReader.numPages)"
   ]
  },
  {
   "cell_type": "code",
   "execution_count": 17,
   "metadata": {},
   "outputs": [],
   "source": [
    "# creating a page object \n",
    "pageObj = pdfReader.getPage(5) "
   ]
  },
  {
   "cell_type": "code",
   "execution_count": 37,
   "metadata": {},
   "outputs": [],
   "source": [
    "# extracting text from page \n",
    "page_text = pageObj.extractText()"
   ]
  },
  {
   "cell_type": "code",
   "execution_count": 40,
   "metadata": {},
   "outputs": [
    {
     "data": {
      "text/plain": [
       "str"
      ]
     },
     "execution_count": 40,
     "metadata": {},
     "output_type": "execute_result"
    }
   ],
   "source": [
    "type(page_text)"
   ]
  },
  {
   "cell_type": "code",
   "execution_count": 38,
   "metadata": {},
   "outputs": [
    {
     "data": {
      "text/plain": [
       "'Ordering\\n Information\\n   \\n3.5mm Proximal Lateral Humeral Locking Plate \\n Left\\n Right\\n Description\\n Holes\\n Length\\n 00-2358-002-04\\n  00-2358-001-04\\n  Proximal\\n Lateral\\n Humeral\\n Locking\\n  Plate\\n 4  90mm\\n 00-2358-002-06\\n  00-2358-001-06\\n  Proximal\\n Lateral\\n Humeral\\n Locking\\n  Plate\\n 6  114mm\\n 00-2358-002-08\\n  00-2358-001-08\\n  Proximal\\n Lateral\\n Humeral\\n Locking\\n  Plate\\n 8  138mm\\n 00-2358-002-12\\n  00-2358-001-12\\n  Proximal\\n Lateral\\n Humeral\\n Locking\\n  Plate\\n 12\\n  186mm\\n 00-2358-002-16\\n  00-2358-001-16\\n  Proximal\\n Lateral\\n Humeral\\n Locking\\n  Plate\\n 16\\n  234mm\\nPR\\nOXIM\\nAL \\nLA\\nTERA\\nL \\nHU\\nMERA\\nL \\nLOCK\\nING\\n PLATES\\nProximal Lateral Humeral Locking Plate Set\\n   \\nQty\\n00-2358-000-05\\n Proximal Lateral Humeral Locking \\n  Plate Set \\n(Contains the following)\\n   \\n00-2358-002-04 Proximal\\n Lateral\\n Humeral\\n Locking\\n Plate   1\\n00-2358-002-06 Proximal\\n Lateral\\n Humeral\\n Locking\\n Plate   1\\n00-2358-002-08 Proximal\\n Lateral\\n Humeral\\n Locking\\n Plate   1\\n00-2358-002-12 Proximal\\n Lateral\\n Humeral\\n Locking\\n Plate   1\\n00-2358-002-16 Proximal\\n Lateral\\n Humeral\\n Locking\\n Plate   1\\n00-2358-001-04 Proximal\\n Lateral\\n Humeral\\n Locking\\n Plate   1\\n00-2358-001-06 Proximal\\n Lateral\\n Humeral\\n Locking\\n Plate   1\\n00-2358-001-08 Proximal\\n Lateral\\n Humeral\\n Locking\\n Plate   1\\n00-2358-001-12 Proximal\\n Lateral\\n Humeral\\n Locking\\n Plate   1\\n00-2358-001-16 Proximal\\n Lateral\\n Humeral\\n Locking\\n Plate   1\\n3.5mm/2.7mm Periarticular Locking Instrument Set\\n Qty\\n 00-2360-000-02\\n 3.5mm/2.7mm Periarticular Locking \\n  Instrument Set \\n(Contains the following)\\n 00-1147-071-00\\n  Cleaning\\n Stylet\\n  100-1147-076-00\\n  Cleaning\\n Brush\\n  100-2358-040-00\\n   3.5mm/2.7mm\\n Locking\\n Screw\\n and\\n Instrument\\n  Case\\n  100-2360-011-01\\n   \\n3.5mm/2.7mm\\n Locking\\n Plate\\n Reduction\\n  Instrument\\n  200-2360-011-02\\n   \\n3.5mm/2.7mm\\n Locking\\n Plate\\n Reduction\\n  Sleeve\\n  200-2360-012-03\\n  Plate\\n Reduction\\n Spin\\n Knob\\n  200-2360-020-20\\n  2.0mm\\n Standard\\n Cannula\\n  400-2360-020-27\\n  2.7mm\\n Standard\\n Cannula\\n  400-2360-021-16\\n  1.6mm\\n Standard\\n Cannula\\n  400-2360-033-16\\n   \\n1.6mm\\n Standard\\n Drill-Tip\\n Guide\\n Wire\\n  (5\\n per\\n Box)\\n  2 Bx\\n00-2360-040-35\\n   \\n3.5mm/2.7mm\\n Locking\\n Screw\\n Standard\\n  Depth\\n Gauge\\n  100-2360-041-35\\n   \\n3.5mm\\n Cannulated\\n Locking\\n Screw\\n  Depth\\n Gauge\\n  100-2360-053-27\\n  2.7mm\\n Locking\\n Screw\\n Tap\\n  200-2360-053-35\\n  3.5mm\\n Locking\\n Screw\\n Tap\\n  200-2360-054-35\\n  3.5mm\\n Cannulated\\n Locking\\n Screw\\n Tap\\n  2\\n00-2360-065-00\\n  2.5mm\\n Screwdriver\\n Stop\\n Ring\\n  100-2360-065-25\\n  2.5mm\\n Hex\\n Standard\\n Screwdriver\\n  2\\n00-2360-066-25\\n   \\n2.5mm\\n Hex\\n Standard\\n Cannulated\\n  Screwdriver\\n  200-2360-071-27\\n  2.7mm\\n Standard\\n Cannulated\\n Drill\\n  2\\n00-2360-080-00\\n  Torque-Limiting\\n Attachment\\n  100-2360-086-00\\n  Modular\\n Handle\\n  100-2360-088-00\\n  3.5mm/2.7mm\\n Cannula\\n Inserter\\n  1\\n00-2360-175-20\\n  2.0mm\\n Standard\\n Drill\\n  200-2360-205-27\\n  2.7mm\\n Standard\\n Drill\\n  200-4812-045-00\\n  Large\\n Hex\\n Screwdriver\\n  100-2360-050-25\\n  2.5mm\\n Hex\\n Forward\\n Captive\\n Screwdriver\\n  0\\n00-2360-051-25\\n   \\n2.5mm\\n Hex\\n Cannulated\\n Forward\\n Captive\\n  Screwdriver\\n  0Compatible with:\\nZimmer\\n Periarticular 3.5mm Self-Tapping Cortical Screws; \\nZimmer\\n Periarticular 4.0mm Cancellous Screws\\nScrew and Instrument Sets\\n00-2360-000-02 3.5mm/2.7mm\\n Periarticular\\n Locking\\n Instrument\\n Set\\n00-2359-000-02 3.5mm/2.7mm\\n Locking\\n Screw\\n Set\\n00-2358-000-05 Proximal\\n Lateral\\n Humeral\\n Locking\\n Plate\\n Set\\n00-2360-000-14 Proximal\\n Lateral\\n Humeral\\n Plate\\n Standard\\n Jig\\n Set\\nProximal Lateral Humeral Plate Standard Jig Set\\n Qty\\n00-2360-000-14\\n Proximal Lateral Humeral Plate \\n  Standard Jig Set \\n(Contains the following)\\n   \\n00-2360-092-01 Proximal\\n Lateral\\n Humeral\\n Plate\\n Jig,\\n Right \\n100-2360-092-02 Proximal\\n Lateral\\n Humeral\\n Plate\\n Jig,\\n Left \\n100-2358-030-05\\n  Proximal\\n Lateral\\n Humeral\\n Locking\\n Plate\\n Case \\n1'"
      ]
     },
     "execution_count": 38,
     "metadata": {},
     "output_type": "execute_result"
    }
   ],
   "source": [
    "page_text"
   ]
  },
  {
   "cell_type": "code",
   "execution_count": 44,
   "metadata": {},
   "outputs": [],
   "source": [
    "clean_one = re.sub(r'\\s', ' ',page_text)"
   ]
  },
  {
   "cell_type": "code",
   "execution_count": 45,
   "metadata": {},
   "outputs": [
    {
     "data": {
      "text/plain": [
       "'Ordering  Information     3.5mm Proximal Lateral Humeral Locking Plate   Left  Right  Description  Holes  Length  00-2358-002-04   00-2358-001-04   Proximal  Lateral  Humeral  Locking   Plate  4  90mm  00-2358-002-06   00-2358-001-06   Proximal  Lateral  Humeral  Locking   Plate  6  114mm  00-2358-002-08   00-2358-001-08   Proximal  Lateral  Humeral  Locking   Plate  8  138mm  00-2358-002-12   00-2358-001-12   Proximal  Lateral  Humeral  Locking   Plate  12   186mm  00-2358-002-16   00-2358-001-16   Proximal  Lateral  Humeral  Locking   Plate  16   234mm PR OXIM AL  LA TERA L  HU MERA L  LOCK ING  PLATES Proximal Lateral Humeral Locking Plate Set     Qty 00-2358-000-05  Proximal Lateral Humeral Locking    Plate Set  (Contains the following)     00-2358-002-04 Proximal  Lateral  Humeral  Locking  Plate   1 00-2358-002-06 Proximal  Lateral  Humeral  Locking  Plate   1 00-2358-002-08 Proximal  Lateral  Humeral  Locking  Plate   1 00-2358-002-12 Proximal  Lateral  Humeral  Locking  Plate   1 00-2358-002-16 Proximal  Lateral  Humeral  Locking  Plate   1 00-2358-001-04 Proximal  Lateral  Humeral  Locking  Plate   1 00-2358-001-06 Proximal  Lateral  Humeral  Locking  Plate   1 00-2358-001-08 Proximal  Lateral  Humeral  Locking  Plate   1 00-2358-001-12 Proximal  Lateral  Humeral  Locking  Plate   1 00-2358-001-16 Proximal  Lateral  Humeral  Locking  Plate   1 3.5mm/2.7mm Periarticular Locking Instrument Set  Qty  00-2360-000-02  3.5mm/2.7mm Periarticular Locking    Instrument Set  (Contains the following)  00-1147-071-00   Cleaning  Stylet   100-1147-076-00   Cleaning  Brush   100-2358-040-00    3.5mm/2.7mm  Locking  Screw  and  Instrument   Case   100-2360-011-01     3.5mm/2.7mm  Locking  Plate  Reduction   Instrument   200-2360-011-02     3.5mm/2.7mm  Locking  Plate  Reduction   Sleeve   200-2360-012-03   Plate  Reduction  Spin  Knob   200-2360-020-20   2.0mm  Standard  Cannula   400-2360-020-27   2.7mm  Standard  Cannula   400-2360-021-16   1.6mm  Standard  Cannula   400-2360-033-16     1.6mm  Standard  Drill-Tip  Guide  Wire   (5  per  Box)   2 Bx 00-2360-040-35     3.5mm/2.7mm  Locking  Screw  Standard   Depth  Gauge   100-2360-041-35     3.5mm  Cannulated  Locking  Screw   Depth  Gauge   100-2360-053-27   2.7mm  Locking  Screw  Tap   200-2360-053-35   3.5mm  Locking  Screw  Tap   200-2360-054-35   3.5mm  Cannulated  Locking  Screw  Tap   2 00-2360-065-00   2.5mm  Screwdriver  Stop  Ring   100-2360-065-25   2.5mm  Hex  Standard  Screwdriver   2 00-2360-066-25     2.5mm  Hex  Standard  Cannulated   Screwdriver   200-2360-071-27   2.7mm  Standard  Cannulated  Drill   2 00-2360-080-00   Torque-Limiting  Attachment   100-2360-086-00   Modular  Handle   100-2360-088-00   3.5mm/2.7mm  Cannula  Inserter   1 00-2360-175-20   2.0mm  Standard  Drill   200-2360-205-27   2.7mm  Standard  Drill   200-4812-045-00   Large  Hex  Screwdriver   100-2360-050-25   2.5mm  Hex  Forward  Captive  Screwdriver   0 00-2360-051-25     2.5mm  Hex  Cannulated  Forward  Captive   Screwdriver   0Compatible with: Zimmer  Periarticular 3.5mm Self-Tapping Cortical Screws;  Zimmer  Periarticular 4.0mm Cancellous Screws Screw and Instrument Sets 00-2360-000-02 3.5mm/2.7mm  Periarticular  Locking  Instrument  Set 00-2359-000-02 3.5mm/2.7mm  Locking  Screw  Set 00-2358-000-05 Proximal  Lateral  Humeral  Locking  Plate  Set 00-2360-000-14 Proximal  Lateral  Humeral  Plate  Standard  Jig  Set Proximal Lateral Humeral Plate Standard Jig Set  Qty 00-2360-000-14  Proximal Lateral Humeral Plate    Standard Jig Set  (Contains the following)     00-2360-092-01 Proximal  Lateral  Humeral  Plate  Jig,  Right  100-2360-092-02 Proximal  Lateral  Humeral  Plate  Jig,  Left  100-2358-030-05   Proximal  Lateral  Humeral  Locking  Plate  Case  1'"
      ]
     },
     "execution_count": 45,
     "metadata": {},
     "output_type": "execute_result"
    }
   ],
   "source": [
    "clean_one"
   ]
  },
  {
   "cell_type": "code",
   "execution_count": 52,
   "metadata": {},
   "outputs": [],
   "source": [
    "split_one = re.split(r\"\\s{1,}\",clean_one)"
   ]
  },
  {
   "cell_type": "code",
   "execution_count": 53,
   "metadata": {},
   "outputs": [
    {
     "data": {
      "text/plain": [
       "['Ordering',\n",
       " 'Information',\n",
       " '3.5mm',\n",
       " 'Proximal',\n",
       " 'Lateral',\n",
       " 'Humeral',\n",
       " 'Locking',\n",
       " 'Plate',\n",
       " 'Left',\n",
       " 'Right',\n",
       " 'Description',\n",
       " 'Holes',\n",
       " 'Length',\n",
       " '00-2358-002-04',\n",
       " '00-2358-001-04',\n",
       " 'Proximal',\n",
       " 'Lateral',\n",
       " 'Humeral',\n",
       " 'Locking',\n",
       " 'Plate',\n",
       " '4',\n",
       " '90mm',\n",
       " '00-2358-002-06',\n",
       " '00-2358-001-06',\n",
       " 'Proximal',\n",
       " 'Lateral',\n",
       " 'Humeral',\n",
       " 'Locking',\n",
       " 'Plate',\n",
       " '6',\n",
       " '114mm',\n",
       " '00-2358-002-08',\n",
       " '00-2358-001-08',\n",
       " 'Proximal',\n",
       " 'Lateral',\n",
       " 'Humeral',\n",
       " 'Locking',\n",
       " 'Plate',\n",
       " '8',\n",
       " '138mm',\n",
       " '00-2358-002-12',\n",
       " '00-2358-001-12',\n",
       " 'Proximal',\n",
       " 'Lateral',\n",
       " 'Humeral',\n",
       " 'Locking',\n",
       " 'Plate',\n",
       " '12',\n",
       " '186mm',\n",
       " '00-2358-002-16',\n",
       " '00-2358-001-16',\n",
       " 'Proximal',\n",
       " 'Lateral',\n",
       " 'Humeral',\n",
       " 'Locking',\n",
       " 'Plate',\n",
       " '16',\n",
       " '234mm',\n",
       " 'PR',\n",
       " 'OXIM',\n",
       " 'AL',\n",
       " 'LA',\n",
       " 'TERA',\n",
       " 'L',\n",
       " 'HU',\n",
       " 'MERA',\n",
       " 'L',\n",
       " 'LOCK',\n",
       " 'ING',\n",
       " 'PLATES',\n",
       " 'Proximal',\n",
       " 'Lateral',\n",
       " 'Humeral',\n",
       " 'Locking',\n",
       " 'Plate',\n",
       " 'Set',\n",
       " 'Qty',\n",
       " '00-2358-000-05',\n",
       " 'Proximal',\n",
       " 'Lateral',\n",
       " 'Humeral',\n",
       " 'Locking',\n",
       " 'Plate',\n",
       " 'Set',\n",
       " '(Contains',\n",
       " 'the',\n",
       " 'following)',\n",
       " '00-2358-002-04',\n",
       " 'Proximal',\n",
       " 'Lateral',\n",
       " 'Humeral',\n",
       " 'Locking',\n",
       " 'Plate',\n",
       " '1',\n",
       " '00-2358-002-06',\n",
       " 'Proximal',\n",
       " 'Lateral',\n",
       " 'Humeral',\n",
       " 'Locking',\n",
       " 'Plate',\n",
       " '1',\n",
       " '00-2358-002-08',\n",
       " 'Proximal',\n",
       " 'Lateral',\n",
       " 'Humeral',\n",
       " 'Locking',\n",
       " 'Plate',\n",
       " '1',\n",
       " '00-2358-002-12',\n",
       " 'Proximal',\n",
       " 'Lateral',\n",
       " 'Humeral',\n",
       " 'Locking',\n",
       " 'Plate',\n",
       " '1',\n",
       " '00-2358-002-16',\n",
       " 'Proximal',\n",
       " 'Lateral',\n",
       " 'Humeral',\n",
       " 'Locking',\n",
       " 'Plate',\n",
       " '1',\n",
       " '00-2358-001-04',\n",
       " 'Proximal',\n",
       " 'Lateral',\n",
       " 'Humeral',\n",
       " 'Locking',\n",
       " 'Plate',\n",
       " '1',\n",
       " '00-2358-001-06',\n",
       " 'Proximal',\n",
       " 'Lateral',\n",
       " 'Humeral',\n",
       " 'Locking',\n",
       " 'Plate',\n",
       " '1',\n",
       " '00-2358-001-08',\n",
       " 'Proximal',\n",
       " 'Lateral',\n",
       " 'Humeral',\n",
       " 'Locking',\n",
       " 'Plate',\n",
       " '1',\n",
       " '00-2358-001-12',\n",
       " 'Proximal',\n",
       " 'Lateral',\n",
       " 'Humeral',\n",
       " 'Locking',\n",
       " 'Plate',\n",
       " '1',\n",
       " '00-2358-001-16',\n",
       " 'Proximal',\n",
       " 'Lateral',\n",
       " 'Humeral',\n",
       " 'Locking',\n",
       " 'Plate',\n",
       " '1',\n",
       " '3.5mm/2.7mm',\n",
       " 'Periarticular',\n",
       " 'Locking',\n",
       " 'Instrument',\n",
       " 'Set',\n",
       " 'Qty',\n",
       " '00-2360-000-02',\n",
       " '3.5mm/2.7mm',\n",
       " 'Periarticular',\n",
       " 'Locking',\n",
       " 'Instrument',\n",
       " 'Set',\n",
       " '(Contains',\n",
       " 'the',\n",
       " 'following)',\n",
       " '00-1147-071-00',\n",
       " 'Cleaning',\n",
       " 'Stylet',\n",
       " '100-1147-076-00',\n",
       " 'Cleaning',\n",
       " 'Brush',\n",
       " '100-2358-040-00',\n",
       " '3.5mm/2.7mm',\n",
       " 'Locking',\n",
       " 'Screw',\n",
       " 'and',\n",
       " 'Instrument',\n",
       " 'Case',\n",
       " '100-2360-011-01',\n",
       " '3.5mm/2.7mm',\n",
       " 'Locking',\n",
       " 'Plate',\n",
       " 'Reduction',\n",
       " 'Instrument',\n",
       " '200-2360-011-02',\n",
       " '3.5mm/2.7mm',\n",
       " 'Locking',\n",
       " 'Plate',\n",
       " 'Reduction',\n",
       " 'Sleeve',\n",
       " '200-2360-012-03',\n",
       " 'Plate',\n",
       " 'Reduction',\n",
       " 'Spin',\n",
       " 'Knob',\n",
       " '200-2360-020-20',\n",
       " '2.0mm',\n",
       " 'Standard',\n",
       " 'Cannula',\n",
       " '400-2360-020-27',\n",
       " '2.7mm',\n",
       " 'Standard',\n",
       " 'Cannula',\n",
       " '400-2360-021-16',\n",
       " '1.6mm',\n",
       " 'Standard',\n",
       " 'Cannula',\n",
       " '400-2360-033-16',\n",
       " '1.6mm',\n",
       " 'Standard',\n",
       " 'Drill-Tip',\n",
       " 'Guide',\n",
       " 'Wire',\n",
       " '(5',\n",
       " 'per',\n",
       " 'Box)',\n",
       " '2',\n",
       " 'Bx',\n",
       " '00-2360-040-35',\n",
       " '3.5mm/2.7mm',\n",
       " 'Locking',\n",
       " 'Screw',\n",
       " 'Standard',\n",
       " 'Depth',\n",
       " 'Gauge',\n",
       " '100-2360-041-35',\n",
       " '3.5mm',\n",
       " 'Cannulated',\n",
       " 'Locking',\n",
       " 'Screw',\n",
       " 'Depth',\n",
       " 'Gauge',\n",
       " '100-2360-053-27',\n",
       " '2.7mm',\n",
       " 'Locking',\n",
       " 'Screw',\n",
       " 'Tap',\n",
       " '200-2360-053-35',\n",
       " '3.5mm',\n",
       " 'Locking',\n",
       " 'Screw',\n",
       " 'Tap',\n",
       " '200-2360-054-35',\n",
       " '3.5mm',\n",
       " 'Cannulated',\n",
       " 'Locking',\n",
       " 'Screw',\n",
       " 'Tap',\n",
       " '2',\n",
       " '00-2360-065-00',\n",
       " '2.5mm',\n",
       " 'Screwdriver',\n",
       " 'Stop',\n",
       " 'Ring',\n",
       " '100-2360-065-25',\n",
       " '2.5mm',\n",
       " 'Hex',\n",
       " 'Standard',\n",
       " 'Screwdriver',\n",
       " '2',\n",
       " '00-2360-066-25',\n",
       " '2.5mm',\n",
       " 'Hex',\n",
       " 'Standard',\n",
       " 'Cannulated',\n",
       " 'Screwdriver',\n",
       " '200-2360-071-27',\n",
       " '2.7mm',\n",
       " 'Standard',\n",
       " 'Cannulated',\n",
       " 'Drill',\n",
       " '2',\n",
       " '00-2360-080-00',\n",
       " 'Torque-Limiting',\n",
       " 'Attachment',\n",
       " '100-2360-086-00',\n",
       " 'Modular',\n",
       " 'Handle',\n",
       " '100-2360-088-00',\n",
       " '3.5mm/2.7mm',\n",
       " 'Cannula',\n",
       " 'Inserter',\n",
       " '1',\n",
       " '00-2360-175-20',\n",
       " '2.0mm',\n",
       " 'Standard',\n",
       " 'Drill',\n",
       " '200-2360-205-27',\n",
       " '2.7mm',\n",
       " 'Standard',\n",
       " 'Drill',\n",
       " '200-4812-045-00',\n",
       " 'Large',\n",
       " 'Hex',\n",
       " 'Screwdriver',\n",
       " '100-2360-050-25',\n",
       " '2.5mm',\n",
       " 'Hex',\n",
       " 'Forward',\n",
       " 'Captive',\n",
       " 'Screwdriver',\n",
       " '0',\n",
       " '00-2360-051-25',\n",
       " '2.5mm',\n",
       " 'Hex',\n",
       " 'Cannulated',\n",
       " 'Forward',\n",
       " 'Captive',\n",
       " 'Screwdriver',\n",
       " '0Compatible',\n",
       " 'with:',\n",
       " 'Zimmer',\n",
       " 'Periarticular',\n",
       " '3.5mm',\n",
       " 'Self-Tapping',\n",
       " 'Cortical',\n",
       " 'Screws;',\n",
       " 'Zimmer',\n",
       " 'Periarticular',\n",
       " '4.0mm',\n",
       " 'Cancellous',\n",
       " 'Screws',\n",
       " 'Screw',\n",
       " 'and',\n",
       " 'Instrument',\n",
       " 'Sets',\n",
       " '00-2360-000-02',\n",
       " '3.5mm/2.7mm',\n",
       " 'Periarticular',\n",
       " 'Locking',\n",
       " 'Instrument',\n",
       " 'Set',\n",
       " '00-2359-000-02',\n",
       " '3.5mm/2.7mm',\n",
       " 'Locking',\n",
       " 'Screw',\n",
       " 'Set',\n",
       " '00-2358-000-05',\n",
       " 'Proximal',\n",
       " 'Lateral',\n",
       " 'Humeral',\n",
       " 'Locking',\n",
       " 'Plate',\n",
       " 'Set',\n",
       " '00-2360-000-14',\n",
       " 'Proximal',\n",
       " 'Lateral',\n",
       " 'Humeral',\n",
       " 'Plate',\n",
       " 'Standard',\n",
       " 'Jig',\n",
       " 'Set',\n",
       " 'Proximal',\n",
       " 'Lateral',\n",
       " 'Humeral',\n",
       " 'Plate',\n",
       " 'Standard',\n",
       " 'Jig',\n",
       " 'Set',\n",
       " 'Qty',\n",
       " '00-2360-000-14',\n",
       " 'Proximal',\n",
       " 'Lateral',\n",
       " 'Humeral',\n",
       " 'Plate',\n",
       " 'Standard',\n",
       " 'Jig',\n",
       " 'Set',\n",
       " '(Contains',\n",
       " 'the',\n",
       " 'following)',\n",
       " '00-2360-092-01',\n",
       " 'Proximal',\n",
       " 'Lateral',\n",
       " 'Humeral',\n",
       " 'Plate',\n",
       " 'Jig,',\n",
       " 'Right',\n",
       " '100-2360-092-02',\n",
       " 'Proximal',\n",
       " 'Lateral',\n",
       " 'Humeral',\n",
       " 'Plate',\n",
       " 'Jig,',\n",
       " 'Left',\n",
       " '100-2358-030-05',\n",
       " 'Proximal',\n",
       " 'Lateral',\n",
       " 'Humeral',\n",
       " 'Locking',\n",
       " 'Plate',\n",
       " 'Case',\n",
       " '1']"
      ]
     },
     "execution_count": 53,
     "metadata": {},
     "output_type": "execute_result"
    }
   ],
   "source": [
    "split_one"
   ]
  },
  {
   "cell_type": "code",
   "execution_count": 19,
   "metadata": {},
   "outputs": [
    {
     "name": "stdout",
     "output_type": "stream",
     "text": [
      "0\n",
      "1\n",
      "2\n",
      "3\n",
      "4\n",
      "5\n",
      "6\n",
      "7\n",
      "8\n",
      "9\n",
      "10\n",
      "11\n",
      "12\n",
      "13\n",
      "14\n",
      "15\n",
      "16\n",
      "17\n",
      "18\n"
     ]
    }
   ],
   "source": [
    "x=0\n",
    "\n",
    "while x <= pdfReader.numPages:\n",
    "    print(x)\n",
    "    x+=1\n",
    "    "
   ]
  },
  {
   "cell_type": "code",
   "execution_count": 20,
   "metadata": {},
   "outputs": [],
   "source": [
    "# creating a page object \n",
    "pageObj = pdfReader.getPage(1) "
   ]
  },
  {
   "cell_type": "code",
   "execution_count": 21,
   "metadata": {},
   "outputs": [
    {
     "name": "stdout",
     "output_type": "stream",
     "text": [
      "PULLHERE\n"
     ]
    }
   ],
   "source": [
    "# extracting text from page \n",
    "print(pageObj.extractText())"
   ]
  },
  {
   "cell_type": "code",
   "execution_count": 22,
   "metadata": {},
   "outputs": [],
   "source": [
    "def extract_pdf(pdf):\n",
    "    page_list = []\n",
    "    pdfFileObj = open(pdf, 'rb')\n",
    "    pdfReader = PyPDF2.PdfFileReader(pdfFileObj) \n",
    "    x=0\n",
    "    while x <= pdfReader.numPages:\n",
    "        \n",
    "        x+=1"
   ]
  },
  {
   "cell_type": "code",
   "execution_count": 23,
   "metadata": {},
   "outputs": [],
   "source": [
    "extract_pdf('../data/ZIMMER-BIOMET_PERI-ARTICULATION.pdf')"
   ]
  },
  {
   "cell_type": "code",
   "execution_count": null,
   "metadata": {},
   "outputs": [],
   "source": []
  }
 ],
 "metadata": {
  "kernelspec": {
   "display_name": "Python 3",
   "language": "python",
   "name": "python3"
  },
  "language_info": {
   "codemirror_mode": {
    "name": "ipython",
    "version": 3
   },
   "file_extension": ".py",
   "mimetype": "text/x-python",
   "name": "python",
   "nbconvert_exporter": "python",
   "pygments_lexer": "ipython3",
   "version": "3.8.5"
  }
 },
 "nbformat": 4,
 "nbformat_minor": 4
}
