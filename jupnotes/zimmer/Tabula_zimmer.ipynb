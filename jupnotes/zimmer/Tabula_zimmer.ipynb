{
 "cells": [
  {
   "cell_type": "code",
   "execution_count": 1,
   "metadata": {},
   "outputs": [],
   "source": [
    "import tabula"
   ]
  },
  {
   "cell_type": "code",
   "execution_count": 132,
   "metadata": {},
   "outputs": [],
   "source": [
    "pdf_path = '../data/ZIMMER-BIOMET_PERI-ARTICULATION.pdf'\n",
    "dfs = tabula.read_pdf(pdf_path, pages=6, lattice=False, stream=False)\n",
    "df = dfs[0]"
   ]
  },
  {
   "cell_type": "code",
   "execution_count": 133,
   "metadata": {},
   "outputs": [
    {
     "data": {
      "text/plain": [
       "41"
      ]
     },
     "execution_count": 133,
     "metadata": {},
     "output_type": "execute_result"
    }
   ],
   "source": [
    "len(df)"
   ]
  },
  {
   "cell_type": "code",
   "execution_count": 119,
   "metadata": {},
   "outputs": [
    {
     "data": {
      "text/plain": [
       "(41, 5)"
      ]
     },
     "execution_count": 119,
     "metadata": {},
     "output_type": "execute_result"
    }
   ],
   "source": [
    "df.shape"
   ]
  },
  {
   "cell_type": "code",
   "execution_count": 120,
   "metadata": {},
   "outputs": [
    {
     "data": {
      "text/plain": [
       "pandas.core.frame.DataFrame"
      ]
     },
     "execution_count": 120,
     "metadata": {},
     "output_type": "execute_result"
    }
   ],
   "source": [
    "type(df)"
   ]
  },
  {
   "cell_type": "code",
   "execution_count": 121,
   "metadata": {},
   "outputs": [
    {
     "name": "stdout",
     "output_type": "stream",
     "text": [
      "                                           Left Right Unnamed: 0  Unnamed: 1  \\\n",
      "0                       00-2358-002-04 00-2358-001-04        NaN         NaN   \n",
      "1                       00-2358-002-06 00-2358-001-06        NaN         NaN   \n",
      "2                       00-2358-002-08 00-2358-001-08        NaN         NaN   \n",
      "3                       00-2358-002-12 00-2358-001-12        NaN         NaN   \n",
      "4                       00-2358-002-16 00-2358-001-16        NaN         NaN   \n",
      "5    3.5mm/2.7mm Periarticular Locking Instrument Set        Qty         NaN   \n",
      "6    00-2360-000-02 3.5mm/2.7mm Periarticular Locking        NaN         NaN   \n",
      "7             Instrument Set (Contains the following)        NaN         NaN   \n",
      "8                      00-1147-071-00 Cleaning Stylet          1         NaN   \n",
      "9                       00-1147-076-00 Cleaning Brush          1         NaN   \n",
      "10  00-2358-040-00 3.5mm/2.7mm Locking Screw and I...        NaN         NaN   \n",
      "11                                               Case          1         NaN   \n",
      "12  00-2360-011-01 3.5mm/2.7mm Locking Plate Reduc...        NaN         NaN   \n",
      "13                                         Instrument          2         NaN   \n",
      "14  00-2360-011-02 3.5mm/2.7mm Locking Plate Reduc...        NaN         NaN   \n",
      "15                                             Sleeve          2         NaN   \n",
      "16           00-2360-012-03 Plate Reduction Spin Knob          2         NaN   \n",
      "17              00-2360-020-20 2.0mm Standard Cannula          4         NaN   \n",
      "18              00-2360-020-27 2.7mm Standard Cannula          4         NaN   \n",
      "19              00-2360-021-16 1.6mm Standard Cannula          4         NaN   \n",
      "20  00-2360-033-16 1.6mm Standard Drill-Tip Guide ...        NaN         NaN   \n",
      "21                                        (5 per Box)       2 Bx         NaN   \n",
      "22  00-2360-040-35 3.5mm/2.7mm Locking Screw Standard        NaN         NaN   \n",
      "23                                        Depth Gauge          1         NaN   \n",
      "24      00-2360-041-35 3.5mm Cannulated Locking Screw        NaN         NaN   \n",
      "25                                        Depth Gauge          1         NaN   \n",
      "26             00-2360-053-27 2.7mm Locking Screw Tap          2         NaN   \n",
      "27             00-2360-053-35 3.5mm Locking Screw Tap          2         NaN   \n",
      "28  00-2360-054-35 3.5mm Cannulated Locking Screw Tap          2         NaN   \n",
      "29         00-2360-065-00 2.5mm Screwdriver Stop Ring          1         NaN   \n",
      "30      00-2360-065-25 2.5mm Hex Standard Screwdriver          2         NaN   \n",
      "31       00-2360-066-25 2.5mm Hex Standard Cannulated        NaN         NaN   \n",
      "32                                        Screwdriver          2         NaN   \n",
      "33     00-2360-071-27 2.7mm Standard Cannulated Drill          2         NaN   \n",
      "34          00-2360-080-00 Torque-Limiting Attachment          1         NaN   \n",
      "35                      00-2360-086-00 Modular Handle          1         NaN   \n",
      "36        00-2360-088-00 3.5mm/2.7mm Cannula Inserter          1         NaN   \n",
      "37                00-2360-175-20 2.0mm Standard Drill          2         NaN   \n",
      "38                00-2360-205-27 2.7mm Standard Drill          2         NaN   \n",
      "39               00-4812-045-00 Large Hex Screwdriver          1         NaN   \n",
      "40  00-2360-050-25 2.5mm Hex Forward Captive Screw...          0         NaN   \n",
      "\n",
      "                                    Description Holes Length  \n",
      "0            Proximal Lateral Humeral Locking Plate 4   90mm  \n",
      "1            Proximal Lateral Humeral Locking Plate 6  114mm  \n",
      "2            Proximal Lateral Humeral Locking Plate 8  138mm  \n",
      "3           Proximal Lateral Humeral Locking Plate 12  186mm  \n",
      "4           Proximal Lateral Humeral Locking Plate 16  234mm  \n",
      "5          Proximal Lateral Humeral Locking Plate Set    Qty  \n",
      "6     00-2358-000-05 Proximal Lateral Humeral Locking    NaN  \n",
      "7                  Plate Set (Contains the following)    NaN  \n",
      "8   00-2358-002-04 Proximal Lateral Humeral Lockin...      1  \n",
      "9   00-2358-002-06 Proximal Lateral Humeral Lockin...      1  \n",
      "10  00-2358-002-08 Proximal Lateral Humeral Lockin...      1  \n",
      "11  00-2358-002-12 Proximal Lateral Humeral Lockin...      1  \n",
      "12  00-2358-002-16 Proximal Lateral Humeral Lockin...      1  \n",
      "13  00-2358-001-04 Proximal Lateral Humeral Lockin...      1  \n",
      "14  00-2358-001-06 Proximal Lateral Humeral Lockin...      1  \n",
      "15  00-2358-001-08 Proximal Lateral Humeral Lockin...      1  \n",
      "16  00-2358-001-12 Proximal Lateral Humeral Lockin...      1  \n",
      "17  00-2358-001-16 Proximal Lateral Humeral Lockin...      1  \n",
      "18                                                NaN    NaN  \n",
      "19    Proximal Lateral Humeral Plate Standard Jig Set    Qty  \n",
      "20      00-2360-000-14 Proximal Lateral Humeral Plate    NaN  \n",
      "21          Standard Jig Set (Contains the following)    NaN  \n",
      "22  00-2360-092-01 Proximal Lateral Humeral Plate ...      1  \n",
      "23  00-2360-092-02 Proximal Lateral Humeral Plate ...      1  \n",
      "24  00-2358-030-05 Proximal Lateral Humeral Lockin...      1  \n",
      "25                                                NaN    NaN  \n",
      "26                                                NaN    NaN  \n",
      "27                          Screw and Instrument Sets    NaN  \n",
      "28  00-2360-000-02 3.5mm/2.7mm Periarticular Locki...    NaN  \n",
      "29       00-2359-000-02 3.5mm/2.7mm Locking Screw Set    NaN  \n",
      "30  00-2358-000-05 Proximal Lateral Humeral Lockin...    NaN  \n",
      "31  00-2360-000-14 Proximal Lateral Humeral Plate ...    NaN  \n",
      "32                                                NaN    NaN  \n",
      "33                                                NaN    NaN  \n",
      "34                                   Compatible with:    NaN  \n",
      "35  Zimmer Periarticular 3.5mm Self-Tapping Cortic...    NaN  \n",
      "36                                                NaN    NaN  \n",
      "37              Periarticular 4.0mm Cancellous Screws    NaN  \n",
      "38                                                NaN    NaN  \n",
      "39                                                NaN    NaN  \n",
      "40                                                NaN    NaN  \n"
     ]
    }
   ],
   "source": [
    "print(df)"
   ]
  },
  {
   "cell_type": "code",
   "execution_count": 134,
   "metadata": {},
   "outputs": [
    {
     "data": {
      "text/plain": [
       "pandas.core.frame.DataFrame"
      ]
     },
     "execution_count": 134,
     "metadata": {},
     "output_type": "execute_result"
    }
   ],
   "source": [
    "type(df)"
   ]
  },
  {
   "cell_type": "code",
   "execution_count": 128,
   "metadata": {},
   "outputs": [
    {
     "data": {
      "text/html": [
       "<div>\n",
       "<style scoped>\n",
       "    .dataframe tbody tr th:only-of-type {\n",
       "        vertical-align: middle;\n",
       "    }\n",
       "\n",
       "    .dataframe tbody tr th {\n",
       "        vertical-align: top;\n",
       "    }\n",
       "\n",
       "    .dataframe thead th {\n",
       "        text-align: right;\n",
       "    }\n",
       "</style>\n",
       "<table border=\"1\" class=\"dataframe\">\n",
       "  <thead>\n",
       "    <tr style=\"text-align: right;\">\n",
       "      <th></th>\n",
       "      <th>Left Right</th>\n",
       "      <th>Unnamed: 0</th>\n",
       "      <th>Unnamed: 1</th>\n",
       "      <th>Description Holes</th>\n",
       "      <th>Length</th>\n",
       "    </tr>\n",
       "  </thead>\n",
       "  <tbody>\n",
       "  </tbody>\n",
       "</table>\n",
       "</div>"
      ],
      "text/plain": [
       "Empty DataFrame\n",
       "Columns: [Left Right, Unnamed: 0, Unnamed: 1, Description Holes, Length]\n",
       "Index: []"
      ]
     },
     "execution_count": 128,
     "metadata": {},
     "output_type": "execute_result"
    }
   ],
   "source": []
  },
  {
   "cell_type": "code",
   "execution_count": 131,
   "metadata": {},
   "outputs": [
    {
     "data": {
      "text/plain": [
       "pandas.core.frame.DataFrame"
      ]
     },
     "execution_count": 131,
     "metadata": {},
     "output_type": "execute_result"
    }
   ],
   "source": [
    "type(df)"
   ]
  },
  {
   "cell_type": "code",
   "execution_count": 122,
   "metadata": {},
   "outputs": [
    {
     "name": "stdout",
     "output_type": "stream",
     "text": [
      "00-2358-002-04 00-2358-001-04\n",
      "00-2358-002-06 00-2358-001-06\n",
      "00-2358-002-08 00-2358-001-08\n",
      "00-2358-002-12 00-2358-001-12\n",
      "00-2358-002-16 00-2358-001-16\n",
      "3.5mm/2.7mm Periarticular Locking Instrument Set\n",
      "00-2360-000-02 3.5mm/2.7mm Periarticular Locking\n",
      "Instrument Set (Contains the following)\n",
      "00-1147-071-00 Cleaning Stylet\n",
      "00-1147-076-00 Cleaning Brush\n",
      "00-2358-040-00 3.5mm/2.7mm Locking Screw and Instrument\n",
      "Case\n",
      "00-2360-011-01 3.5mm/2.7mm Locking Plate Reduction\n",
      "Instrument\n",
      "00-2360-011-02 3.5mm/2.7mm Locking Plate Reduction\n",
      "Sleeve\n",
      "00-2360-012-03 Plate Reduction Spin Knob\n",
      "00-2360-020-20 2.0mm Standard Cannula\n",
      "00-2360-020-27 2.7mm Standard Cannula\n",
      "00-2360-021-16 1.6mm Standard Cannula\n",
      "00-2360-033-16 1.6mm Standard Drill-Tip Guide Wire\n",
      "(5 per Box)\n",
      "00-2360-040-35 3.5mm/2.7mm Locking Screw Standard\n",
      "Depth Gauge\n",
      "00-2360-041-35 3.5mm Cannulated Locking Screw\n",
      "Depth Gauge\n",
      "00-2360-053-27 2.7mm Locking Screw Tap\n",
      "00-2360-053-35 3.5mm Locking Screw Tap\n",
      "00-2360-054-35 3.5mm Cannulated Locking Screw Tap\n",
      "00-2360-065-00 2.5mm Screwdriver Stop Ring\n",
      "00-2360-065-25 2.5mm Hex Standard Screwdriver\n",
      "00-2360-066-25 2.5mm Hex Standard Cannulated\n",
      "Screwdriver\n",
      "00-2360-071-27 2.7mm Standard Cannulated Drill\n",
      "00-2360-080-00 Torque-Limiting Attachment\n",
      "00-2360-086-00 Modular Handle\n",
      "00-2360-088-00 3.5mm/2.7mm Cannula Inserter\n",
      "00-2360-175-20 2.0mm Standard Drill\n",
      "00-2360-205-27 2.7mm Standard Drill\n",
      "00-4812-045-00 Large Hex Screwdriver\n",
      "00-2360-050-25 2.5mm Hex Forward Captive Screwdriver\n"
     ]
    }
   ],
   "source": [
    "for row in df['Left Right']:\n",
    "    print(row)"
   ]
  },
  {
   "cell_type": "code",
   "execution_count": null,
   "metadata": {},
   "outputs": [],
   "source": []
  }
 ],
 "metadata": {
  "kernelspec": {
   "display_name": "Python 3",
   "language": "python",
   "name": "python3"
  },
  "language_info": {
   "codemirror_mode": {
    "name": "ipython",
    "version": 3
   },
   "file_extension": ".py",
   "mimetype": "text/x-python",
   "name": "python",
   "nbconvert_exporter": "python",
   "pygments_lexer": "ipython3",
   "version": "3.8.5"
  }
 },
 "nbformat": 4,
 "nbformat_minor": 4
}
