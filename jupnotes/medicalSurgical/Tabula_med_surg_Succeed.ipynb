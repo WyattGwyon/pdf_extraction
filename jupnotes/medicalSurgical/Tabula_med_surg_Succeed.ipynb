{
 "cells": [
  {
   "cell_type": "markdown",
   "metadata": {},
   "source": [
    "**Check for Java**"
   ]
  },
  {
   "cell_type": "code",
   "execution_count": 2,
   "metadata": {},
   "outputs": [
    {
     "name": "stdout",
     "output_type": "stream",
     "text": [
      "java 16.0.1 2021-04-20\n",
      "Java(TM) SE Runtime Environment (build 16.0.1+9-24)\n",
      "Java HotSpot(TM) 64-Bit Server VM (build 16.0.1+9-24, mixed mode, sharing)\n"
     ]
    }
   ],
   "source": [
    "!java --version"
   ]
  },
  {
   "cell_type": "markdown",
   "metadata": {},
   "source": [
    "**Import and Check env for Tabula**"
   ]
  },
  {
   "cell_type": "code",
   "execution_count": 1,
   "metadata": {},
   "outputs": [],
   "source": [
    "import tabula"
   ]
  },
  {
   "cell_type": "code",
   "execution_count": 2,
   "metadata": {},
   "outputs": [
    {
     "name": "stdout",
     "output_type": "stream",
     "text": [
      "Python version:\n",
      "    3.8.5 (default, Jul 21 2020, 10:48:26) \n",
      "[Clang 11.0.3 (clang-1103.0.32.62)]\n",
      "Java version:\n",
      "    java version \"16.0.1\" 2021-04-20\n",
      "Java(TM) SE Runtime Environment (build 16.0.1+9-24)\n",
      "Java HotSpot(TM) 64-Bit Server VM (build 16.0.1+9-24, mixed mode, sharing)\n",
      "tabula-py version: 2.2.0\n",
      "platform: macOS-10.15.7-x86_64-i386-64bit\n",
      "uname:\n",
      "    uname_result(system='Darwin', node='Claytons-MBP.home', release='19.6.0', version='Darwin Kernel Version 19.6.0: Mon Apr 12 20:57:45 PDT 2021; root:xnu-6153.141.28.1~1/RELEASE_X86_64', machine='x86_64', processor='i386')\n",
      "linux_distribution: ('Darwin', '19.6.0', '')\n",
      "mac_ver: ('10.15.7', ('', '', ''), 'x86_64')\n",
      "    \n"
     ]
    }
   ],
   "source": [
    "tabula.environment_info()"
   ]
  },
  {
   "cell_type": "markdown",
   "metadata": {},
   "source": [
    "---------------"
   ]
  },
  {
   "cell_type": "markdown",
   "metadata": {},
   "source": [
    "# What is Tabula?\n",
    "\n",
    "\"tabula-py is just a wrapper of tabula-java , make sure you’ve installed Java and you can use java command on your terminal. Many issue reporters forget to set PATH for java command.\n",
    "\n",
    "You can check whether tabula-py can call java from Python process with tabula.environment_info() function.\" [FAQ](https://tabula-py.readthedocs.io/en/latest/faq.html)"
   ]
  },
  {
   "cell_type": "code",
   "execution_count": 603,
   "metadata": {},
   "outputs": [],
   "source": [
    "# I am only taking the 3rd page because it is where the tables start\n",
    "# Toggling the lattice parameter produces different outputs in the organization of the df\n",
    "# I don't see any difference when toggling the stream parameter\n",
    "# We are leaving stream = False and putting lattice = True\n",
    "# It is default I think but multple_tables is set to True \n",
    "pdf_path = '../data/Medical Surgical.pdf'\n",
    "dfs = tabula.read_pdf(pdf_path, pages='3',lattice=True, stream=False, multiple_tables=True)"
   ]
  },
  {
   "cell_type": "code",
   "execution_count": 604,
   "metadata": {},
   "outputs": [
    {
     "data": {
      "text/plain": [
       "list"
      ]
     },
     "execution_count": 604,
     "metadata": {},
     "output_type": "execute_result"
    }
   ],
   "source": [
    "type(dfs)"
   ]
  },
  {
   "cell_type": "code",
   "execution_count": 605,
   "metadata": {},
   "outputs": [
    {
     "data": {
      "text/plain": [
       "6"
      ]
     },
     "execution_count": 605,
     "metadata": {},
     "output_type": "execute_result"
    }
   ],
   "source": [
    "len(dfs)"
   ]
  },
  {
   "cell_type": "code",
   "execution_count": 606,
   "metadata": {},
   "outputs": [
    {
     "data": {
      "text/plain": [
       "[Empty DataFrame\n",
       " Columns: [Traditional Wound Care]\n",
       " Index: [],\n",
       " Empty DataFrame\n",
       " Columns: [Traditional Wound Care]\n",
       " Index: [],\n",
       "         Sterile       Unnamed: 0                Unnamed: 1\n",
       " 0         C5119   2” x 2”, 8-ply  2/pk, 50 pk/bx, 30 bx/cs\n",
       " 1         C5129  3” x 3”, 12-ply  2/pk, 50 pk/bx, 24 bx/cs\n",
       " 2         C5189   4” x 4”, 8-ply  2/pk, 50 pk/bx, 12 bx/cs\n",
       " 3         C5139  4” x 4”, 12-ply  2/pk, 25 pk/bx, 24 bx/cs\n",
       " 4          C517  8” x 4”, 12-ply  2/pk, 25 pk/bx, 20 bx/cs\n",
       " 5   Non-Sterile              NaN                       NaN\n",
       " 6        C82082   2” x 2”, 8-ply          200/bg, 25 bg/cs\n",
       " 7        C82122  2” x 2”, 12-ply          200/bg, 40 bg/cs\n",
       " 8        C83083   3” x 3”, 8-ply          200/bg, 20 bg/cs\n",
       " 9        C83082  3” x 3”, 12-ply          200/bg, 20 bg/cs\n",
       " 10       C84088   4” x 4”, 8-ply          200/bg, 20 bg/cs\n",
       " 11       C84124  4” x 4”, 12-ply          200/bg, 10 bg/cs\n",
       " 12       C84166  4” x 4”, 16-ply          200/bg, 10 bg/cs,\n",
       "         Sterile        Unnamed: 0                Unnamed: 1\n",
       " 0          6208   2” x 2”,\\r8-ply  2/pk, 50 pk/bx, 30 bx/cs\n",
       " 1          6312   3” x 3”,\\r2-ply  2/pk, 50 pk/bx, 24 bx/cs\n",
       " 2          6408   4” x 4”,\\r8-ply  2/pk, 50 pk/bx, 12 bx/cs\n",
       " 3          6412  4” x 4”,\\r12-ply  2/pk, 25 pk/bx, 24 bx/cs\n",
       " 4          6842  8” x 4”,\\r12-ply  2/pk, 25 pk/bx, 20 bx/cs\n",
       " 5   Non-Sterile               NaN                       NaN\n",
       " 6          2085   2” x 2”,\\r8-ply          200/bg, 25 bg/cs\n",
       " 7          2128  2” x 2”,\\r12-ply          200/bg, 40 bg/cs\n",
       " 8      2128-100  2” x 2”,\\r12-ply          100/bg, 80 bg/cs\n",
       " 9          3084   3” x 3”,\\r8-ply          200/bg, 20 bg/cs\n",
       " 10         3124  3” x 3”,\\r12-ply          200/bg, 20 bg/cs\n",
       " 11     3124-100  3” x 3”,\\r12-ply          100/bg, 40 bg/cs\n",
       " 12         4084   4” x 4”,\\r8-ply          200/bg, 20 bg/cs\n",
       " 13         4122  4” x 4”,\\r12-ply          200/bg, 10 bg/cs\n",
       " 14     4122-100  4” x 4”,\\r12-ply          100/bg, 20 bg/cs\n",
       " 15         4162  4” x 4”,\\r16-ply          200/bg, 10 bg/cs\n",
       " 16         8412  8” x 4”,\\r12-ply          200/bg, 10 bg/cs,\n",
       "    Sterile       Unnamed: 0                 Unnamed: 1\n",
       " 0     1212  2” x 2”, 12-ply  1/pk, 100 pk/bx, 24 bx/cs\n",
       " 1     1312  3” x 3”, 12-ply  1/pk, 100 pk/bx, 24 bx/cs\n",
       " 2     1412  4” x 4”, 12-ply  1/pk, 100 pk/bx, 12 bx/cs\n",
       " 3  1212-10  2” x 2”, 12-ply   1/pk, 10 pk/bx, 60 bx/cs\n",
       " 4  1313-10  3” x 3”, 12-ply   1/pk, 10 pk/bx, 60 bx/cs\n",
       " 5  1414-10  4” x 4”, 12-ply   1/pk, 10 pk/bx, 60 bx/cs\n",
       " 6  1212-25  2” x 2”, 12-ply   1/pk, 25 pk/bx, 24 bx/cs\n",
       " 7  1313-25  3” x 3”, 12-ply   1/pk, 25 pk/bx, 24 bx/cs\n",
       " 8  1414-25  4” x 4”, 12-ply   1/pk, 25 pk/bx, 24 bx/cs,\n",
       "         Sterile       Unnamed: 0                Unnamed: 1\n",
       " 0          8500   2” x 2”, 8-ply  2/pk, 50 pk/bx, 30 bx/cs\n",
       " 1          8501  3” x 3”, 12-ply  2/pk, 50 pk/bx, 24 bx/cs\n",
       " 2          8502   4” x 4”, 8-ply  2/pk, 50 pk/bx, 12 bx/cs\n",
       " 3          8503  4” x 4”, 12-ply  2/pk, 25 pk/bx, 24 bx/cs\n",
       " 4   Non-Sterile              NaN                       NaN\n",
       " 5          8505   2” x 2”, 8-ply          200/bg, 25 bg/cs\n",
       " 6          8506  2” x 2”, 12-ply          200/bg, 40 bg/cs\n",
       " 7          8507   3” x 3”, 8-ply          200/bg, 20 bg/cs\n",
       " 8          8508  3” x 3”, 12-ply          200/bg, 20 bg/cs\n",
       " 9          8509   4” x 4”, 8-ply          200/bg, 20 bg/cs\n",
       " 10         8510  4” x 4”, 12-ply          200/bg, 10 bg/cs]"
      ]
     },
     "execution_count": 606,
     "metadata": {},
     "output_type": "execute_result"
    }
   ],
   "source": [
    "dfs"
   ]
  },
  {
   "cell_type": "code",
   "execution_count": 607,
   "metadata": {},
   "outputs": [],
   "source": [
    "basicCareGauzeSponges = dfs[5]"
   ]
  },
  {
   "cell_type": "code",
   "execution_count": 608,
   "metadata": {},
   "outputs": [
    {
     "data": {
      "text/html": [
       "<div>\n",
       "<style scoped>\n",
       "    .dataframe tbody tr th:only-of-type {\n",
       "        vertical-align: middle;\n",
       "    }\n",
       "\n",
       "    .dataframe tbody tr th {\n",
       "        vertical-align: top;\n",
       "    }\n",
       "\n",
       "    .dataframe thead th {\n",
       "        text-align: right;\n",
       "    }\n",
       "</style>\n",
       "<table border=\"1\" class=\"dataframe\">\n",
       "  <thead>\n",
       "    <tr style=\"text-align: right;\">\n",
       "      <th></th>\n",
       "      <th>Sterile</th>\n",
       "      <th>Unnamed: 0</th>\n",
       "      <th>Unnamed: 1</th>\n",
       "    </tr>\n",
       "  </thead>\n",
       "  <tbody>\n",
       "    <tr>\n",
       "      <th>0</th>\n",
       "      <td>8500</td>\n",
       "      <td>2” x 2”, 8-ply</td>\n",
       "      <td>2/pk, 50 pk/bx, 30 bx/cs</td>\n",
       "    </tr>\n",
       "    <tr>\n",
       "      <th>1</th>\n",
       "      <td>8501</td>\n",
       "      <td>3” x 3”, 12-ply</td>\n",
       "      <td>2/pk, 50 pk/bx, 24 bx/cs</td>\n",
       "    </tr>\n",
       "    <tr>\n",
       "      <th>2</th>\n",
       "      <td>8502</td>\n",
       "      <td>4” x 4”, 8-ply</td>\n",
       "      <td>2/pk, 50 pk/bx, 12 bx/cs</td>\n",
       "    </tr>\n",
       "    <tr>\n",
       "      <th>3</th>\n",
       "      <td>8503</td>\n",
       "      <td>4” x 4”, 12-ply</td>\n",
       "      <td>2/pk, 25 pk/bx, 24 bx/cs</td>\n",
       "    </tr>\n",
       "    <tr>\n",
       "      <th>4</th>\n",
       "      <td>Non-Sterile</td>\n",
       "      <td>NaN</td>\n",
       "      <td>NaN</td>\n",
       "    </tr>\n",
       "    <tr>\n",
       "      <th>5</th>\n",
       "      <td>8505</td>\n",
       "      <td>2” x 2”, 8-ply</td>\n",
       "      <td>200/bg, 25 bg/cs</td>\n",
       "    </tr>\n",
       "    <tr>\n",
       "      <th>6</th>\n",
       "      <td>8506</td>\n",
       "      <td>2” x 2”, 12-ply</td>\n",
       "      <td>200/bg, 40 bg/cs</td>\n",
       "    </tr>\n",
       "    <tr>\n",
       "      <th>7</th>\n",
       "      <td>8507</td>\n",
       "      <td>3” x 3”, 8-ply</td>\n",
       "      <td>200/bg, 20 bg/cs</td>\n",
       "    </tr>\n",
       "    <tr>\n",
       "      <th>8</th>\n",
       "      <td>8508</td>\n",
       "      <td>3” x 3”, 12-ply</td>\n",
       "      <td>200/bg, 20 bg/cs</td>\n",
       "    </tr>\n",
       "    <tr>\n",
       "      <th>9</th>\n",
       "      <td>8509</td>\n",
       "      <td>4” x 4”, 8-ply</td>\n",
       "      <td>200/bg, 20 bg/cs</td>\n",
       "    </tr>\n",
       "    <tr>\n",
       "      <th>10</th>\n",
       "      <td>8510</td>\n",
       "      <td>4” x 4”, 12-ply</td>\n",
       "      <td>200/bg, 10 bg/cs</td>\n",
       "    </tr>\n",
       "  </tbody>\n",
       "</table>\n",
       "</div>"
      ],
      "text/plain": [
       "        Sterile       Unnamed: 0                Unnamed: 1\n",
       "0          8500   2” x 2”, 8-ply  2/pk, 50 pk/bx, 30 bx/cs\n",
       "1          8501  3” x 3”, 12-ply  2/pk, 50 pk/bx, 24 bx/cs\n",
       "2          8502   4” x 4”, 8-ply  2/pk, 50 pk/bx, 12 bx/cs\n",
       "3          8503  4” x 4”, 12-ply  2/pk, 25 pk/bx, 24 bx/cs\n",
       "4   Non-Sterile              NaN                       NaN\n",
       "5          8505   2” x 2”, 8-ply          200/bg, 25 bg/cs\n",
       "6          8506  2” x 2”, 12-ply          200/bg, 40 bg/cs\n",
       "7          8507   3” x 3”, 8-ply          200/bg, 20 bg/cs\n",
       "8          8508  3” x 3”, 12-ply          200/bg, 20 bg/cs\n",
       "9          8509   4” x 4”, 8-ply          200/bg, 20 bg/cs\n",
       "10         8510  4” x 4”, 12-ply          200/bg, 10 bg/cs"
      ]
     },
     "execution_count": 608,
     "metadata": {},
     "output_type": "execute_result"
    }
   ],
   "source": [
    "basicCareGauzeSponges"
   ]
  },
  {
   "cell_type": "code",
   "execution_count": 609,
   "metadata": {},
   "outputs": [
    {
     "data": {
      "text/html": [
       "<div>\n",
       "<style scoped>\n",
       "    .dataframe tbody tr th:only-of-type {\n",
       "        vertical-align: middle;\n",
       "    }\n",
       "\n",
       "    .dataframe tbody tr th {\n",
       "        vertical-align: top;\n",
       "    }\n",
       "\n",
       "    .dataframe thead th {\n",
       "        text-align: right;\n",
       "    }\n",
       "</style>\n",
       "<table border=\"1\" class=\"dataframe\">\n",
       "  <thead>\n",
       "    <tr style=\"text-align: right;\">\n",
       "      <th></th>\n",
       "      <th>Item_#</th>\n",
       "      <th>Description</th>\n",
       "      <th>Sterile</th>\n",
       "      <th>Packaging_Qty</th>\n",
       "    </tr>\n",
       "  </thead>\n",
       "  <tbody>\n",
       "    <tr>\n",
       "      <th>0</th>\n",
       "      <td>8500</td>\n",
       "      <td>2” x 2”, 8-ply</td>\n",
       "      <td>Yes</td>\n",
       "      <td>2/pk, 50 pk/bx, 30 bx/cs</td>\n",
       "    </tr>\n",
       "    <tr>\n",
       "      <th>1</th>\n",
       "      <td>8501</td>\n",
       "      <td>3” x 3”, 12-ply</td>\n",
       "      <td>Yes</td>\n",
       "      <td>2/pk, 50 pk/bx, 24 bx/cs</td>\n",
       "    </tr>\n",
       "    <tr>\n",
       "      <th>2</th>\n",
       "      <td>8502</td>\n",
       "      <td>4” x 4”, 8-ply</td>\n",
       "      <td>Yes</td>\n",
       "      <td>2/pk, 50 pk/bx, 12 bx/cs</td>\n",
       "    </tr>\n",
       "    <tr>\n",
       "      <th>3</th>\n",
       "      <td>8503</td>\n",
       "      <td>4” x 4”, 12-ply</td>\n",
       "      <td>Yes</td>\n",
       "      <td>2/pk, 25 pk/bx, 24 bx/cs</td>\n",
       "    </tr>\n",
       "    <tr>\n",
       "      <th>4</th>\n",
       "      <td>8505</td>\n",
       "      <td>2” x 2”, 8-ply</td>\n",
       "      <td>No</td>\n",
       "      <td>200/bg, 25 bg/cs</td>\n",
       "    </tr>\n",
       "    <tr>\n",
       "      <th>5</th>\n",
       "      <td>8506</td>\n",
       "      <td>2” x 2”, 12-ply</td>\n",
       "      <td>No</td>\n",
       "      <td>200/bg, 40 bg/cs</td>\n",
       "    </tr>\n",
       "    <tr>\n",
       "      <th>6</th>\n",
       "      <td>8507</td>\n",
       "      <td>3” x 3”, 8-ply</td>\n",
       "      <td>No</td>\n",
       "      <td>200/bg, 20 bg/cs</td>\n",
       "    </tr>\n",
       "    <tr>\n",
       "      <th>7</th>\n",
       "      <td>8508</td>\n",
       "      <td>3” x 3”, 12-ply</td>\n",
       "      <td>No</td>\n",
       "      <td>200/bg, 20 bg/cs</td>\n",
       "    </tr>\n",
       "    <tr>\n",
       "      <th>8</th>\n",
       "      <td>8509</td>\n",
       "      <td>4” x 4”, 8-ply</td>\n",
       "      <td>No</td>\n",
       "      <td>200/bg, 20 bg/cs</td>\n",
       "    </tr>\n",
       "    <tr>\n",
       "      <th>9</th>\n",
       "      <td>8510</td>\n",
       "      <td>4” x 4”, 12-ply</td>\n",
       "      <td>No</td>\n",
       "      <td>200/bg, 10 bg/cs</td>\n",
       "    </tr>\n",
       "  </tbody>\n",
       "</table>\n",
       "</div>"
      ],
      "text/plain": [
       "  Item_#      Description Sterile             Packaging_Qty\n",
       "0   8500   2” x 2”, 8-ply     Yes  2/pk, 50 pk/bx, 30 bx/cs\n",
       "1   8501  3” x 3”, 12-ply     Yes  2/pk, 50 pk/bx, 24 bx/cs\n",
       "2   8502   4” x 4”, 8-ply     Yes  2/pk, 50 pk/bx, 12 bx/cs\n",
       "3   8503  4” x 4”, 12-ply     Yes  2/pk, 25 pk/bx, 24 bx/cs\n",
       "4   8505   2” x 2”, 8-ply      No          200/bg, 25 bg/cs\n",
       "5   8506  2” x 2”, 12-ply      No          200/bg, 40 bg/cs\n",
       "6   8507   3” x 3”, 8-ply      No          200/bg, 20 bg/cs\n",
       "7   8508  3” x 3”, 12-ply      No          200/bg, 20 bg/cs\n",
       "8   8509   4” x 4”, 8-ply      No          200/bg, 20 bg/cs\n",
       "9   8510  4” x 4”, 12-ply      No          200/bg, 10 bg/cs"
      ]
     },
     "execution_count": 609,
     "metadata": {},
     "output_type": "execute_result"
    }
   ],
   "source": [
    "# List of desired column names created outside of the function....\n",
    "# Should have the same number of names as number of columns to be replaced\n",
    "new_column_names = ['Item_#', 'Description', 'Packaging_Qty']\n",
    "\n",
    "# Make this the function `rename_columns`\n",
    "for count, col in enumerate(basicCareGauzeSponges.columns):\n",
    "    basicCareGauzeSponges.rename(columns={col:new_column_names[count]}, inplace=True)\n",
    "\n",
    "# Make this the function of counting Sterile items\n",
    "for counter, row in enumerate(basicCareGauzeSponges.values):\n",
    "    if row[0] == 'Non-Sterile':\n",
    "        break\n",
    "\n",
    "# Here, drops the non-sterile row and resets index....\n",
    "# before counting non-sterile items\n",
    "# May be irregularly used\n",
    "basicCareGauzeSponges.dropna(inplace=True)\n",
    "basicCareGauzeSponges.reset_index(drop=True, inplace=True)\n",
    "\n",
    "# The counter is a variable from before that should show the number of Sterile Items\n",
    "# Number of non-sterile items based on remaining number of rows in table\n",
    "yes = counter\n",
    "no = len(basicCareGauzeSponges) - counter \n",
    "\n",
    "# Create the list for the column 'Sterile'\n",
    "sterile = ['Yes'] * yes + ['No'] * no\n",
    "\n",
    "# Insert the Sterile list\n",
    "basicCareGauzeSponges.insert(2, \"Sterile\", sterile)\n",
    "\n",
    "basicCareGauzeSponges\n",
    "\n",
    "# Need to cycle through the dataframe to extract each table and treat the same way"
   ]
  },
  {
   "cell_type": "markdown",
   "metadata": {},
   "source": [
    "### This is a proof of concept that the steps work: The MVP\n",
    "\n",
    "-----\n",
    "# Now lets work to make this flexible by encapsulating it into functions"
   ]
  },
  {
   "cell_type": "code",
   "execution_count": 763,
   "metadata": {},
   "outputs": [],
   "source": [
    "import re"
   ]
  },
  {
   "cell_type": "code",
   "execution_count": 800,
   "metadata": {},
   "outputs": [],
   "source": [
    "# This is a RESET button \n",
    "pdf_path = '../data/Medical Surgical.pdf'\n",
    "dfs = tabula.read_pdf(pdf_path, pages='5',lattice=True, stream=False, multiple_tables=True)"
   ]
  },
  {
   "cell_type": "code",
   "execution_count": null,
   "metadata": {},
   "outputs": [],
   "source": []
  },
  {
   "cell_type": "code",
   "execution_count": 801,
   "metadata": {},
   "outputs": [
    {
     "data": {
      "text/plain": [
       "[Empty DataFrame\n",
       " Columns: [Traditional Wound Care]\n",
       " Index: [],\n",
       " Empty DataFrame\n",
       " Columns: [Traditional Wound Care]\n",
       " Index: [],\n",
       "    Sterile                                       Unnamed: 0  \\\n",
       " 0     7265                     I.V. Sponge,\\r2” x 2”, 6-ply   \n",
       " 1     7470                 T-Drain\\rSponge,\\r4” x 4”, 6-ply   \n",
       " 2     7468  T-Drain\\rSponge, 100%\\rCotton,\\r4” x 4”, 16-ply   \n",
       " \n",
       "                  Unnamed: 1  \n",
       " 0  2/pk, 35 pk/bx, 20 bx/cs  \n",
       " 1  2/pk, 25 pk/bx, 12 bx/cs  \n",
       " 2  1/pk, 25 pk/bx, 12 bx/cs  ,\n",
       "    Sterile      Unnamed: 0                Unnamed: 1\n",
       " 0     8746  4” x 4”, 6-ply  2/pk, 25 pk/bx, 12 bx/cs,\n",
       "    Sterile Unnamed: 0                Unnamed: 1\n",
       " 0     9550  1” Sphere  1/pouch, 50/bx, 10 bx/cs\n",
       " 1     9552  1” Sphere  2/pouch, 50/bx, 10 bx/cs,\n",
       "   Sterile       Unnamed: 0                Unnamed: 1\n",
       " 0     841  1-5/8” x 2-5/8”  1/pk, 50 pk/bx, 12 bx/cs\n",
       " 1    841B  1-5/8” x 2-5/8”          1/pk, 1000 pk/cs,\n",
       "    Sterile Unnamed: 0                Unnamed: 1\n",
       " 0     5434    4” x 3”  2/pk, 25 pk/bx, 24 bx/cs\n",
       " 1     5444    4” x 4”  2/pk, 25 pk/bx, 24 bx/cs,\n",
       "    Sterile Unnamed: 0                 Unnamed: 1\n",
       " 0      124    2” x 3”  1/pk, 100 pk/bx, 24 bx/cs\n",
       " 1      125    3” x 4”  1/pk, 100 pk/bx, 12 bx/cs,\n",
       "        Sterile Unnamed: 0                Unnamed: 1\n",
       " 0         5350    4” x 3”  2/pk, 25 pk/bx, 24 bx/cs\n",
       " 1         5360    4” x 4”  2/pk, 25 pk/bx, 24 bx/cs\n",
       " 2  Non-Sterile        NaN                       NaN\n",
       " 3         5340    4” x 4”          100/bg, 20 bg/cs,\n",
       "    Sterile Unnamed: 0                 Unnamed: 1\n",
       " 0      123    2” x 3”  1/pk, 100 pk/bx, 12 bx/cs\n",
       " 1      134    3” x 4”  1/pk, 100 pk/bx, 12 bx/cs\n",
       " 2      138    3” x 8”    1/pk, 75 pk/bx, 8 bx/cs]"
      ]
     },
     "execution_count": 801,
     "metadata": {},
     "output_type": "execute_result"
    }
   ],
   "source": [
    "dfs"
   ]
  },
  {
   "cell_type": "code",
   "execution_count": 796,
   "metadata": {},
   "outputs": [],
   "source": [
    "# This takes a list of df tables\n",
    "def drop_empty_tables(df_list):\n",
    "    new_df = []\n",
    "    for table in df_list:\n",
    "        if table.empty == True:  # for some reason dfs.remove(table) only removed first instance\n",
    "            continue\n",
    "            #dfs.remove(table)\n",
    "        else:  # We will create a new list instead with the filled tables\n",
    "            new_df.append(table)\n",
    "    return new_df\n",
    "\n",
    "\n",
    "#new_df"
   ]
  },
  {
   "cell_type": "code",
   "execution_count": 784,
   "metadata": {},
   "outputs": [],
   "source": [
    "def rename_columns(new_df):\n",
    "    for table in new_df:    \n",
    "    # now this is going to rename all the columns the select names\n",
    "        for count, col in enumerate(table.columns):\n",
    "            table.rename(columns={col:new_column_names[count]}, inplace=True)\n",
    "#new_df\n",
    "            "
   ]
  },
  {
   "cell_type": "code",
   "execution_count": 767,
   "metadata": {},
   "outputs": [],
   "source": [
    "for table in new_df:    \n",
    "    # now this is going to rename all the columns the select names\n",
    "    for count, col in enumerate(table.columns):\n",
    "        table.rename(columns={col:new_column_names[count]}, inplace=True)\n",
    "#new_df"
   ]
  },
  {
   "cell_type": "code",
   "execution_count": 785,
   "metadata": {},
   "outputs": [],
   "source": [
    "def create_sterile_column(new_df):\n",
    "    for table in new_df:    \n",
    "        for counter, row in enumerate(table.values):\n",
    "            if row[0] == 'Non-Sterile':\n",
    "                break\n",
    "\n",
    "        table.dropna(inplace=True)\n",
    "        table.reset_index(drop=True, inplace=True)\n",
    "\n",
    "        yes = counter\n",
    "        no = len(table) - counter \n",
    "\n",
    "        sterile = ['Yes'] * yes + ['No'] * no\n",
    "\n",
    "        table.insert(2, \"Sterile\", sterile)"
   ]
  },
  {
   "cell_type": "code",
   "execution_count": 802,
   "metadata": {},
   "outputs": [],
   "source": [
    "new_df = drop_empty_tables(dfs)"
   ]
  },
  {
   "cell_type": "code",
   "execution_count": 803,
   "metadata": {},
   "outputs": [],
   "source": [
    "rename_columns(new_df)"
   ]
  },
  {
   "cell_type": "code",
   "execution_count": 804,
   "metadata": {},
   "outputs": [],
   "source": [
    "create_sterile_column(new_df)"
   ]
  },
  {
   "cell_type": "code",
   "execution_count": 807,
   "metadata": {},
   "outputs": [
    {
     "data": {
      "text/plain": [
       "0                       I.V. Sponge,\\r2” x 2”, 6-ply\n",
       "1                   T-Drain\\rSponge,\\r4” x 4”, 6-ply\n",
       "2    T-Drain\\rSponge, 100%\\rCotton,\\r4” x 4”, 16-ply\n",
       "Name: Description, dtype: object"
      ]
     },
     "execution_count": 807,
     "metadata": {},
     "output_type": "execute_result"
    }
   ],
   "source": [
    "new_df[0]['Description']"
   ]
  },
  {
   "cell_type": "code",
   "execution_count": 768,
   "metadata": {},
   "outputs": [],
   "source": [
    "# This needs to be modified because it will not catch tables that don't start with sterile items        \n",
    "for table in new_df:    \n",
    "    for counter, row in enumerate(table.values):\n",
    "        if row[0] == 'Non-Sterile':\n",
    "            break\n",
    "    \n",
    "    table.dropna(inplace=True)\n",
    "    table.reset_index(drop=True, inplace=True)\n",
    "    \n",
    "    yes = counter\n",
    "    no = len(table) - counter \n",
    "\n",
    "    sterile = ['Yes'] * yes + ['No'] * no\n",
    "    \n",
    "    table.insert(2, \"Sterile\", sterile)\n"
   ]
  },
  {
   "cell_type": "code",
   "execution_count": 769,
   "metadata": {},
   "outputs": [
    {
     "data": {
      "text/plain": [
       "[    Item_#      Description Sterile             Packaging_Qty\n",
       " 0    C5119   2” x 2”, 8-ply     Yes  2/pk, 50 pk/bx, 30 bx/cs\n",
       " 1    C5129  3” x 3”, 12-ply     Yes  2/pk, 50 pk/bx, 24 bx/cs\n",
       " 2    C5189   4” x 4”, 8-ply     Yes  2/pk, 50 pk/bx, 12 bx/cs\n",
       " 3    C5139  4” x 4”, 12-ply     Yes  2/pk, 25 pk/bx, 24 bx/cs\n",
       " 4     C517  8” x 4”, 12-ply     Yes  2/pk, 25 pk/bx, 20 bx/cs\n",
       " 5   C82082   2” x 2”, 8-ply      No          200/bg, 25 bg/cs\n",
       " 6   C82122  2” x 2”, 12-ply      No          200/bg, 40 bg/cs\n",
       " 7   C83083   3” x 3”, 8-ply      No          200/bg, 20 bg/cs\n",
       " 8   C83082  3” x 3”, 12-ply      No          200/bg, 20 bg/cs\n",
       " 9   C84088   4” x 4”, 8-ply      No          200/bg, 20 bg/cs\n",
       " 10  C84124  4” x 4”, 12-ply      No          200/bg, 10 bg/cs\n",
       " 11  C84166  4” x 4”, 16-ply      No          200/bg, 10 bg/cs,\n",
       "       Item_#       Description Sterile             Packaging_Qty\n",
       " 0       6208   2” x 2”,\\r8-ply     Yes  2/pk, 50 pk/bx, 30 bx/cs\n",
       " 1       6312   3” x 3”,\\r2-ply     Yes  2/pk, 50 pk/bx, 24 bx/cs\n",
       " 2       6408   4” x 4”,\\r8-ply     Yes  2/pk, 50 pk/bx, 12 bx/cs\n",
       " 3       6412  4” x 4”,\\r12-ply     Yes  2/pk, 25 pk/bx, 24 bx/cs\n",
       " 4       6842  8” x 4”,\\r12-ply     Yes  2/pk, 25 pk/bx, 20 bx/cs\n",
       " 5       2085   2” x 2”,\\r8-ply      No          200/bg, 25 bg/cs\n",
       " 6       2128  2” x 2”,\\r12-ply      No          200/bg, 40 bg/cs\n",
       " 7   2128-100  2” x 2”,\\r12-ply      No          100/bg, 80 bg/cs\n",
       " 8       3084   3” x 3”,\\r8-ply      No          200/bg, 20 bg/cs\n",
       " 9       3124  3” x 3”,\\r12-ply      No          200/bg, 20 bg/cs\n",
       " 10  3124-100  3” x 3”,\\r12-ply      No          100/bg, 40 bg/cs\n",
       " 11      4084   4” x 4”,\\r8-ply      No          200/bg, 20 bg/cs\n",
       " 12      4122  4” x 4”,\\r12-ply      No          200/bg, 10 bg/cs\n",
       " 13  4122-100  4” x 4”,\\r12-ply      No          100/bg, 20 bg/cs\n",
       " 14      4162  4” x 4”,\\r16-ply      No          200/bg, 10 bg/cs\n",
       " 15      8412  8” x 4”,\\r12-ply      No          200/bg, 10 bg/cs,\n",
       "     Item_#      Description Sterile              Packaging_Qty\n",
       " 0     1212  2” x 2”, 12-ply     Yes  1/pk, 100 pk/bx, 24 bx/cs\n",
       " 1     1312  3” x 3”, 12-ply     Yes  1/pk, 100 pk/bx, 24 bx/cs\n",
       " 2     1412  4” x 4”, 12-ply     Yes  1/pk, 100 pk/bx, 12 bx/cs\n",
       " 3  1212-10  2” x 2”, 12-ply     Yes   1/pk, 10 pk/bx, 60 bx/cs\n",
       " 4  1313-10  3” x 3”, 12-ply     Yes   1/pk, 10 pk/bx, 60 bx/cs\n",
       " 5  1414-10  4” x 4”, 12-ply     Yes   1/pk, 10 pk/bx, 60 bx/cs\n",
       " 6  1212-25  2” x 2”, 12-ply     Yes   1/pk, 25 pk/bx, 24 bx/cs\n",
       " 7  1313-25  3” x 3”, 12-ply     Yes   1/pk, 25 pk/bx, 24 bx/cs\n",
       " 8  1414-25  4” x 4”, 12-ply      No   1/pk, 25 pk/bx, 24 bx/cs,\n",
       "   Item_#      Description Sterile             Packaging_Qty\n",
       " 0   8500   2” x 2”, 8-ply     Yes  2/pk, 50 pk/bx, 30 bx/cs\n",
       " 1   8501  3” x 3”, 12-ply     Yes  2/pk, 50 pk/bx, 24 bx/cs\n",
       " 2   8502   4” x 4”, 8-ply     Yes  2/pk, 50 pk/bx, 12 bx/cs\n",
       " 3   8503  4” x 4”, 12-ply     Yes  2/pk, 25 pk/bx, 24 bx/cs\n",
       " 4   8505   2” x 2”, 8-ply      No          200/bg, 25 bg/cs\n",
       " 5   8506  2” x 2”, 12-ply      No          200/bg, 40 bg/cs\n",
       " 6   8507   3” x 3”, 8-ply      No          200/bg, 20 bg/cs\n",
       " 7   8508  3” x 3”, 12-ply      No          200/bg, 20 bg/cs\n",
       " 8   8509   4” x 4”, 8-ply      No          200/bg, 20 bg/cs\n",
       " 9   8510  4” x 4”, 12-ply      No          200/bg, 10 bg/cs]"
      ]
     },
     "execution_count": 769,
     "metadata": {},
     "output_type": "execute_result"
    }
   ],
   "source": [
    "new_df"
   ]
  },
  {
   "cell_type": "code",
   "execution_count": 808,
   "metadata": {},
   "outputs": [],
   "source": [
    "prob_df = new_df[0]"
   ]
  },
  {
   "cell_type": "code",
   "execution_count": 809,
   "metadata": {},
   "outputs": [],
   "source": [
    "clean_description = []\n",
    "for val in prob_df['Description']:\n",
    "    clean_one = re.sub(r'\\s', ' ',val)\n",
    "    clean_description.append(clean_one)"
   ]
  },
  {
   "cell_type": "code",
   "execution_count": 810,
   "metadata": {},
   "outputs": [],
   "source": [
    "new_df[0]['Description']=clean_description"
   ]
  },
  {
   "cell_type": "code",
   "execution_count": 811,
   "metadata": {},
   "outputs": [
    {
     "data": {
      "text/plain": [
       "[   Item_#                                   Description Sterile  \\\n",
       " 0    7265                   I.V. Sponge, 2” x 2”, 6-ply     Yes   \n",
       " 1    7470                T-Drain Sponge, 4” x 4”, 6-ply     Yes   \n",
       " 2    7468  T-Drain Sponge, 100% Cotton, 4” x 4”, 16-ply      No   \n",
       " \n",
       "               Packaging_Qty  \n",
       " 0  2/pk, 35 pk/bx, 20 bx/cs  \n",
       " 1  2/pk, 25 pk/bx, 12 bx/cs  \n",
       " 2  1/pk, 25 pk/bx, 12 bx/cs  ,\n",
       "    Item_#     Description Sterile             Packaging_Qty\n",
       " 0    8746  4” x 4”, 6-ply      No  2/pk, 25 pk/bx, 12 bx/cs,\n",
       "    Item_# Description Sterile             Packaging_Qty\n",
       " 0    9550   1” Sphere     Yes  1/pouch, 50/bx, 10 bx/cs\n",
       " 1    9552   1” Sphere      No  2/pouch, 50/bx, 10 bx/cs,\n",
       "   Item_#      Description Sterile             Packaging_Qty\n",
       " 0    841  1-5/8” x 2-5/8”     Yes  1/pk, 50 pk/bx, 12 bx/cs\n",
       " 1   841B  1-5/8” x 2-5/8”      No          1/pk, 1000 pk/cs,\n",
       "    Item_# Description Sterile             Packaging_Qty\n",
       " 0    5434     4” x 3”     Yes  2/pk, 25 pk/bx, 24 bx/cs\n",
       " 1    5444     4” x 4”      No  2/pk, 25 pk/bx, 24 bx/cs,\n",
       "    Item_# Description Sterile              Packaging_Qty\n",
       " 0     124     2” x 3”     Yes  1/pk, 100 pk/bx, 24 bx/cs\n",
       " 1     125     3” x 4”      No  1/pk, 100 pk/bx, 12 bx/cs,\n",
       "   Item_# Description Sterile             Packaging_Qty\n",
       " 0   5350     4” x 3”     Yes  2/pk, 25 pk/bx, 24 bx/cs\n",
       " 1   5360     4” x 4”     Yes  2/pk, 25 pk/bx, 24 bx/cs\n",
       " 2   5340     4” x 4”      No          100/bg, 20 bg/cs,\n",
       "    Item_# Description Sterile              Packaging_Qty\n",
       " 0     123     2” x 3”     Yes  1/pk, 100 pk/bx, 12 bx/cs\n",
       " 1     134     3” x 4”     Yes  1/pk, 100 pk/bx, 12 bx/cs\n",
       " 2     138     3” x 8”      No    1/pk, 75 pk/bx, 8 bx/cs]"
      ]
     },
     "execution_count": 811,
     "metadata": {},
     "output_type": "execute_result"
    }
   ],
   "source": [
    "new_df"
   ]
  },
  {
   "cell_type": "markdown",
   "metadata": {},
   "source": [
    "Because we are going to have to modify a number of factors each time we run this then we need to have the functions work on only one element and the write a for loop outside of that function to iterate through....\n",
    "\n",
    "We are going to iterate through table of the df object"
   ]
  },
  {
   "cell_type": "markdown",
   "metadata": {},
   "source": []
  },
  {
   "cell_type": "markdown",
   "metadata": {},
   "source": [
    "--------\n",
    "### Focus on detecting the sterile/non-sterile tags\n",
    "\n",
    "We have to look at the columns of each table because that is where the tag appears in the output.\n"
   ]
  },
  {
   "cell_type": "code",
   "execution_count": 759,
   "metadata": {},
   "outputs": [],
   "source": [
    "# This is a RESET button \n",
    "pdf_path = '../data/Medical Surgical.pdf'\n",
    "dfs = tabula.read_pdf(pdf_path, pages='3',lattice=True, stream=False, multiple_tables=True)"
   ]
  },
  {
   "cell_type": "code",
   "execution_count": null,
   "metadata": {},
   "outputs": [],
   "source": [
    "new_df = []\n",
    "for table in dfs:\n",
    "    if table.empty == True:  # for some reason dfs.remove(table) only removed first instance\n",
    "        continue\n",
    "        #dfs.remove(table)\n",
    "    else:  # We will create a new list instead with the filled tables\n",
    "        new_df.append(table)"
   ]
  },
  {
   "cell_type": "code",
   "execution_count": 760,
   "metadata": {},
   "outputs": [],
   "source": [
    "for table in dfs:    \n",
    "    # now this is going to rename all the columns the select names\n",
    "    for count, col in enumerate(table.columns):\n",
    "        table.rename(columns={col:new_column_names[count]}, inplace=True)"
   ]
  },
  {
   "cell_type": "code",
   "execution_count": 761,
   "metadata": {},
   "outputs": [],
   "source": [
    "for table in dfs:\n",
    "    if table.columns[0] == 'Sterile':   \n",
    "        for counter, row in enumerate(table.values):\n",
    "            if row[0] == 'Non-Sterile':\n",
    "                break\n",
    "\n",
    "        table.dropna(inplace=True)\n",
    "        table.reset_index(drop=True, inplace=True)\n",
    "\n",
    "        yes = counter\n",
    "        no = len(table) - counter \n",
    "\n",
    "        sterile = ['Yes'] * yes + ['No'] * no\n",
    "\n",
    "        table.insert(2, \"Sterile\", sterile)\n",
    "\n",
    "        \n",
    "    "
   ]
  },
  {
   "cell_type": "code",
   "execution_count": 762,
   "metadata": {},
   "outputs": [
    {
     "data": {
      "text/plain": [
       "[Empty DataFrame\n",
       " Columns: [Item_#]\n",
       " Index: [],\n",
       " Empty DataFrame\n",
       " Columns: [Item_#]\n",
       " Index: [],\n",
       "          Item_#      Description             Packaging_Qty\n",
       " 0         C5119   2” x 2”, 8-ply  2/pk, 50 pk/bx, 30 bx/cs\n",
       " 1         C5129  3” x 3”, 12-ply  2/pk, 50 pk/bx, 24 bx/cs\n",
       " 2         C5189   4” x 4”, 8-ply  2/pk, 50 pk/bx, 12 bx/cs\n",
       " 3         C5139  4” x 4”, 12-ply  2/pk, 25 pk/bx, 24 bx/cs\n",
       " 4          C517  8” x 4”, 12-ply  2/pk, 25 pk/bx, 20 bx/cs\n",
       " 5   Non-Sterile              NaN                       NaN\n",
       " 6        C82082   2” x 2”, 8-ply          200/bg, 25 bg/cs\n",
       " 7        C82122  2” x 2”, 12-ply          200/bg, 40 bg/cs\n",
       " 8        C83083   3” x 3”, 8-ply          200/bg, 20 bg/cs\n",
       " 9        C83082  3” x 3”, 12-ply          200/bg, 20 bg/cs\n",
       " 10       C84088   4” x 4”, 8-ply          200/bg, 20 bg/cs\n",
       " 11       C84124  4” x 4”, 12-ply          200/bg, 10 bg/cs\n",
       " 12       C84166  4” x 4”, 16-ply          200/bg, 10 bg/cs,\n",
       "          Item_#       Description             Packaging_Qty\n",
       " 0          6208   2” x 2”,\\r8-ply  2/pk, 50 pk/bx, 30 bx/cs\n",
       " 1          6312   3” x 3”,\\r2-ply  2/pk, 50 pk/bx, 24 bx/cs\n",
       " 2          6408   4” x 4”,\\r8-ply  2/pk, 50 pk/bx, 12 bx/cs\n",
       " 3          6412  4” x 4”,\\r12-ply  2/pk, 25 pk/bx, 24 bx/cs\n",
       " 4          6842  8” x 4”,\\r12-ply  2/pk, 25 pk/bx, 20 bx/cs\n",
       " 5   Non-Sterile               NaN                       NaN\n",
       " 6          2085   2” x 2”,\\r8-ply          200/bg, 25 bg/cs\n",
       " 7          2128  2” x 2”,\\r12-ply          200/bg, 40 bg/cs\n",
       " 8      2128-100  2” x 2”,\\r12-ply          100/bg, 80 bg/cs\n",
       " 9          3084   3” x 3”,\\r8-ply          200/bg, 20 bg/cs\n",
       " 10         3124  3” x 3”,\\r12-ply          200/bg, 20 bg/cs\n",
       " 11     3124-100  3” x 3”,\\r12-ply          100/bg, 40 bg/cs\n",
       " 12         4084   4” x 4”,\\r8-ply          200/bg, 20 bg/cs\n",
       " 13         4122  4” x 4”,\\r12-ply          200/bg, 10 bg/cs\n",
       " 14     4122-100  4” x 4”,\\r12-ply          100/bg, 20 bg/cs\n",
       " 15         4162  4” x 4”,\\r16-ply          200/bg, 10 bg/cs\n",
       " 16         8412  8” x 4”,\\r12-ply          200/bg, 10 bg/cs,\n",
       "     Item_#      Description              Packaging_Qty\n",
       " 0     1212  2” x 2”, 12-ply  1/pk, 100 pk/bx, 24 bx/cs\n",
       " 1     1312  3” x 3”, 12-ply  1/pk, 100 pk/bx, 24 bx/cs\n",
       " 2     1412  4” x 4”, 12-ply  1/pk, 100 pk/bx, 12 bx/cs\n",
       " 3  1212-10  2” x 2”, 12-ply   1/pk, 10 pk/bx, 60 bx/cs\n",
       " 4  1313-10  3” x 3”, 12-ply   1/pk, 10 pk/bx, 60 bx/cs\n",
       " 5  1414-10  4” x 4”, 12-ply   1/pk, 10 pk/bx, 60 bx/cs\n",
       " 6  1212-25  2” x 2”, 12-ply   1/pk, 25 pk/bx, 24 bx/cs\n",
       " 7  1313-25  3” x 3”, 12-ply   1/pk, 25 pk/bx, 24 bx/cs\n",
       " 8  1414-25  4” x 4”, 12-ply   1/pk, 25 pk/bx, 24 bx/cs,\n",
       "          Item_#      Description             Packaging_Qty\n",
       " 0          8500   2” x 2”, 8-ply  2/pk, 50 pk/bx, 30 bx/cs\n",
       " 1          8501  3” x 3”, 12-ply  2/pk, 50 pk/bx, 24 bx/cs\n",
       " 2          8502   4” x 4”, 8-ply  2/pk, 50 pk/bx, 12 bx/cs\n",
       " 3          8503  4” x 4”, 12-ply  2/pk, 25 pk/bx, 24 bx/cs\n",
       " 4   Non-Sterile              NaN                       NaN\n",
       " 5          8505   2” x 2”, 8-ply          200/bg, 25 bg/cs\n",
       " 6          8506  2” x 2”, 12-ply          200/bg, 40 bg/cs\n",
       " 7          8507   3” x 3”, 8-ply          200/bg, 20 bg/cs\n",
       " 8          8508  3” x 3”, 12-ply          200/bg, 20 bg/cs\n",
       " 9          8509   4” x 4”, 8-ply          200/bg, 20 bg/cs\n",
       " 10         8510  4” x 4”, 12-ply          200/bg, 10 bg/cs]"
      ]
     },
     "execution_count": 762,
     "metadata": {},
     "output_type": "execute_result"
    }
   ],
   "source": [
    "dfs"
   ]
  },
  {
   "cell_type": "code",
   "execution_count": 753,
   "metadata": {},
   "outputs": [
    {
     "data": {
      "text/plain": [
       "[Empty DataFrame\n",
       " Columns: [Traditional Wound Care]\n",
       " Index: [],\n",
       " Empty DataFrame\n",
       " Columns: [Traditional Wound Care]\n",
       " Index: [],\n",
       "     Item_#      Description Sterile             Packaging_Qty\n",
       " 0    C5119   2” x 2”, 8-ply     Yes  2/pk, 50 pk/bx, 30 bx/cs\n",
       " 1    C5129  3” x 3”, 12-ply     Yes  2/pk, 50 pk/bx, 24 bx/cs\n",
       " 2    C5189   4” x 4”, 8-ply     Yes  2/pk, 50 pk/bx, 12 bx/cs\n",
       " 3    C5139  4” x 4”, 12-ply     Yes  2/pk, 25 pk/bx, 24 bx/cs\n",
       " 4     C517  8” x 4”, 12-ply     Yes  2/pk, 25 pk/bx, 20 bx/cs\n",
       " 5   C82082   2” x 2”, 8-ply      No          200/bg, 25 bg/cs\n",
       " 6   C82122  2” x 2”, 12-ply      No          200/bg, 40 bg/cs\n",
       " 7   C83083   3” x 3”, 8-ply      No          200/bg, 20 bg/cs\n",
       " 8   C83082  3” x 3”, 12-ply      No          200/bg, 20 bg/cs\n",
       " 9   C84088   4” x 4”, 8-ply      No          200/bg, 20 bg/cs\n",
       " 10  C84124  4” x 4”, 12-ply      No          200/bg, 10 bg/cs\n",
       " 11  C84166  4” x 4”, 16-ply      No          200/bg, 10 bg/cs,\n",
       "       Item_#      Description Sterile             Packaging_Qty\n",
       " 0       6208   2” x 2”, 8-ply     Yes  2/pk, 50 pk/bx, 30 bx/cs\n",
       " 1       6312   3” x 3”, 2-ply     Yes  2/pk, 50 pk/bx, 24 bx/cs\n",
       " 2       6408   4” x 4”, 8-ply     Yes  2/pk, 50 pk/bx, 12 bx/cs\n",
       " 3       6412  4” x 4”, 12-ply     Yes  2/pk, 25 pk/bx, 24 bx/cs\n",
       " 4       6842  8” x 4”, 12-ply     Yes  2/pk, 25 pk/bx, 20 bx/cs\n",
       " 5       2085   2” x 2”, 8-ply      No          200/bg, 25 bg/cs\n",
       " 6       2128  2” x 2”, 12-ply      No          200/bg, 40 bg/cs\n",
       " 7   2128-100  2” x 2”, 12-ply      No          100/bg, 80 bg/cs\n",
       " 8       3084   3” x 3”, 8-ply      No          200/bg, 20 bg/cs\n",
       " 9       3124  3” x 3”, 12-ply      No          200/bg, 20 bg/cs\n",
       " 10  3124-100  3” x 3”, 12-ply      No          100/bg, 40 bg/cs\n",
       " 11      4084   4” x 4”, 8-ply      No          200/bg, 20 bg/cs\n",
       " 12      4122  4” x 4”, 12-ply      No          200/bg, 10 bg/cs\n",
       " 13  4122-100  4” x 4”, 12-ply      No          100/bg, 20 bg/cs\n",
       " 14      4162  4” x 4”, 16-ply      No          200/bg, 10 bg/cs\n",
       " 15      8412  8” x 4”, 12-ply      No          200/bg, 10 bg/cs,\n",
       "     Item_#      Description Sterile              Packaging_Qty\n",
       " 0     1212  2” x 2”, 12-ply     Yes  1/pk, 100 pk/bx, 24 bx/cs\n",
       " 1     1312  3” x 3”, 12-ply     Yes  1/pk, 100 pk/bx, 24 bx/cs\n",
       " 2     1412  4” x 4”, 12-ply     Yes  1/pk, 100 pk/bx, 12 bx/cs\n",
       " 3  1212-10  2” x 2”, 12-ply     Yes   1/pk, 10 pk/bx, 60 bx/cs\n",
       " 4  1313-10  3” x 3”, 12-ply     Yes   1/pk, 10 pk/bx, 60 bx/cs\n",
       " 5  1414-10  4” x 4”, 12-ply     Yes   1/pk, 10 pk/bx, 60 bx/cs\n",
       " 6  1212-25  2” x 2”, 12-ply     Yes   1/pk, 25 pk/bx, 24 bx/cs\n",
       " 7  1313-25  3” x 3”, 12-ply     Yes   1/pk, 25 pk/bx, 24 bx/cs\n",
       " 8  1414-25  4” x 4”, 12-ply      No   1/pk, 25 pk/bx, 24 bx/cs,\n",
       "   Item_#      Description Sterile             Packaging_Qty\n",
       " 0   8500   2” x 2”, 8-ply     Yes  2/pk, 50 pk/bx, 30 bx/cs\n",
       " 1   8501  3” x 3”, 12-ply     Yes  2/pk, 50 pk/bx, 24 bx/cs\n",
       " 2   8502   4” x 4”, 8-ply     Yes  2/pk, 50 pk/bx, 12 bx/cs\n",
       " 3   8503  4” x 4”, 12-ply     Yes  2/pk, 25 pk/bx, 24 bx/cs\n",
       " 4   8505   2” x 2”, 8-ply      No          200/bg, 25 bg/cs\n",
       " 5   8506  2” x 2”, 12-ply      No          200/bg, 40 bg/cs\n",
       " 6   8507   3” x 3”, 8-ply      No          200/bg, 20 bg/cs\n",
       " 7   8508  3” x 3”, 12-ply      No          200/bg, 20 bg/cs\n",
       " 8   8509   4” x 4”, 8-ply      No          200/bg, 20 bg/cs\n",
       " 9   8510  4” x 4”, 12-ply      No          200/bg, 10 bg/cs]"
      ]
     },
     "execution_count": 753,
     "metadata": {},
     "output_type": "execute_result"
    }
   ],
   "source": []
  },
  {
   "cell_type": "code",
   "execution_count": null,
   "metadata": {},
   "outputs": [],
   "source": []
  },
  {
   "cell_type": "code",
   "execution_count": null,
   "metadata": {},
   "outputs": [],
   "source": []
  },
  {
   "cell_type": "code",
   "execution_count": null,
   "metadata": {},
   "outputs": [],
   "source": []
  },
  {
   "cell_type": "code",
   "execution_count": null,
   "metadata": {},
   "outputs": [],
   "source": []
  },
  {
   "cell_type": "code",
   "execution_count": 676,
   "metadata": {},
   "outputs": [],
   "source": [
    "# This is a proceedural function with no output\n",
    "# It takes a single table and makes changes inplace\n",
    "def rename_columns(table):\n",
    "    for count, col in enumerate(table.columns):\n",
    "        table.rename(columns={col:new_column_names[count]}, inplace=True)\n",
    "            \n",
    "# This is a proceedural function with no output.\n",
    "# It takes a single table and makes changes inplace\n",
    "def dropna_and_reset_index(table):\n",
    "    table.dropna(inplace=True)\n",
    "    table.reset_index(drop=True, inplace=True)\n",
    "\n",
    "# This needs to return a list \n",
    "# It takes a single table\n",
    "def sterile_item_counter(table):\n",
    "    for counter, row in enumerate(table.values):\n",
    "        if row[0] == 'Non-Sterile':\n",
    "            break\n",
    "    # calls our defined function            \n",
    "    table.dropna(inplace=True)\n",
    "    table.reset_index(drop=True, inplace=True)\n",
    "    \n",
    "    yes = counter\n",
    "    no = len(table) - counter \n",
    "    \n",
    "    sterile = ['Yes'] * yes + ['No'] * no\n",
    "    \n",
    "    table.insert(2, \"Sterile\", sterile)\n",
    "    "
   ]
  },
  {
   "cell_type": "code",
   "execution_count": 677,
   "metadata": {},
   "outputs": [
    {
     "data": {
      "text/plain": [
       "[         Item_#      Description             Packaging_Qty\n",
       " 0         C5119   2” x 2”, 8-ply  2/pk, 50 pk/bx, 30 bx/cs\n",
       " 1         C5129  3” x 3”, 12-ply  2/pk, 50 pk/bx, 24 bx/cs\n",
       " 2         C5189   4” x 4”, 8-ply  2/pk, 50 pk/bx, 12 bx/cs\n",
       " 3         C5139  4” x 4”, 12-ply  2/pk, 25 pk/bx, 24 bx/cs\n",
       " 4          C517  8” x 4”, 12-ply  2/pk, 25 pk/bx, 20 bx/cs\n",
       " 5   Non-Sterile              NaN                       NaN\n",
       " 6        C82082   2” x 2”, 8-ply          200/bg, 25 bg/cs\n",
       " 7        C82122  2” x 2”, 12-ply          200/bg, 40 bg/cs\n",
       " 8        C83083   3” x 3”, 8-ply          200/bg, 20 bg/cs\n",
       " 9        C83082  3” x 3”, 12-ply          200/bg, 20 bg/cs\n",
       " 10       C84088   4” x 4”, 8-ply          200/bg, 20 bg/cs\n",
       " 11       C84124  4” x 4”, 12-ply          200/bg, 10 bg/cs\n",
       " 12       C84166  4” x 4”, 16-ply          200/bg, 10 bg/cs,\n",
       "          Item_#       Description             Packaging_Qty\n",
       " 0          6208   2” x 2”,\\r8-ply  2/pk, 50 pk/bx, 30 bx/cs\n",
       " 1          6312   3” x 3”,\\r2-ply  2/pk, 50 pk/bx, 24 bx/cs\n",
       " 2          6408   4” x 4”,\\r8-ply  2/pk, 50 pk/bx, 12 bx/cs\n",
       " 3          6412  4” x 4”,\\r12-ply  2/pk, 25 pk/bx, 24 bx/cs\n",
       " 4          6842  8” x 4”,\\r12-ply  2/pk, 25 pk/bx, 20 bx/cs\n",
       " 5   Non-Sterile               NaN                       NaN\n",
       " 6          2085   2” x 2”,\\r8-ply          200/bg, 25 bg/cs\n",
       " 7          2128  2” x 2”,\\r12-ply          200/bg, 40 bg/cs\n",
       " 8      2128-100  2” x 2”,\\r12-ply          100/bg, 80 bg/cs\n",
       " 9          3084   3” x 3”,\\r8-ply          200/bg, 20 bg/cs\n",
       " 10         3124  3” x 3”,\\r12-ply          200/bg, 20 bg/cs\n",
       " 11     3124-100  3” x 3”,\\r12-ply          100/bg, 40 bg/cs\n",
       " 12         4084   4” x 4”,\\r8-ply          200/bg, 20 bg/cs\n",
       " 13         4122  4” x 4”,\\r12-ply          200/bg, 10 bg/cs\n",
       " 14     4122-100  4” x 4”,\\r12-ply          100/bg, 20 bg/cs\n",
       " 15         4162  4” x 4”,\\r16-ply          200/bg, 10 bg/cs\n",
       " 16         8412  8” x 4”,\\r12-ply          200/bg, 10 bg/cs,\n",
       "     Item_#      Description              Packaging_Qty\n",
       " 0     1212  2” x 2”, 12-ply  1/pk, 100 pk/bx, 24 bx/cs\n",
       " 1     1312  3” x 3”, 12-ply  1/pk, 100 pk/bx, 24 bx/cs\n",
       " 2     1412  4” x 4”, 12-ply  1/pk, 100 pk/bx, 12 bx/cs\n",
       " 3  1212-10  2” x 2”, 12-ply   1/pk, 10 pk/bx, 60 bx/cs\n",
       " 4  1313-10  3” x 3”, 12-ply   1/pk, 10 pk/bx, 60 bx/cs\n",
       " 5  1414-10  4” x 4”, 12-ply   1/pk, 10 pk/bx, 60 bx/cs\n",
       " 6  1212-25  2” x 2”, 12-ply   1/pk, 25 pk/bx, 24 bx/cs\n",
       " 7  1313-25  3” x 3”, 12-ply   1/pk, 25 pk/bx, 24 bx/cs\n",
       " 8  1414-25  4” x 4”, 12-ply   1/pk, 25 pk/bx, 24 bx/cs,\n",
       "          Item_#      Description             Packaging_Qty\n",
       " 0          8500   2” x 2”, 8-ply  2/pk, 50 pk/bx, 30 bx/cs\n",
       " 1          8501  3” x 3”, 12-ply  2/pk, 50 pk/bx, 24 bx/cs\n",
       " 2          8502   4” x 4”, 8-ply  2/pk, 50 pk/bx, 12 bx/cs\n",
       " 3          8503  4” x 4”, 12-ply  2/pk, 25 pk/bx, 24 bx/cs\n",
       " 4   Non-Sterile              NaN                       NaN\n",
       " 5          8505   2” x 2”, 8-ply          200/bg, 25 bg/cs\n",
       " 6          8506  2” x 2”, 12-ply          200/bg, 40 bg/cs\n",
       " 7          8507   3” x 3”, 8-ply          200/bg, 20 bg/cs\n",
       " 8          8508  3” x 3”, 12-ply          200/bg, 20 bg/cs\n",
       " 9          8509   4” x 4”, 8-ply          200/bg, 20 bg/cs\n",
       " 10         8510  4” x 4”, 12-ply          200/bg, 10 bg/cs]"
      ]
     },
     "execution_count": 677,
     "metadata": {},
     "output_type": "execute_result"
    }
   ],
   "source": [
    "drop_empty_tables(dfs)"
   ]
  },
  {
   "cell_type": "code",
   "execution_count": 678,
   "metadata": {},
   "outputs": [],
   "source": [
    "for table in dfs:\n",
    "    rename_columns(table)"
   ]
  },
  {
   "cell_type": "code",
   "execution_count": 679,
   "metadata": {},
   "outputs": [
    {
     "ename": "UnboundLocalError",
     "evalue": "local variable 'counter' referenced before assignment",
     "output_type": "error",
     "traceback": [
      "\u001b[0;31m---------------------------------------------------------------------------\u001b[0m",
      "\u001b[0;31mUnboundLocalError\u001b[0m                         Traceback (most recent call last)",
      "\u001b[0;32m<ipython-input-679-23a6a1120937>\u001b[0m in \u001b[0;36m<module>\u001b[0;34m\u001b[0m\n\u001b[1;32m      1\u001b[0m \u001b[0;32mfor\u001b[0m \u001b[0mtable\u001b[0m \u001b[0;32min\u001b[0m \u001b[0mdfs\u001b[0m\u001b[0;34m:\u001b[0m\u001b[0;34m\u001b[0m\u001b[0;34m\u001b[0m\u001b[0m\n\u001b[0;32m----> 2\u001b[0;31m     \u001b[0msterile_item_counter\u001b[0m\u001b[0;34m(\u001b[0m\u001b[0mtable\u001b[0m\u001b[0;34m)\u001b[0m\u001b[0;34m\u001b[0m\u001b[0;34m\u001b[0m\u001b[0m\n\u001b[0m",
      "\u001b[0;32m<ipython-input-676-201f2417bafd>\u001b[0m in \u001b[0;36msterile_item_counter\u001b[0;34m(table)\u001b[0m\n\u001b[1;32m     21\u001b[0m     \u001b[0mtable\u001b[0m\u001b[0;34m.\u001b[0m\u001b[0mreset_index\u001b[0m\u001b[0;34m(\u001b[0m\u001b[0mdrop\u001b[0m\u001b[0;34m=\u001b[0m\u001b[0;32mTrue\u001b[0m\u001b[0;34m,\u001b[0m \u001b[0minplace\u001b[0m\u001b[0;34m=\u001b[0m\u001b[0;32mTrue\u001b[0m\u001b[0;34m)\u001b[0m\u001b[0;34m\u001b[0m\u001b[0;34m\u001b[0m\u001b[0m\n\u001b[1;32m     22\u001b[0m \u001b[0;34m\u001b[0m\u001b[0m\n\u001b[0;32m---> 23\u001b[0;31m     \u001b[0myes\u001b[0m \u001b[0;34m=\u001b[0m \u001b[0mcounter\u001b[0m\u001b[0;34m\u001b[0m\u001b[0;34m\u001b[0m\u001b[0m\n\u001b[0m\u001b[1;32m     24\u001b[0m     \u001b[0mno\u001b[0m \u001b[0;34m=\u001b[0m \u001b[0mlen\u001b[0m\u001b[0;34m(\u001b[0m\u001b[0mtable\u001b[0m\u001b[0;34m)\u001b[0m \u001b[0;34m-\u001b[0m \u001b[0mcounter\u001b[0m\u001b[0;34m\u001b[0m\u001b[0;34m\u001b[0m\u001b[0m\n\u001b[1;32m     25\u001b[0m \u001b[0;34m\u001b[0m\u001b[0m\n",
      "\u001b[0;31mUnboundLocalError\u001b[0m: local variable 'counter' referenced before assignment"
     ]
    }
   ],
   "source": [
    "for table in dfs:\n",
    "    sterile_item_counter(table)"
   ]
  },
  {
   "cell_type": "code",
   "execution_count": 637,
   "metadata": {},
   "outputs": [
    {
     "ename": "UnboundLocalError",
     "evalue": "local variable 'counter' referenced before assignment",
     "output_type": "error",
     "traceback": [
      "\u001b[0;31m---------------------------------------------------------------------------\u001b[0m",
      "\u001b[0;31mUnboundLocalError\u001b[0m                         Traceback (most recent call last)",
      "\u001b[0;32m<ipython-input-637-b12f1f52230e>\u001b[0m in \u001b[0;36m<module>\u001b[0;34m\u001b[0m\n\u001b[1;32m      5\u001b[0m \u001b[0;34m\u001b[0m\u001b[0m\n\u001b[1;32m      6\u001b[0m \u001b[0;32mfor\u001b[0m \u001b[0mtable\u001b[0m \u001b[0;32min\u001b[0m \u001b[0mdfs\u001b[0m\u001b[0;34m:\u001b[0m\u001b[0;34m\u001b[0m\u001b[0;34m\u001b[0m\u001b[0m\n\u001b[0;32m----> 7\u001b[0;31m     \u001b[0msterile_item_counter\u001b[0m\u001b[0;34m(\u001b[0m\u001b[0mtable\u001b[0m\u001b[0;34m)\u001b[0m\u001b[0;34m\u001b[0m\u001b[0;34m\u001b[0m\u001b[0m\n\u001b[0m",
      "\u001b[0;32m<ipython-input-632-da6ca27d0c3e>\u001b[0m in \u001b[0;36msterile_item_counter\u001b[0;34m(table)\u001b[0m\n\u001b[1;32m     20\u001b[0m     \u001b[0mdropna_and_reset_index\u001b[0m\u001b[0;34m(\u001b[0m\u001b[0mtable\u001b[0m\u001b[0;34m)\u001b[0m\u001b[0;34m\u001b[0m\u001b[0;34m\u001b[0m\u001b[0m\n\u001b[1;32m     21\u001b[0m \u001b[0;34m\u001b[0m\u001b[0m\n\u001b[0;32m---> 22\u001b[0;31m     \u001b[0myes\u001b[0m \u001b[0;34m=\u001b[0m \u001b[0mcounter\u001b[0m\u001b[0;34m\u001b[0m\u001b[0;34m\u001b[0m\u001b[0m\n\u001b[0m\u001b[1;32m     23\u001b[0m     \u001b[0mno\u001b[0m \u001b[0;34m=\u001b[0m \u001b[0mlen\u001b[0m\u001b[0;34m(\u001b[0m\u001b[0mtable\u001b[0m\u001b[0;34m)\u001b[0m \u001b[0;34m-\u001b[0m \u001b[0mcounter\u001b[0m\u001b[0;34m\u001b[0m\u001b[0;34m\u001b[0m\u001b[0m\n\u001b[1;32m     24\u001b[0m \u001b[0;34m\u001b[0m\u001b[0m\n",
      "\u001b[0;31mUnboundLocalError\u001b[0m: local variable 'counter' referenced before assignment"
     ]
    }
   ],
   "source": [
    "drop_empty_tables(dfs)\n",
    "\n",
    "for table in dfs:\n",
    "    rename_columns(table)\n",
    "\n",
    "for table in dfs:\n",
    "    sterile_item_counter(table)"
   ]
  },
  {
   "cell_type": "code",
   "execution_count": null,
   "metadata": {},
   "outputs": [],
   "source": []
  },
  {
   "cell_type": "markdown",
   "metadata": {},
   "source": [
    "----------\n",
    "# Let's try to combine libraries: Tabula + Fitz"
   ]
  },
  {
   "cell_type": "code",
   "execution_count": 315,
   "metadata": {},
   "outputs": [],
   "source": [
    "import fitz"
   ]
  },
  {
   "cell_type": "code",
   "execution_count": 316,
   "metadata": {},
   "outputs": [],
   "source": [
    "pdf_path = '../data/Medical Surgical.pdf'\n",
    "doc = fitz.open(pdf_path)"
   ]
  },
  {
   "cell_type": "code",
   "execution_count": null,
   "metadata": {},
   "outputs": [],
   "source": []
  }
 ],
 "metadata": {
  "kernelspec": {
   "display_name": "Python 3",
   "language": "python",
   "name": "python3"
  },
  "language_info": {
   "codemirror_mode": {
    "name": "ipython",
    "version": 3
   },
   "file_extension": ".py",
   "mimetype": "text/x-python",
   "name": "python",
   "nbconvert_exporter": "python",
   "pygments_lexer": "ipython3",
   "version": "3.8.5"
  }
 },
 "nbformat": 4,
 "nbformat_minor": 4
}
