{
 "cells": [
  {
   "cell_type": "markdown",
   "metadata": {},
   "source": [
    "**Check for Java**"
   ]
  },
  {
   "cell_type": "code",
   "execution_count": 2,
   "metadata": {},
   "outputs": [
    {
     "name": "stdout",
     "output_type": "stream",
     "text": [
      "java 16.0.1 2021-04-20\n",
      "Java(TM) SE Runtime Environment (build 16.0.1+9-24)\n",
      "Java HotSpot(TM) 64-Bit Server VM (build 16.0.1+9-24, mixed mode, sharing)\n"
     ]
    }
   ],
   "source": [
    "!java --version"
   ]
  },
  {
   "cell_type": "markdown",
   "metadata": {},
   "source": [
    "**Import and Check env for Tabula**"
   ]
  },
  {
   "cell_type": "code",
   "execution_count": 1,
   "metadata": {},
   "outputs": [],
   "source": [
    "import tabula"
   ]
  },
  {
   "cell_type": "code",
   "execution_count": 2,
   "metadata": {},
   "outputs": [
    {
     "name": "stdout",
     "output_type": "stream",
     "text": [
      "Python version:\n",
      "    3.8.5 (default, Jul 21 2020, 10:48:26) \n",
      "[Clang 11.0.3 (clang-1103.0.32.62)]\n",
      "Java version:\n",
      "    java version \"16.0.1\" 2021-04-20\n",
      "Java(TM) SE Runtime Environment (build 16.0.1+9-24)\n",
      "Java HotSpot(TM) 64-Bit Server VM (build 16.0.1+9-24, mixed mode, sharing)\n",
      "tabula-py version: 2.2.0\n",
      "platform: macOS-10.15.7-x86_64-i386-64bit\n",
      "uname:\n",
      "    uname_result(system='Darwin', node='Claytons-MBP.home', release='19.6.0', version='Darwin Kernel Version 19.6.0: Mon Apr 12 20:57:45 PDT 2021; root:xnu-6153.141.28.1~1/RELEASE_X86_64', machine='x86_64', processor='i386')\n",
      "linux_distribution: ('Darwin', '19.6.0', '')\n",
      "mac_ver: ('10.15.7', ('', '', ''), 'x86_64')\n",
      "    \n"
     ]
    }
   ],
   "source": [
    "tabula.environment_info()"
   ]
  },
  {
   "cell_type": "markdown",
   "metadata": {},
   "source": [
    "---------------"
   ]
  },
  {
   "cell_type": "markdown",
   "metadata": {},
   "source": [
    "# What is Tabula?\n",
    "\n",
    "\"tabula-py is just a wrapper of tabula-java , make sure you’ve installed Java and you can use java command on your terminal. Many issue reporters forget to set PATH for java command.\n",
    "\n",
    "You can check whether tabula-py can call java from Python process with tabula.environment_info() function.\" [FAQ](https://tabula-py.readthedocs.io/en/latest/faq.html)"
   ]
  },
  {
   "cell_type": "code",
   "execution_count": 431,
   "metadata": {},
   "outputs": [],
   "source": [
    "pdf_path = '../data/Medical Surgical.pdf'\n",
    "dfs = tabula.read_pdf(pdf_path, pages=3,lattice=True, stream=False, multiple_tables=True)"
   ]
  },
  {
   "cell_type": "code",
   "execution_count": 308,
   "metadata": {},
   "outputs": [
    {
     "data": {
      "text/plain": [
       "list"
      ]
     },
     "execution_count": 308,
     "metadata": {},
     "output_type": "execute_result"
    }
   ],
   "source": [
    "type(dfs)"
   ]
  },
  {
   "cell_type": "code",
   "execution_count": 335,
   "metadata": {},
   "outputs": [
    {
     "data": {
      "text/plain": [
       "6"
      ]
     },
     "execution_count": 335,
     "metadata": {},
     "output_type": "execute_result"
    }
   ],
   "source": [
    "len(dfs)"
   ]
  },
  {
   "cell_type": "code",
   "execution_count": 314,
   "metadata": {},
   "outputs": [
    {
     "name": "stdout",
     "output_type": "stream",
     "text": [
      "Empty DataFrame\n",
      "Columns: [Traditional Wound Care]\n",
      "Index: []\n",
      "Empty DataFrame\n",
      "Columns: [Traditional Wound Care]\n",
      "Index: []\n",
      "        Sterile       Unnamed: 0                Unnamed: 1\n",
      "0         C5119   2” x 2”, 8-ply  2/pk, 50 pk/bx, 30 bx/cs\n",
      "1         C5129  3” x 3”, 12-ply  2/pk, 50 pk/bx, 24 bx/cs\n",
      "2         C5189   4” x 4”, 8-ply  2/pk, 50 pk/bx, 12 bx/cs\n",
      "3         C5139  4” x 4”, 12-ply  2/pk, 25 pk/bx, 24 bx/cs\n",
      "4          C517  8” x 4”, 12-ply  2/pk, 25 pk/bx, 20 bx/cs\n",
      "5   Non-Sterile              NaN                       NaN\n",
      "6        C82082   2” x 2”, 8-ply          200/bg, 25 bg/cs\n",
      "7        C82122  2” x 2”, 12-ply          200/bg, 40 bg/cs\n",
      "8        C83083   3” x 3”, 8-ply          200/bg, 20 bg/cs\n",
      "9        C83082  3” x 3”, 12-ply          200/bg, 20 bg/cs\n",
      "10       C84088   4” x 4”, 8-ply          200/bg, 20 bg/cs\n",
      "11       C84124  4” x 4”, 12-ply          200/bg, 10 bg/cs\n",
      "12       C84166  4” x 4”, 16-ply          200/bg, 10 bg/cs\n",
      "        Sterile        Unnamed: 0                Unnamed: 1\n",
      "0          6208   2” x 2”,\\r8-ply  2/pk, 50 pk/bx, 30 bx/cs\n",
      "1          6312   3” x 3”,\\r2-ply  2/pk, 50 pk/bx, 24 bx/cs\n",
      "2          6408   4” x 4”,\\r8-ply  2/pk, 50 pk/bx, 12 bx/cs\n",
      "3          6412  4” x 4”,\\r12-ply  2/pk, 25 pk/bx, 24 bx/cs\n",
      "4          6842  8” x 4”,\\r12-ply  2/pk, 25 pk/bx, 20 bx/cs\n",
      "5   Non-Sterile               NaN                       NaN\n",
      "6          2085   2” x 2”,\\r8-ply          200/bg, 25 bg/cs\n",
      "7          2128  2” x 2”,\\r12-ply          200/bg, 40 bg/cs\n",
      "8      2128-100  2” x 2”,\\r12-ply          100/bg, 80 bg/cs\n",
      "9          3084   3” x 3”,\\r8-ply          200/bg, 20 bg/cs\n",
      "10         3124  3” x 3”,\\r12-ply          200/bg, 20 bg/cs\n",
      "11     3124-100  3” x 3”,\\r12-ply          100/bg, 40 bg/cs\n",
      "12         4084   4” x 4”,\\r8-ply          200/bg, 20 bg/cs\n",
      "13         4122  4” x 4”,\\r12-ply          200/bg, 10 bg/cs\n",
      "14     4122-100  4” x 4”,\\r12-ply          100/bg, 20 bg/cs\n",
      "15         4162  4” x 4”,\\r16-ply          200/bg, 10 bg/cs\n",
      "16         8412  8” x 4”,\\r12-ply          200/bg, 10 bg/cs\n",
      "   Sterile       Unnamed: 0                 Unnamed: 1\n",
      "0     1212  2” x 2”, 12-ply  1/pk, 100 pk/bx, 24 bx/cs\n",
      "1     1312  3” x 3”, 12-ply  1/pk, 100 pk/bx, 24 bx/cs\n",
      "2     1412  4” x 4”, 12-ply  1/pk, 100 pk/bx, 12 bx/cs\n",
      "3  1212-10  2” x 2”, 12-ply   1/pk, 10 pk/bx, 60 bx/cs\n",
      "4  1313-10  3” x 3”, 12-ply   1/pk, 10 pk/bx, 60 bx/cs\n",
      "5  1414-10  4” x 4”, 12-ply   1/pk, 10 pk/bx, 60 bx/cs\n",
      "6  1212-25  2” x 2”, 12-ply   1/pk, 25 pk/bx, 24 bx/cs\n",
      "7  1313-25  3” x 3”, 12-ply   1/pk, 25 pk/bx, 24 bx/cs\n",
      "8  1414-25  4” x 4”, 12-ply   1/pk, 25 pk/bx, 24 bx/cs\n",
      "  Item_#       Decription Sterile             Packaging_Qty\n",
      "0   8500   2” x 2”, 8-ply     Yes  2/pk, 50 pk/bx, 30 bx/cs\n",
      "1   8501  3” x 3”, 12-ply     Yes  2/pk, 50 pk/bx, 24 bx/cs\n",
      "2   8502   4” x 4”, 8-ply     Yes  2/pk, 50 pk/bx, 12 bx/cs\n",
      "3   8503  4” x 4”, 12-ply     Yes  2/pk, 25 pk/bx, 24 bx/cs\n",
      "4   8505   2” x 2”, 8-ply      No          200/bg, 25 bg/cs\n",
      "5   8506  2” x 2”, 12-ply      No          200/bg, 40 bg/cs\n",
      "6   8507   3” x 3”, 8-ply      No          200/bg, 20 bg/cs\n",
      "7   8508  3” x 3”, 12-ply      No          200/bg, 20 bg/cs\n",
      "8   8509   4” x 4”, 8-ply      No          200/bg, 20 bg/cs\n",
      "9   8510  4” x 4”, 12-ply      No          200/bg, 10 bg/cs\n"
     ]
    }
   ],
   "source": [
    "for table in dfs:\n",
    "    "
   ]
  },
  {
   "cell_type": "code",
   "execution_count": 441,
   "metadata": {},
   "outputs": [],
   "source": [
    "basicCareGauzeSponges = dfs[5]"
   ]
  },
  {
   "cell_type": "code",
   "execution_count": 442,
   "metadata": {},
   "outputs": [
    {
     "data": {
      "text/html": [
       "<div>\n",
       "<style scoped>\n",
       "    .dataframe tbody tr th:only-of-type {\n",
       "        vertical-align: middle;\n",
       "    }\n",
       "\n",
       "    .dataframe tbody tr th {\n",
       "        vertical-align: top;\n",
       "    }\n",
       "\n",
       "    .dataframe thead th {\n",
       "        text-align: right;\n",
       "    }\n",
       "</style>\n",
       "<table border=\"1\" class=\"dataframe\">\n",
       "  <thead>\n",
       "    <tr style=\"text-align: right;\">\n",
       "      <th></th>\n",
       "      <th>Sterile</th>\n",
       "      <th>Unnamed: 0</th>\n",
       "      <th>Unnamed: 1</th>\n",
       "    </tr>\n",
       "  </thead>\n",
       "  <tbody>\n",
       "    <tr>\n",
       "      <th>0</th>\n",
       "      <td>8500</td>\n",
       "      <td>2” x 2”, 8-ply</td>\n",
       "      <td>2/pk, 50 pk/bx, 30 bx/cs</td>\n",
       "    </tr>\n",
       "    <tr>\n",
       "      <th>1</th>\n",
       "      <td>8501</td>\n",
       "      <td>3” x 3”, 12-ply</td>\n",
       "      <td>2/pk, 50 pk/bx, 24 bx/cs</td>\n",
       "    </tr>\n",
       "    <tr>\n",
       "      <th>2</th>\n",
       "      <td>8502</td>\n",
       "      <td>4” x 4”, 8-ply</td>\n",
       "      <td>2/pk, 50 pk/bx, 12 bx/cs</td>\n",
       "    </tr>\n",
       "    <tr>\n",
       "      <th>3</th>\n",
       "      <td>8503</td>\n",
       "      <td>4” x 4”, 12-ply</td>\n",
       "      <td>2/pk, 25 pk/bx, 24 bx/cs</td>\n",
       "    </tr>\n",
       "    <tr>\n",
       "      <th>4</th>\n",
       "      <td>Non-Sterile</td>\n",
       "      <td>NaN</td>\n",
       "      <td>NaN</td>\n",
       "    </tr>\n",
       "    <tr>\n",
       "      <th>5</th>\n",
       "      <td>8505</td>\n",
       "      <td>2” x 2”, 8-ply</td>\n",
       "      <td>200/bg, 25 bg/cs</td>\n",
       "    </tr>\n",
       "    <tr>\n",
       "      <th>6</th>\n",
       "      <td>8506</td>\n",
       "      <td>2” x 2”, 12-ply</td>\n",
       "      <td>200/bg, 40 bg/cs</td>\n",
       "    </tr>\n",
       "    <tr>\n",
       "      <th>7</th>\n",
       "      <td>8507</td>\n",
       "      <td>3” x 3”, 8-ply</td>\n",
       "      <td>200/bg, 20 bg/cs</td>\n",
       "    </tr>\n",
       "    <tr>\n",
       "      <th>8</th>\n",
       "      <td>8508</td>\n",
       "      <td>3” x 3”, 12-ply</td>\n",
       "      <td>200/bg, 20 bg/cs</td>\n",
       "    </tr>\n",
       "    <tr>\n",
       "      <th>9</th>\n",
       "      <td>8509</td>\n",
       "      <td>4” x 4”, 8-ply</td>\n",
       "      <td>200/bg, 20 bg/cs</td>\n",
       "    </tr>\n",
       "    <tr>\n",
       "      <th>10</th>\n",
       "      <td>8510</td>\n",
       "      <td>4” x 4”, 12-ply</td>\n",
       "      <td>200/bg, 10 bg/cs</td>\n",
       "    </tr>\n",
       "  </tbody>\n",
       "</table>\n",
       "</div>"
      ],
      "text/plain": [
       "        Sterile       Unnamed: 0                Unnamed: 1\n",
       "0          8500   2” x 2”, 8-ply  2/pk, 50 pk/bx, 30 bx/cs\n",
       "1          8501  3” x 3”, 12-ply  2/pk, 50 pk/bx, 24 bx/cs\n",
       "2          8502   4” x 4”, 8-ply  2/pk, 50 pk/bx, 12 bx/cs\n",
       "3          8503  4” x 4”, 12-ply  2/pk, 25 pk/bx, 24 bx/cs\n",
       "4   Non-Sterile              NaN                       NaN\n",
       "5          8505   2” x 2”, 8-ply          200/bg, 25 bg/cs\n",
       "6          8506  2” x 2”, 12-ply          200/bg, 40 bg/cs\n",
       "7          8507   3” x 3”, 8-ply          200/bg, 20 bg/cs\n",
       "8          8508  3” x 3”, 12-ply          200/bg, 20 bg/cs\n",
       "9          8509   4” x 4”, 8-ply          200/bg, 20 bg/cs\n",
       "10         8510  4” x 4”, 12-ply          200/bg, 10 bg/cs"
      ]
     },
     "execution_count": 442,
     "metadata": {},
     "output_type": "execute_result"
    }
   ],
   "source": [
    "basicCareGauzeSponges"
   ]
  },
  {
   "cell_type": "code",
   "execution_count": 440,
   "metadata": {},
   "outputs": [
    {
     "data": {
      "text/html": [
       "<div>\n",
       "<style scoped>\n",
       "    .dataframe tbody tr th:only-of-type {\n",
       "        vertical-align: middle;\n",
       "    }\n",
       "\n",
       "    .dataframe tbody tr th {\n",
       "        vertical-align: top;\n",
       "    }\n",
       "\n",
       "    .dataframe thead th {\n",
       "        text-align: right;\n",
       "    }\n",
       "</style>\n",
       "<table border=\"1\" class=\"dataframe\">\n",
       "  <thead>\n",
       "    <tr style=\"text-align: right;\">\n",
       "      <th></th>\n",
       "      <th>Item_#</th>\n",
       "      <th>Decription</th>\n",
       "      <th>Sterile</th>\n",
       "      <th>Packaging_Qty</th>\n",
       "    </tr>\n",
       "  </thead>\n",
       "  <tbody>\n",
       "    <tr>\n",
       "      <th>0</th>\n",
       "      <td>1212</td>\n",
       "      <td>2” x 2”, 12-ply</td>\n",
       "      <td>Yes</td>\n",
       "      <td>1/pk, 100 pk/bx, 24 bx/cs</td>\n",
       "    </tr>\n",
       "    <tr>\n",
       "      <th>1</th>\n",
       "      <td>1312</td>\n",
       "      <td>3” x 3”, 12-ply</td>\n",
       "      <td>Yes</td>\n",
       "      <td>1/pk, 100 pk/bx, 24 bx/cs</td>\n",
       "    </tr>\n",
       "    <tr>\n",
       "      <th>2</th>\n",
       "      <td>1412</td>\n",
       "      <td>4” x 4”, 12-ply</td>\n",
       "      <td>Yes</td>\n",
       "      <td>1/pk, 100 pk/bx, 12 bx/cs</td>\n",
       "    </tr>\n",
       "    <tr>\n",
       "      <th>3</th>\n",
       "      <td>1212-10</td>\n",
       "      <td>2” x 2”, 12-ply</td>\n",
       "      <td>Yes</td>\n",
       "      <td>1/pk, 10 pk/bx, 60 bx/cs</td>\n",
       "    </tr>\n",
       "    <tr>\n",
       "      <th>4</th>\n",
       "      <td>1313-10</td>\n",
       "      <td>3” x 3”, 12-ply</td>\n",
       "      <td>Yes</td>\n",
       "      <td>1/pk, 10 pk/bx, 60 bx/cs</td>\n",
       "    </tr>\n",
       "    <tr>\n",
       "      <th>5</th>\n",
       "      <td>1414-10</td>\n",
       "      <td>4” x 4”, 12-ply</td>\n",
       "      <td>Yes</td>\n",
       "      <td>1/pk, 10 pk/bx, 60 bx/cs</td>\n",
       "    </tr>\n",
       "    <tr>\n",
       "      <th>6</th>\n",
       "      <td>1212-25</td>\n",
       "      <td>2” x 2”, 12-ply</td>\n",
       "      <td>Yes</td>\n",
       "      <td>1/pk, 25 pk/bx, 24 bx/cs</td>\n",
       "    </tr>\n",
       "    <tr>\n",
       "      <th>7</th>\n",
       "      <td>1313-25</td>\n",
       "      <td>3” x 3”, 12-ply</td>\n",
       "      <td>Yes</td>\n",
       "      <td>1/pk, 25 pk/bx, 24 bx/cs</td>\n",
       "    </tr>\n",
       "    <tr>\n",
       "      <th>8</th>\n",
       "      <td>1414-25</td>\n",
       "      <td>4” x 4”, 12-ply</td>\n",
       "      <td>No</td>\n",
       "      <td>1/pk, 25 pk/bx, 24 bx/cs</td>\n",
       "    </tr>\n",
       "  </tbody>\n",
       "</table>\n",
       "</div>"
      ],
      "text/plain": [
       "    Item_#       Decription Sterile              Packaging_Qty\n",
       "0     1212  2” x 2”, 12-ply     Yes  1/pk, 100 pk/bx, 24 bx/cs\n",
       "1     1312  3” x 3”, 12-ply     Yes  1/pk, 100 pk/bx, 24 bx/cs\n",
       "2     1412  4” x 4”, 12-ply     Yes  1/pk, 100 pk/bx, 12 bx/cs\n",
       "3  1212-10  2” x 2”, 12-ply     Yes   1/pk, 10 pk/bx, 60 bx/cs\n",
       "4  1313-10  3” x 3”, 12-ply     Yes   1/pk, 10 pk/bx, 60 bx/cs\n",
       "5  1414-10  4” x 4”, 12-ply     Yes   1/pk, 10 pk/bx, 60 bx/cs\n",
       "6  1212-25  2” x 2”, 12-ply     Yes   1/pk, 25 pk/bx, 24 bx/cs\n",
       "7  1313-25  3” x 3”, 12-ply     Yes   1/pk, 25 pk/bx, 24 bx/cs\n",
       "8  1414-25  4” x 4”, 12-ply      No   1/pk, 25 pk/bx, 24 bx/cs"
      ]
     },
     "execution_count": 440,
     "metadata": {},
     "output_type": "execute_result"
    }
   ],
   "source": [
    "# List of desired column names created outside of the function....\n",
    "# Should have the same number of names as number of columns to be replaced\n",
    "new_column_names = ['Item_#', 'Decription', 'Packaging_Qty']\n",
    "\n",
    "# Make this the function `rename_columns`\n",
    "for count, col in enumerate(basicCareGauzeSponges.columns):\n",
    "    basicCareGauzeSponges.rename(columns={col:new_column_names[count]}, inplace=True)\n",
    "\n",
    "# Make this the function of counting Sterile items\n",
    "for counter, row in enumerate(basicCareGauzeSponges.values):\n",
    "    if row[0] == 'Non-Sterile':\n",
    "        break\n",
    "\n",
    "# Here, drops the non-sterile row and resets index....\n",
    "# before counting non-sterile items\n",
    "# May be irregularly used\n",
    "basicCareGauzeSponges.dropna(inplace=True)\n",
    "basicCareGauzeSponges.reset_index(drop=True, inplace=True)\n",
    "\n",
    "# The counter is a variable from before that should show the number of Sterile Items\n",
    "# Number of non-sterile items based on remaining number of rows in table\n",
    "yes = counter\n",
    "no = len(basicCareGauzeSponges) - counter \n",
    "\n",
    "# Create the list for the column 'Sterile'\n",
    "sterile = ['Yes'] * yes + ['No'] * no\n",
    "\n",
    "# Insert the Sterile list\n",
    "basicCareGauzeSponges.insert(2, \"Sterile\", sterile)\n",
    "\n",
    "basicCareGauzeSponges\n",
    "\n",
    "# Need to cycle through the dataframe to extract each table and treat the same way"
   ]
  },
  {
   "cell_type": "markdown",
   "metadata": {},
   "source": [
    "-----\n",
    "# Now lets work to make this flexible by creating"
   ]
  },
  {
   "cell_type": "code",
   "execution_count": 527,
   "metadata": {},
   "outputs": [],
   "source": [
    "# This is a RESET button \n",
    "pdf_path = '../data/Medical Surgical.pdf'\n",
    "dfs = tabula.read_pdf(pdf_path, pages=3,lattice=True, stream=False, multiple_tables=True)"
   ]
  },
  {
   "cell_type": "code",
   "execution_count": 528,
   "metadata": {},
   "outputs": [
    {
     "data": {
      "text/plain": [
       "[        Sterile       Unnamed: 0                Unnamed: 1\n",
       " 0         C5119   2” x 2”, 8-ply  2/pk, 50 pk/bx, 30 bx/cs\n",
       " 1         C5129  3” x 3”, 12-ply  2/pk, 50 pk/bx, 24 bx/cs\n",
       " 2         C5189   4” x 4”, 8-ply  2/pk, 50 pk/bx, 12 bx/cs\n",
       " 3         C5139  4” x 4”, 12-ply  2/pk, 25 pk/bx, 24 bx/cs\n",
       " 4          C517  8” x 4”, 12-ply  2/pk, 25 pk/bx, 20 bx/cs\n",
       " 5   Non-Sterile              NaN                       NaN\n",
       " 6        C82082   2” x 2”, 8-ply          200/bg, 25 bg/cs\n",
       " 7        C82122  2” x 2”, 12-ply          200/bg, 40 bg/cs\n",
       " 8        C83083   3” x 3”, 8-ply          200/bg, 20 bg/cs\n",
       " 9        C83082  3” x 3”, 12-ply          200/bg, 20 bg/cs\n",
       " 10       C84088   4” x 4”, 8-ply          200/bg, 20 bg/cs\n",
       " 11       C84124  4” x 4”, 12-ply          200/bg, 10 bg/cs\n",
       " 12       C84166  4” x 4”, 16-ply          200/bg, 10 bg/cs,\n",
       "         Sterile        Unnamed: 0                Unnamed: 1\n",
       " 0          6208   2” x 2”,\\r8-ply  2/pk, 50 pk/bx, 30 bx/cs\n",
       " 1          6312   3” x 3”,\\r2-ply  2/pk, 50 pk/bx, 24 bx/cs\n",
       " 2          6408   4” x 4”,\\r8-ply  2/pk, 50 pk/bx, 12 bx/cs\n",
       " 3          6412  4” x 4”,\\r12-ply  2/pk, 25 pk/bx, 24 bx/cs\n",
       " 4          6842  8” x 4”,\\r12-ply  2/pk, 25 pk/bx, 20 bx/cs\n",
       " 5   Non-Sterile               NaN                       NaN\n",
       " 6          2085   2” x 2”,\\r8-ply          200/bg, 25 bg/cs\n",
       " 7          2128  2” x 2”,\\r12-ply          200/bg, 40 bg/cs\n",
       " 8      2128-100  2” x 2”,\\r12-ply          100/bg, 80 bg/cs\n",
       " 9          3084   3” x 3”,\\r8-ply          200/bg, 20 bg/cs\n",
       " 10         3124  3” x 3”,\\r12-ply          200/bg, 20 bg/cs\n",
       " 11     3124-100  3” x 3”,\\r12-ply          100/bg, 40 bg/cs\n",
       " 12         4084   4” x 4”,\\r8-ply          200/bg, 20 bg/cs\n",
       " 13         4122  4” x 4”,\\r12-ply          200/bg, 10 bg/cs\n",
       " 14     4122-100  4” x 4”,\\r12-ply          100/bg, 20 bg/cs\n",
       " 15         4162  4” x 4”,\\r16-ply          200/bg, 10 bg/cs\n",
       " 16         8412  8” x 4”,\\r12-ply          200/bg, 10 bg/cs,\n",
       "    Sterile       Unnamed: 0                 Unnamed: 1\n",
       " 0     1212  2” x 2”, 12-ply  1/pk, 100 pk/bx, 24 bx/cs\n",
       " 1     1312  3” x 3”, 12-ply  1/pk, 100 pk/bx, 24 bx/cs\n",
       " 2     1412  4” x 4”, 12-ply  1/pk, 100 pk/bx, 12 bx/cs\n",
       " 3  1212-10  2” x 2”, 12-ply   1/pk, 10 pk/bx, 60 bx/cs\n",
       " 4  1313-10  3” x 3”, 12-ply   1/pk, 10 pk/bx, 60 bx/cs\n",
       " 5  1414-10  4” x 4”, 12-ply   1/pk, 10 pk/bx, 60 bx/cs\n",
       " 6  1212-25  2” x 2”, 12-ply   1/pk, 25 pk/bx, 24 bx/cs\n",
       " 7  1313-25  3” x 3”, 12-ply   1/pk, 25 pk/bx, 24 bx/cs\n",
       " 8  1414-25  4” x 4”, 12-ply   1/pk, 25 pk/bx, 24 bx/cs,\n",
       "         Sterile       Unnamed: 0                Unnamed: 1\n",
       " 0          8500   2” x 2”, 8-ply  2/pk, 50 pk/bx, 30 bx/cs\n",
       " 1          8501  3” x 3”, 12-ply  2/pk, 50 pk/bx, 24 bx/cs\n",
       " 2          8502   4” x 4”, 8-ply  2/pk, 50 pk/bx, 12 bx/cs\n",
       " 3          8503  4” x 4”, 12-ply  2/pk, 25 pk/bx, 24 bx/cs\n",
       " 4   Non-Sterile              NaN                       NaN\n",
       " 5          8505   2” x 2”, 8-ply          200/bg, 25 bg/cs\n",
       " 6          8506  2” x 2”, 12-ply          200/bg, 40 bg/cs\n",
       " 7          8507   3” x 3”, 8-ply          200/bg, 20 bg/cs\n",
       " 8          8508  3” x 3”, 12-ply          200/bg, 20 bg/cs\n",
       " 9          8509   4” x 4”, 8-ply          200/bg, 20 bg/cs\n",
       " 10         8510  4” x 4”, 12-ply          200/bg, 10 bg/cs]"
      ]
     },
     "execution_count": 528,
     "metadata": {},
     "output_type": "execute_result"
    }
   ],
   "source": [
    "def drop_empty_tables(df_list):\n",
    "    new_df = []\n",
    "    for table in df_list:\n",
    "        if table.empty == True:  # for some reason dfs.remove(table) only removed first instance\n",
    "            continue\n",
    "            #dfs.remove(table)\n",
    "        else:  # We will create a new list instead with the filled tables\n",
    "            new_df.append(table)\n",
    "    return new_df\n",
    "\n",
    "new_df = drop_empty_tables(dfs)\n",
    "new_df"
   ]
  },
  {
   "cell_type": "code",
   "execution_count": 529,
   "metadata": {},
   "outputs": [],
   "source": [
    "\n",
    "for table in new_df:    \n",
    "    # now this is going to rename all the columns the select names\n",
    "    for count, col in enumerate(table.columns):\n",
    "        table.rename(columns={col:new_column_names[count]}, inplace=True)\n",
    "\n",
    "    # This needs to be modified because it will not catch tables that don't start with sterile items        \n",
    "    for counter, row in enumerate(table.values):\n",
    "        if row[0] == 'Non-Sterile':\n",
    "            break\n",
    "    \n",
    "    table.dropna(inplace=True)\n",
    "    table.reset_index(drop=True, inplace=True)\n",
    "    \n",
    "    yes = counter\n",
    "    no = len(table) - counter \n",
    "\n",
    "    sterile = ['Yes'] * yes + ['No'] * no\n",
    "    \n",
    "    table.insert(2, \"Sterile\", sterile)"
   ]
  },
  {
   "cell_type": "code",
   "execution_count": 530,
   "metadata": {},
   "outputs": [
    {
     "data": {
      "text/html": [
       "<div>\n",
       "<style scoped>\n",
       "    .dataframe tbody tr th:only-of-type {\n",
       "        vertical-align: middle;\n",
       "    }\n",
       "\n",
       "    .dataframe tbody tr th {\n",
       "        vertical-align: top;\n",
       "    }\n",
       "\n",
       "    .dataframe thead th {\n",
       "        text-align: right;\n",
       "    }\n",
       "</style>\n",
       "<table border=\"1\" class=\"dataframe\">\n",
       "  <thead>\n",
       "    <tr style=\"text-align: right;\">\n",
       "      <th></th>\n",
       "      <th>Item_#</th>\n",
       "      <th>Decription</th>\n",
       "      <th>Sterile</th>\n",
       "      <th>Packaging_Qty</th>\n",
       "    </tr>\n",
       "  </thead>\n",
       "  <tbody>\n",
       "    <tr>\n",
       "      <th>0</th>\n",
       "      <td>6208</td>\n",
       "      <td>2” x 2”,\\r8-ply</td>\n",
       "      <td>Yes</td>\n",
       "      <td>2/pk, 50 pk/bx, 30 bx/cs</td>\n",
       "    </tr>\n",
       "    <tr>\n",
       "      <th>1</th>\n",
       "      <td>6312</td>\n",
       "      <td>3” x 3”,\\r2-ply</td>\n",
       "      <td>Yes</td>\n",
       "      <td>2/pk, 50 pk/bx, 24 bx/cs</td>\n",
       "    </tr>\n",
       "    <tr>\n",
       "      <th>2</th>\n",
       "      <td>6408</td>\n",
       "      <td>4” x 4”,\\r8-ply</td>\n",
       "      <td>Yes</td>\n",
       "      <td>2/pk, 50 pk/bx, 12 bx/cs</td>\n",
       "    </tr>\n",
       "    <tr>\n",
       "      <th>3</th>\n",
       "      <td>6412</td>\n",
       "      <td>4” x 4”,\\r12-ply</td>\n",
       "      <td>Yes</td>\n",
       "      <td>2/pk, 25 pk/bx, 24 bx/cs</td>\n",
       "    </tr>\n",
       "    <tr>\n",
       "      <th>4</th>\n",
       "      <td>6842</td>\n",
       "      <td>8” x 4”,\\r12-ply</td>\n",
       "      <td>Yes</td>\n",
       "      <td>2/pk, 25 pk/bx, 20 bx/cs</td>\n",
       "    </tr>\n",
       "    <tr>\n",
       "      <th>5</th>\n",
       "      <td>2085</td>\n",
       "      <td>2” x 2”,\\r8-ply</td>\n",
       "      <td>No</td>\n",
       "      <td>200/bg, 25 bg/cs</td>\n",
       "    </tr>\n",
       "    <tr>\n",
       "      <th>6</th>\n",
       "      <td>2128</td>\n",
       "      <td>2” x 2”,\\r12-ply</td>\n",
       "      <td>No</td>\n",
       "      <td>200/bg, 40 bg/cs</td>\n",
       "    </tr>\n",
       "    <tr>\n",
       "      <th>7</th>\n",
       "      <td>2128-100</td>\n",
       "      <td>2” x 2”,\\r12-ply</td>\n",
       "      <td>No</td>\n",
       "      <td>100/bg, 80 bg/cs</td>\n",
       "    </tr>\n",
       "    <tr>\n",
       "      <th>8</th>\n",
       "      <td>3084</td>\n",
       "      <td>3” x 3”,\\r8-ply</td>\n",
       "      <td>No</td>\n",
       "      <td>200/bg, 20 bg/cs</td>\n",
       "    </tr>\n",
       "    <tr>\n",
       "      <th>9</th>\n",
       "      <td>3124</td>\n",
       "      <td>3” x 3”,\\r12-ply</td>\n",
       "      <td>No</td>\n",
       "      <td>200/bg, 20 bg/cs</td>\n",
       "    </tr>\n",
       "    <tr>\n",
       "      <th>10</th>\n",
       "      <td>3124-100</td>\n",
       "      <td>3” x 3”,\\r12-ply</td>\n",
       "      <td>No</td>\n",
       "      <td>100/bg, 40 bg/cs</td>\n",
       "    </tr>\n",
       "    <tr>\n",
       "      <th>11</th>\n",
       "      <td>4084</td>\n",
       "      <td>4” x 4”,\\r8-ply</td>\n",
       "      <td>No</td>\n",
       "      <td>200/bg, 20 bg/cs</td>\n",
       "    </tr>\n",
       "    <tr>\n",
       "      <th>12</th>\n",
       "      <td>4122</td>\n",
       "      <td>4” x 4”,\\r12-ply</td>\n",
       "      <td>No</td>\n",
       "      <td>200/bg, 10 bg/cs</td>\n",
       "    </tr>\n",
       "    <tr>\n",
       "      <th>13</th>\n",
       "      <td>4122-100</td>\n",
       "      <td>4” x 4”,\\r12-ply</td>\n",
       "      <td>No</td>\n",
       "      <td>100/bg, 20 bg/cs</td>\n",
       "    </tr>\n",
       "    <tr>\n",
       "      <th>14</th>\n",
       "      <td>4162</td>\n",
       "      <td>4” x 4”,\\r16-ply</td>\n",
       "      <td>No</td>\n",
       "      <td>200/bg, 10 bg/cs</td>\n",
       "    </tr>\n",
       "    <tr>\n",
       "      <th>15</th>\n",
       "      <td>8412</td>\n",
       "      <td>8” x 4”,\\r12-ply</td>\n",
       "      <td>No</td>\n",
       "      <td>200/bg, 10 bg/cs</td>\n",
       "    </tr>\n",
       "  </tbody>\n",
       "</table>\n",
       "</div>"
      ],
      "text/plain": [
       "      Item_#        Decription Sterile             Packaging_Qty\n",
       "0       6208   2” x 2”,\\r8-ply     Yes  2/pk, 50 pk/bx, 30 bx/cs\n",
       "1       6312   3” x 3”,\\r2-ply     Yes  2/pk, 50 pk/bx, 24 bx/cs\n",
       "2       6408   4” x 4”,\\r8-ply     Yes  2/pk, 50 pk/bx, 12 bx/cs\n",
       "3       6412  4” x 4”,\\r12-ply     Yes  2/pk, 25 pk/bx, 24 bx/cs\n",
       "4       6842  8” x 4”,\\r12-ply     Yes  2/pk, 25 pk/bx, 20 bx/cs\n",
       "5       2085   2” x 2”,\\r8-ply      No          200/bg, 25 bg/cs\n",
       "6       2128  2” x 2”,\\r12-ply      No          200/bg, 40 bg/cs\n",
       "7   2128-100  2” x 2”,\\r12-ply      No          100/bg, 80 bg/cs\n",
       "8       3084   3” x 3”,\\r8-ply      No          200/bg, 20 bg/cs\n",
       "9       3124  3” x 3”,\\r12-ply      No          200/bg, 20 bg/cs\n",
       "10  3124-100  3” x 3”,\\r12-ply      No          100/bg, 40 bg/cs\n",
       "11      4084   4” x 4”,\\r8-ply      No          200/bg, 20 bg/cs\n",
       "12      4122  4” x 4”,\\r12-ply      No          200/bg, 10 bg/cs\n",
       "13  4122-100  4” x 4”,\\r12-ply      No          100/bg, 20 bg/cs\n",
       "14      4162  4” x 4”,\\r16-ply      No          200/bg, 10 bg/cs\n",
       "15      8412  8” x 4”,\\r12-ply      No          200/bg, 10 bg/cs"
      ]
     },
     "execution_count": 530,
     "metadata": {},
     "output_type": "execute_result"
    }
   ],
   "source": [
    "new_df[1]"
   ]
  },
  {
   "cell_type": "code",
   "execution_count": 515,
   "metadata": {},
   "outputs": [],
   "source": [
    "prob_df = new_df[1]"
   ]
  },
  {
   "cell_type": "code",
   "execution_count": 523,
   "metadata": {},
   "outputs": [
    {
     "data": {
      "text/plain": [
       "Index(['Item_#', 'Decription', 'Sterile', 'Packaging_Qty'], dtype='object')"
      ]
     },
     "execution_count": 523,
     "metadata": {},
     "output_type": "execute_result"
    }
   ],
   "source": [
    "prob_df.columns #['Decription']"
   ]
  },
  {
   "cell_type": "code",
   "execution_count": 517,
   "metadata": {},
   "outputs": [],
   "source": [
    "import re"
   ]
  },
  {
   "cell_type": "code",
   "execution_count": 518,
   "metadata": {},
   "outputs": [],
   "source": [
    "clean_description = []\n",
    "for val in prob_df['Decription']:\n",
    "    clean_one = re.sub(r'\\s', ' ',val)\n",
    "    clean_description.append(clean_one)"
   ]
  },
  {
   "cell_type": "code",
   "execution_count": 519,
   "metadata": {},
   "outputs": [
    {
     "data": {
      "text/plain": [
       "['2” x 2”, 8-ply',\n",
       " '3” x 3”, 2-ply',\n",
       " '4” x 4”, 8-ply',\n",
       " '4” x 4”, 12-ply',\n",
       " '8” x 4”, 12-ply',\n",
       " '2” x 2”, 8-ply',\n",
       " '2” x 2”, 12-ply',\n",
       " '2” x 2”, 12-ply',\n",
       " '3” x 3”, 8-ply',\n",
       " '3” x 3”, 12-ply',\n",
       " '3” x 3”, 12-ply',\n",
       " '4” x 4”, 8-ply',\n",
       " '4” x 4”, 12-ply',\n",
       " '4” x 4”, 12-ply',\n",
       " '4” x 4”, 16-ply',\n",
       " '8” x 4”, 12-ply']"
      ]
     },
     "execution_count": 519,
     "metadata": {},
     "output_type": "execute_result"
    }
   ],
   "source": [
    "clean_description"
   ]
  },
  {
   "cell_type": "code",
   "execution_count": 521,
   "metadata": {},
   "outputs": [
    {
     "ename": "KeyError",
     "evalue": "\"['Description'] not found in axis\"",
     "output_type": "error",
     "traceback": [
      "\u001b[0;31m---------------------------------------------------------------------------\u001b[0m",
      "\u001b[0;31mKeyError\u001b[0m                                  Traceback (most recent call last)",
      "\u001b[0;32m<ipython-input-521-77b359c4de99>\u001b[0m in \u001b[0;36m<module>\u001b[0;34m\u001b[0m\n\u001b[1;32m      1\u001b[0m \u001b[0;31m# Drop that column\u001b[0m\u001b[0;34m\u001b[0m\u001b[0;34m\u001b[0m\u001b[0;34m\u001b[0m\u001b[0m\n\u001b[0;32m----> 2\u001b[0;31m \u001b[0mprob_df\u001b[0m\u001b[0;34m.\u001b[0m\u001b[0mdrop\u001b[0m\u001b[0;34m(\u001b[0m\u001b[0mcolumns\u001b[0m\u001b[0;34m=\u001b[0m\u001b[0;34m[\u001b[0m\u001b[0;34m'Description'\u001b[0m\u001b[0;34m]\u001b[0m\u001b[0;34m,\u001b[0m \u001b[0maxis\u001b[0m\u001b[0;34m=\u001b[0m\u001b[0;36m0\u001b[0m\u001b[0;34m,\u001b[0m \u001b[0minplace\u001b[0m \u001b[0;34m=\u001b[0m \u001b[0;32mTrue\u001b[0m\u001b[0;34m)\u001b[0m\u001b[0;34m\u001b[0m\u001b[0;34m\u001b[0m\u001b[0m\n\u001b[0m",
      "\u001b[0;32m/usr/local/lib/python3.8/site-packages/pandas/core/frame.py\u001b[0m in \u001b[0;36mdrop\u001b[0;34m(self, labels, axis, index, columns, level, inplace, errors)\u001b[0m\n\u001b[1;32m   4303\u001b[0m                 \u001b[0mweight\u001b[0m  \u001b[0;36m1.0\u001b[0m     \u001b[0;36m0.8\u001b[0m\u001b[0;34m\u001b[0m\u001b[0;34m\u001b[0m\u001b[0m\n\u001b[1;32m   4304\u001b[0m         \"\"\"\n\u001b[0;32m-> 4305\u001b[0;31m         return super().drop(\n\u001b[0m\u001b[1;32m   4306\u001b[0m             \u001b[0mlabels\u001b[0m\u001b[0;34m=\u001b[0m\u001b[0mlabels\u001b[0m\u001b[0;34m,\u001b[0m\u001b[0;34m\u001b[0m\u001b[0;34m\u001b[0m\u001b[0m\n\u001b[1;32m   4307\u001b[0m             \u001b[0maxis\u001b[0m\u001b[0;34m=\u001b[0m\u001b[0maxis\u001b[0m\u001b[0;34m,\u001b[0m\u001b[0;34m\u001b[0m\u001b[0;34m\u001b[0m\u001b[0m\n",
      "\u001b[0;32m/usr/local/lib/python3.8/site-packages/pandas/core/generic.py\u001b[0m in \u001b[0;36mdrop\u001b[0;34m(self, labels, axis, index, columns, level, inplace, errors)\u001b[0m\n\u001b[1;32m   4150\u001b[0m         \u001b[0;32mfor\u001b[0m \u001b[0maxis\u001b[0m\u001b[0;34m,\u001b[0m \u001b[0mlabels\u001b[0m \u001b[0;32min\u001b[0m \u001b[0maxes\u001b[0m\u001b[0;34m.\u001b[0m\u001b[0mitems\u001b[0m\u001b[0;34m(\u001b[0m\u001b[0;34m)\u001b[0m\u001b[0;34m:\u001b[0m\u001b[0;34m\u001b[0m\u001b[0;34m\u001b[0m\u001b[0m\n\u001b[1;32m   4151\u001b[0m             \u001b[0;32mif\u001b[0m \u001b[0mlabels\u001b[0m \u001b[0;32mis\u001b[0m \u001b[0;32mnot\u001b[0m \u001b[0;32mNone\u001b[0m\u001b[0;34m:\u001b[0m\u001b[0;34m\u001b[0m\u001b[0;34m\u001b[0m\u001b[0m\n\u001b[0;32m-> 4152\u001b[0;31m                 \u001b[0mobj\u001b[0m \u001b[0;34m=\u001b[0m \u001b[0mobj\u001b[0m\u001b[0;34m.\u001b[0m\u001b[0m_drop_axis\u001b[0m\u001b[0;34m(\u001b[0m\u001b[0mlabels\u001b[0m\u001b[0;34m,\u001b[0m \u001b[0maxis\u001b[0m\u001b[0;34m,\u001b[0m \u001b[0mlevel\u001b[0m\u001b[0;34m=\u001b[0m\u001b[0mlevel\u001b[0m\u001b[0;34m,\u001b[0m \u001b[0merrors\u001b[0m\u001b[0;34m=\u001b[0m\u001b[0merrors\u001b[0m\u001b[0;34m)\u001b[0m\u001b[0;34m\u001b[0m\u001b[0;34m\u001b[0m\u001b[0m\n\u001b[0m\u001b[1;32m   4153\u001b[0m \u001b[0;34m\u001b[0m\u001b[0m\n\u001b[1;32m   4154\u001b[0m         \u001b[0;32mif\u001b[0m \u001b[0minplace\u001b[0m\u001b[0;34m:\u001b[0m\u001b[0;34m\u001b[0m\u001b[0;34m\u001b[0m\u001b[0m\n",
      "\u001b[0;32m/usr/local/lib/python3.8/site-packages/pandas/core/generic.py\u001b[0m in \u001b[0;36m_drop_axis\u001b[0;34m(self, labels, axis, level, errors)\u001b[0m\n\u001b[1;32m   4185\u001b[0m                 \u001b[0mnew_axis\u001b[0m \u001b[0;34m=\u001b[0m \u001b[0maxis\u001b[0m\u001b[0;34m.\u001b[0m\u001b[0mdrop\u001b[0m\u001b[0;34m(\u001b[0m\u001b[0mlabels\u001b[0m\u001b[0;34m,\u001b[0m \u001b[0mlevel\u001b[0m\u001b[0;34m=\u001b[0m\u001b[0mlevel\u001b[0m\u001b[0;34m,\u001b[0m \u001b[0merrors\u001b[0m\u001b[0;34m=\u001b[0m\u001b[0merrors\u001b[0m\u001b[0;34m)\u001b[0m\u001b[0;34m\u001b[0m\u001b[0;34m\u001b[0m\u001b[0m\n\u001b[1;32m   4186\u001b[0m             \u001b[0;32melse\u001b[0m\u001b[0;34m:\u001b[0m\u001b[0;34m\u001b[0m\u001b[0;34m\u001b[0m\u001b[0m\n\u001b[0;32m-> 4187\u001b[0;31m                 \u001b[0mnew_axis\u001b[0m \u001b[0;34m=\u001b[0m \u001b[0maxis\u001b[0m\u001b[0;34m.\u001b[0m\u001b[0mdrop\u001b[0m\u001b[0;34m(\u001b[0m\u001b[0mlabels\u001b[0m\u001b[0;34m,\u001b[0m \u001b[0merrors\u001b[0m\u001b[0;34m=\u001b[0m\u001b[0merrors\u001b[0m\u001b[0;34m)\u001b[0m\u001b[0;34m\u001b[0m\u001b[0;34m\u001b[0m\u001b[0m\n\u001b[0m\u001b[1;32m   4188\u001b[0m             \u001b[0mresult\u001b[0m \u001b[0;34m=\u001b[0m \u001b[0mself\u001b[0m\u001b[0;34m.\u001b[0m\u001b[0mreindex\u001b[0m\u001b[0;34m(\u001b[0m\u001b[0;34m**\u001b[0m\u001b[0;34m{\u001b[0m\u001b[0maxis_name\u001b[0m\u001b[0;34m:\u001b[0m \u001b[0mnew_axis\u001b[0m\u001b[0;34m}\u001b[0m\u001b[0;34m)\u001b[0m\u001b[0;34m\u001b[0m\u001b[0;34m\u001b[0m\u001b[0m\n\u001b[1;32m   4189\u001b[0m \u001b[0;34m\u001b[0m\u001b[0m\n",
      "\u001b[0;32m/usr/local/lib/python3.8/site-packages/pandas/core/indexes/base.py\u001b[0m in \u001b[0;36mdrop\u001b[0;34m(self, labels, errors)\u001b[0m\n\u001b[1;32m   5589\u001b[0m         \u001b[0;32mif\u001b[0m \u001b[0mmask\u001b[0m\u001b[0;34m.\u001b[0m\u001b[0many\u001b[0m\u001b[0;34m(\u001b[0m\u001b[0;34m)\u001b[0m\u001b[0;34m:\u001b[0m\u001b[0;34m\u001b[0m\u001b[0;34m\u001b[0m\u001b[0m\n\u001b[1;32m   5590\u001b[0m             \u001b[0;32mif\u001b[0m \u001b[0merrors\u001b[0m \u001b[0;34m!=\u001b[0m \u001b[0;34m\"ignore\"\u001b[0m\u001b[0;34m:\u001b[0m\u001b[0;34m\u001b[0m\u001b[0;34m\u001b[0m\u001b[0m\n\u001b[0;32m-> 5591\u001b[0;31m                 \u001b[0;32mraise\u001b[0m \u001b[0mKeyError\u001b[0m\u001b[0;34m(\u001b[0m\u001b[0;34mf\"{labels[mask]} not found in axis\"\u001b[0m\u001b[0;34m)\u001b[0m\u001b[0;34m\u001b[0m\u001b[0;34m\u001b[0m\u001b[0m\n\u001b[0m\u001b[1;32m   5592\u001b[0m             \u001b[0mindexer\u001b[0m \u001b[0;34m=\u001b[0m \u001b[0mindexer\u001b[0m\u001b[0;34m[\u001b[0m\u001b[0;34m~\u001b[0m\u001b[0mmask\u001b[0m\u001b[0;34m]\u001b[0m\u001b[0;34m\u001b[0m\u001b[0;34m\u001b[0m\u001b[0m\n\u001b[1;32m   5593\u001b[0m         \u001b[0;32mreturn\u001b[0m \u001b[0mself\u001b[0m\u001b[0;34m.\u001b[0m\u001b[0mdelete\u001b[0m\u001b[0;34m(\u001b[0m\u001b[0mindexer\u001b[0m\u001b[0;34m)\u001b[0m\u001b[0;34m\u001b[0m\u001b[0;34m\u001b[0m\u001b[0m\n",
      "\u001b[0;31mKeyError\u001b[0m: \"['Description'] not found in axis\""
     ]
    }
   ],
   "source": [
    "# Drop that column\n",
    "prob_df.drop(columns=['Description'], inplace = True)"
   ]
  },
  {
   "cell_type": "code",
   "execution_count": 496,
   "metadata": {},
   "outputs": [
    {
     "ename": "KeyError",
     "evalue": "'Description'",
     "output_type": "error",
     "traceback": [
      "\u001b[0;31m---------------------------------------------------------------------------\u001b[0m",
      "\u001b[0;31mKeyError\u001b[0m                                  Traceback (most recent call last)",
      "\u001b[0;32m/usr/local/lib/python3.8/site-packages/pandas/core/indexes/base.py\u001b[0m in \u001b[0;36mget_loc\u001b[0;34m(self, key, method, tolerance)\u001b[0m\n\u001b[1;32m   3079\u001b[0m             \u001b[0;32mtry\u001b[0m\u001b[0;34m:\u001b[0m\u001b[0;34m\u001b[0m\u001b[0;34m\u001b[0m\u001b[0m\n\u001b[0;32m-> 3080\u001b[0;31m                 \u001b[0;32mreturn\u001b[0m \u001b[0mself\u001b[0m\u001b[0;34m.\u001b[0m\u001b[0m_engine\u001b[0m\u001b[0;34m.\u001b[0m\u001b[0mget_loc\u001b[0m\u001b[0;34m(\u001b[0m\u001b[0mcasted_key\u001b[0m\u001b[0;34m)\u001b[0m\u001b[0;34m\u001b[0m\u001b[0;34m\u001b[0m\u001b[0m\n\u001b[0m\u001b[1;32m   3081\u001b[0m             \u001b[0;32mexcept\u001b[0m \u001b[0mKeyError\u001b[0m \u001b[0;32mas\u001b[0m \u001b[0merr\u001b[0m\u001b[0;34m:\u001b[0m\u001b[0;34m\u001b[0m\u001b[0;34m\u001b[0m\u001b[0m\n",
      "\u001b[0;32mpandas/_libs/index.pyx\u001b[0m in \u001b[0;36mpandas._libs.index.IndexEngine.get_loc\u001b[0;34m()\u001b[0m\n",
      "\u001b[0;32mpandas/_libs/index.pyx\u001b[0m in \u001b[0;36mpandas._libs.index.IndexEngine.get_loc\u001b[0;34m()\u001b[0m\n",
      "\u001b[0;32mpandas/_libs/hashtable_class_helper.pxi\u001b[0m in \u001b[0;36mpandas._libs.hashtable.PyObjectHashTable.get_item\u001b[0;34m()\u001b[0m\n",
      "\u001b[0;32mpandas/_libs/hashtable_class_helper.pxi\u001b[0m in \u001b[0;36mpandas._libs.hashtable.PyObjectHashTable.get_item\u001b[0;34m()\u001b[0m\n",
      "\u001b[0;31mKeyError\u001b[0m: 'Description'",
      "\nThe above exception was the direct cause of the following exception:\n",
      "\u001b[0;31mKeyError\u001b[0m                                  Traceback (most recent call last)",
      "\u001b[0;32m<ipython-input-496-5cb7aa7c71ca>\u001b[0m in \u001b[0;36m<module>\u001b[0;34m\u001b[0m\n\u001b[1;32m      1\u001b[0m \u001b[0;31m# Drop that column\u001b[0m\u001b[0;34m\u001b[0m\u001b[0;34m\u001b[0m\u001b[0;34m\u001b[0m\u001b[0m\n\u001b[0;32m----> 2\u001b[0;31m \u001b[0mprob_df\u001b[0m\u001b[0;34m.\u001b[0m\u001b[0mdrop\u001b[0m\u001b[0;34m(\u001b[0m\u001b[0mprob_df\u001b[0m\u001b[0;34m[\u001b[0m\u001b[0;34m'Description'\u001b[0m\u001b[0;34m]\u001b[0m\u001b[0;34m,\u001b[0m \u001b[0maxis\u001b[0m \u001b[0;34m=\u001b[0m \u001b[0;36m1\u001b[0m\u001b[0;34m,\u001b[0m \u001b[0minplace\u001b[0m \u001b[0;34m=\u001b[0m \u001b[0;32mTrue\u001b[0m\u001b[0;34m)\u001b[0m\u001b[0;34m\u001b[0m\u001b[0;34m\u001b[0m\u001b[0m\n\u001b[0m\u001b[1;32m      3\u001b[0m \u001b[0;34m\u001b[0m\u001b[0m\n\u001b[1;32m      4\u001b[0m \u001b[0;31m# Put whatever series you want in its place\u001b[0m\u001b[0;34m\u001b[0m\u001b[0;34m\u001b[0m\u001b[0;34m\u001b[0m\u001b[0m\n\u001b[1;32m      5\u001b[0m \u001b[0mprob_df\u001b[0m\u001b[0;34m[\u001b[0m\u001b[0;34m'Description'\u001b[0m\u001b[0;34m]\u001b[0m \u001b[0;34m=\u001b[0m \u001b[0mclean_description\u001b[0m\u001b[0;34m\u001b[0m\u001b[0;34m\u001b[0m\u001b[0m\n",
      "\u001b[0;32m/usr/local/lib/python3.8/site-packages/pandas/core/frame.py\u001b[0m in \u001b[0;36m__getitem__\u001b[0;34m(self, key)\u001b[0m\n\u001b[1;32m   3022\u001b[0m             \u001b[0;32mif\u001b[0m \u001b[0mself\u001b[0m\u001b[0;34m.\u001b[0m\u001b[0mcolumns\u001b[0m\u001b[0;34m.\u001b[0m\u001b[0mnlevels\u001b[0m \u001b[0;34m>\u001b[0m \u001b[0;36m1\u001b[0m\u001b[0;34m:\u001b[0m\u001b[0;34m\u001b[0m\u001b[0;34m\u001b[0m\u001b[0m\n\u001b[1;32m   3023\u001b[0m                 \u001b[0;32mreturn\u001b[0m \u001b[0mself\u001b[0m\u001b[0;34m.\u001b[0m\u001b[0m_getitem_multilevel\u001b[0m\u001b[0;34m(\u001b[0m\u001b[0mkey\u001b[0m\u001b[0;34m)\u001b[0m\u001b[0;34m\u001b[0m\u001b[0;34m\u001b[0m\u001b[0m\n\u001b[0;32m-> 3024\u001b[0;31m             \u001b[0mindexer\u001b[0m \u001b[0;34m=\u001b[0m \u001b[0mself\u001b[0m\u001b[0;34m.\u001b[0m\u001b[0mcolumns\u001b[0m\u001b[0;34m.\u001b[0m\u001b[0mget_loc\u001b[0m\u001b[0;34m(\u001b[0m\u001b[0mkey\u001b[0m\u001b[0;34m)\u001b[0m\u001b[0;34m\u001b[0m\u001b[0;34m\u001b[0m\u001b[0m\n\u001b[0m\u001b[1;32m   3025\u001b[0m             \u001b[0;32mif\u001b[0m \u001b[0mis_integer\u001b[0m\u001b[0;34m(\u001b[0m\u001b[0mindexer\u001b[0m\u001b[0;34m)\u001b[0m\u001b[0;34m:\u001b[0m\u001b[0;34m\u001b[0m\u001b[0;34m\u001b[0m\u001b[0m\n\u001b[1;32m   3026\u001b[0m                 \u001b[0mindexer\u001b[0m \u001b[0;34m=\u001b[0m \u001b[0;34m[\u001b[0m\u001b[0mindexer\u001b[0m\u001b[0;34m]\u001b[0m\u001b[0;34m\u001b[0m\u001b[0;34m\u001b[0m\u001b[0m\n",
      "\u001b[0;32m/usr/local/lib/python3.8/site-packages/pandas/core/indexes/base.py\u001b[0m in \u001b[0;36mget_loc\u001b[0;34m(self, key, method, tolerance)\u001b[0m\n\u001b[1;32m   3080\u001b[0m                 \u001b[0;32mreturn\u001b[0m \u001b[0mself\u001b[0m\u001b[0;34m.\u001b[0m\u001b[0m_engine\u001b[0m\u001b[0;34m.\u001b[0m\u001b[0mget_loc\u001b[0m\u001b[0;34m(\u001b[0m\u001b[0mcasted_key\u001b[0m\u001b[0;34m)\u001b[0m\u001b[0;34m\u001b[0m\u001b[0;34m\u001b[0m\u001b[0m\n\u001b[1;32m   3081\u001b[0m             \u001b[0;32mexcept\u001b[0m \u001b[0mKeyError\u001b[0m \u001b[0;32mas\u001b[0m \u001b[0merr\u001b[0m\u001b[0;34m:\u001b[0m\u001b[0;34m\u001b[0m\u001b[0;34m\u001b[0m\u001b[0m\n\u001b[0;32m-> 3082\u001b[0;31m                 \u001b[0;32mraise\u001b[0m \u001b[0mKeyError\u001b[0m\u001b[0;34m(\u001b[0m\u001b[0mkey\u001b[0m\u001b[0;34m)\u001b[0m \u001b[0;32mfrom\u001b[0m \u001b[0merr\u001b[0m\u001b[0;34m\u001b[0m\u001b[0;34m\u001b[0m\u001b[0m\n\u001b[0m\u001b[1;32m   3083\u001b[0m \u001b[0;34m\u001b[0m\u001b[0m\n\u001b[1;32m   3084\u001b[0m         \u001b[0;32mif\u001b[0m \u001b[0mtolerance\u001b[0m \u001b[0;32mis\u001b[0m \u001b[0;32mnot\u001b[0m \u001b[0;32mNone\u001b[0m\u001b[0;34m:\u001b[0m\u001b[0;34m\u001b[0m\u001b[0;34m\u001b[0m\u001b[0m\n",
      "\u001b[0;31mKeyError\u001b[0m: 'Description'"
     ]
    }
   ],
   "source": [
    "\n",
    "\n",
    "# Drop that column\n",
    "prob_df.drop(prob_df['Description'], axis = 1, inplace = True)\n",
    "\n",
    "# Put whatever series you want in its place\n",
    "prob_df['Description'] = clean_description"
   ]
  },
  {
   "cell_type": "markdown",
   "metadata": {},
   "source": [
    "----------\n",
    "# Let's try to combine libraries: Tabula + Fitz"
   ]
  },
  {
   "cell_type": "code",
   "execution_count": 315,
   "metadata": {},
   "outputs": [],
   "source": [
    "import fitz"
   ]
  },
  {
   "cell_type": "code",
   "execution_count": 316,
   "metadata": {},
   "outputs": [],
   "source": [
    "pdf_path = '../data/Medical Surgical.pdf'\n",
    "doc = fitz.open(pdf_path)"
   ]
  },
  {
   "cell_type": "code",
   "execution_count": null,
   "metadata": {},
   "outputs": [],
   "source": []
  }
 ],
 "metadata": {
  "kernelspec": {
   "display_name": "Python 3",
   "language": "python",
   "name": "python3"
  },
  "language_info": {
   "codemirror_mode": {
    "name": "ipython",
    "version": 3
   },
   "file_extension": ".py",
   "mimetype": "text/x-python",
   "name": "python",
   "nbconvert_exporter": "python",
   "pygments_lexer": "ipython3",
   "version": "3.8.5"
  }
 },
 "nbformat": 4,
 "nbformat_minor": 4
}
