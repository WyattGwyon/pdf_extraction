{
 "cells": [
  {
   "cell_type": "markdown",
   "metadata": {},
   "source": [
    "**Check for Java**"
   ]
  },
  {
   "cell_type": "code",
   "execution_count": 2,
   "metadata": {},
   "outputs": [
    {
     "name": "stdout",
     "output_type": "stream",
     "text": [
      "java 16.0.1 2021-04-20\n",
      "Java(TM) SE Runtime Environment (build 16.0.1+9-24)\n",
      "Java HotSpot(TM) 64-Bit Server VM (build 16.0.1+9-24, mixed mode, sharing)\n"
     ]
    }
   ],
   "source": [
    "!java --version"
   ]
  },
  {
   "cell_type": "markdown",
   "metadata": {},
   "source": [
    "**Import and Check env for Tabula**"
   ]
  },
  {
   "cell_type": "code",
   "execution_count": 1,
   "metadata": {},
   "outputs": [],
   "source": [
    "import tabula"
   ]
  },
  {
   "cell_type": "code",
   "execution_count": 2,
   "metadata": {},
   "outputs": [
    {
     "name": "stdout",
     "output_type": "stream",
     "text": [
      "Python version:\n",
      "    3.8.5 (default, Jul 21 2020, 10:48:26) \n",
      "[Clang 11.0.3 (clang-1103.0.32.62)]\n",
      "Java version:\n",
      "    java version \"16.0.1\" 2021-04-20\n",
      "Java(TM) SE Runtime Environment (build 16.0.1+9-24)\n",
      "Java HotSpot(TM) 64-Bit Server VM (build 16.0.1+9-24, mixed mode, sharing)\n",
      "tabula-py version: 2.2.0\n",
      "platform: macOS-10.15.7-x86_64-i386-64bit\n",
      "uname:\n",
      "    uname_result(system='Darwin', node='Claytons-MBP.home', release='19.6.0', version='Darwin Kernel Version 19.6.0: Mon Apr 12 20:57:45 PDT 2021; root:xnu-6153.141.28.1~1/RELEASE_X86_64', machine='x86_64', processor='i386')\n",
      "linux_distribution: ('Darwin', '19.6.0', '')\n",
      "mac_ver: ('10.15.7', ('', '', ''), 'x86_64')\n",
      "    \n"
     ]
    }
   ],
   "source": [
    "tabula.environment_info()"
   ]
  },
  {
   "cell_type": "markdown",
   "metadata": {},
   "source": [
    "---------------"
   ]
  },
  {
   "cell_type": "markdown",
   "metadata": {},
   "source": [
    "# What is Tabula?\n",
    "\n",
    "\"tabula-py is just a wrapper of tabula-java , make sure you’ve installed Java and you can use java command on your terminal. Many issue reporters forget to set PATH for java command.\n",
    "\n",
    "You can check whether tabula-py can call java from Python process with tabula.environment_info() function.\" [FAQ](https://tabula-py.readthedocs.io/en/latest/faq.html)"
   ]
  },
  {
   "cell_type": "code",
   "execution_count": 159,
   "metadata": {},
   "outputs": [],
   "source": [
    "pdf_path = '../data/Medical Surgical.pdf'\n",
    "dfs = tabula.read_pdf(pdf_path, pages=3,lattice=True, stream=False, multiple_tables=True)"
   ]
  },
  {
   "cell_type": "code",
   "execution_count": 160,
   "metadata": {},
   "outputs": [
    {
     "data": {
      "text/plain": [
       "list"
      ]
     },
     "execution_count": 160,
     "metadata": {},
     "output_type": "execute_result"
    }
   ],
   "source": [
    "type(dfs)"
   ]
  },
  {
   "cell_type": "code",
   "execution_count": 161,
   "metadata": {},
   "outputs": [
    {
     "data": {
      "text/plain": [
       "6"
      ]
     },
     "execution_count": 161,
     "metadata": {},
     "output_type": "execute_result"
    }
   ],
   "source": [
    "len(dfs)"
   ]
  },
  {
   "cell_type": "code",
   "execution_count": 162,
   "metadata": {},
   "outputs": [],
   "source": [
    "basicCareGauzeSponges = dfs[5]"
   ]
  },
  {
   "cell_type": "code",
   "execution_count": 163,
   "metadata": {},
   "outputs": [
    {
     "data": {
      "text/html": [
       "<div>\n",
       "<style scoped>\n",
       "    .dataframe tbody tr th:only-of-type {\n",
       "        vertical-align: middle;\n",
       "    }\n",
       "\n",
       "    .dataframe tbody tr th {\n",
       "        vertical-align: top;\n",
       "    }\n",
       "\n",
       "    .dataframe thead th {\n",
       "        text-align: right;\n",
       "    }\n",
       "</style>\n",
       "<table border=\"1\" class=\"dataframe\">\n",
       "  <thead>\n",
       "    <tr style=\"text-align: right;\">\n",
       "      <th></th>\n",
       "      <th>Sterile</th>\n",
       "      <th>Unnamed: 0</th>\n",
       "      <th>Unnamed: 1</th>\n",
       "    </tr>\n",
       "  </thead>\n",
       "  <tbody>\n",
       "    <tr>\n",
       "      <th>0</th>\n",
       "      <td>8500</td>\n",
       "      <td>2” x 2”, 8-ply</td>\n",
       "      <td>2/pk, 50 pk/bx, 30 bx/cs</td>\n",
       "    </tr>\n",
       "    <tr>\n",
       "      <th>1</th>\n",
       "      <td>8501</td>\n",
       "      <td>3” x 3”, 12-ply</td>\n",
       "      <td>2/pk, 50 pk/bx, 24 bx/cs</td>\n",
       "    </tr>\n",
       "    <tr>\n",
       "      <th>2</th>\n",
       "      <td>8502</td>\n",
       "      <td>4” x 4”, 8-ply</td>\n",
       "      <td>2/pk, 50 pk/bx, 12 bx/cs</td>\n",
       "    </tr>\n",
       "    <tr>\n",
       "      <th>3</th>\n",
       "      <td>8503</td>\n",
       "      <td>4” x 4”, 12-ply</td>\n",
       "      <td>2/pk, 25 pk/bx, 24 bx/cs</td>\n",
       "    </tr>\n",
       "    <tr>\n",
       "      <th>4</th>\n",
       "      <td>Non-Sterile</td>\n",
       "      <td>NaN</td>\n",
       "      <td>NaN</td>\n",
       "    </tr>\n",
       "    <tr>\n",
       "      <th>5</th>\n",
       "      <td>8505</td>\n",
       "      <td>2” x 2”, 8-ply</td>\n",
       "      <td>200/bg, 25 bg/cs</td>\n",
       "    </tr>\n",
       "    <tr>\n",
       "      <th>6</th>\n",
       "      <td>8506</td>\n",
       "      <td>2” x 2”, 12-ply</td>\n",
       "      <td>200/bg, 40 bg/cs</td>\n",
       "    </tr>\n",
       "    <tr>\n",
       "      <th>7</th>\n",
       "      <td>8507</td>\n",
       "      <td>3” x 3”, 8-ply</td>\n",
       "      <td>200/bg, 20 bg/cs</td>\n",
       "    </tr>\n",
       "    <tr>\n",
       "      <th>8</th>\n",
       "      <td>8508</td>\n",
       "      <td>3” x 3”, 12-ply</td>\n",
       "      <td>200/bg, 20 bg/cs</td>\n",
       "    </tr>\n",
       "    <tr>\n",
       "      <th>9</th>\n",
       "      <td>8509</td>\n",
       "      <td>4” x 4”, 8-ply</td>\n",
       "      <td>200/bg, 20 bg/cs</td>\n",
       "    </tr>\n",
       "    <tr>\n",
       "      <th>10</th>\n",
       "      <td>8510</td>\n",
       "      <td>4” x 4”, 12-ply</td>\n",
       "      <td>200/bg, 10 bg/cs</td>\n",
       "    </tr>\n",
       "  </tbody>\n",
       "</table>\n",
       "</div>"
      ],
      "text/plain": [
       "        Sterile       Unnamed: 0                Unnamed: 1\n",
       "0          8500   2” x 2”, 8-ply  2/pk, 50 pk/bx, 30 bx/cs\n",
       "1          8501  3” x 3”, 12-ply  2/pk, 50 pk/bx, 24 bx/cs\n",
       "2          8502   4” x 4”, 8-ply  2/pk, 50 pk/bx, 12 bx/cs\n",
       "3          8503  4” x 4”, 12-ply  2/pk, 25 pk/bx, 24 bx/cs\n",
       "4   Non-Sterile              NaN                       NaN\n",
       "5          8505   2” x 2”, 8-ply          200/bg, 25 bg/cs\n",
       "6          8506  2” x 2”, 12-ply          200/bg, 40 bg/cs\n",
       "7          8507   3” x 3”, 8-ply          200/bg, 20 bg/cs\n",
       "8          8508  3” x 3”, 12-ply          200/bg, 20 bg/cs\n",
       "9          8509   4” x 4”, 8-ply          200/bg, 20 bg/cs\n",
       "10         8510  4” x 4”, 12-ply          200/bg, 10 bg/cs"
      ]
     },
     "execution_count": 163,
     "metadata": {},
     "output_type": "execute_result"
    }
   ],
   "source": [
    "basicCareGauzeSponges"
   ]
  },
  {
   "cell_type": "code",
   "execution_count": 164,
   "metadata": {},
   "outputs": [
    {
     "name": "stdout",
     "output_type": "stream",
     "text": [
      "Sterile\n",
      "Unnamed: 0\n",
      "Unnamed: 1\n"
     ]
    }
   ],
   "source": [
    "new_column_names = ['Item_#', 'Decription', 'Packaging_Qty']\n",
    "for col in basicCareGauzeSponges.columns:\n",
    "    print(col)"
   ]
  },
  {
   "cell_type": "code",
   "execution_count": 165,
   "metadata": {},
   "outputs": [],
   "source": [
    "basicCareGauzeSponges.rename(columns={'Sterile': 'Item_#', 'Unnamed: 0': 'Description', 'Unnamed: 1': 'Packaging'}, inplace=True)\n"
   ]
  },
  {
   "cell_type": "code",
   "execution_count": 189,
   "metadata": {},
   "outputs": [
    {
     "data": {
      "text/plain": [
       "11"
      ]
     },
     "execution_count": 189,
     "metadata": {},
     "output_type": "execute_result"
    }
   ],
   "source": [
    "len(basicCareGauzeSponges)"
   ]
  },
  {
   "cell_type": "code",
   "execution_count": 187,
   "metadata": {},
   "outputs": [
    {
     "name": "stdout",
     "output_type": "stream",
     "text": [
      "8500\n",
      "8501\n",
      "8502\n",
      "8503\n",
      "Non-Sterile\n"
     ]
    }
   ],
   "source": [
    "sterile = []\n",
    "for row in basicCareGauzeSponges.values:\n",
    "    if row[0] == 'Non-Sterile':\n",
    "        print(row[0])\n",
    "        state = 'No'\n",
    "        sterile.append(state)\n",
    "        break\n",
    "    else: \n",
    "        print(row[0])\n",
    "        state = 'Yes'\n",
    "        sterile.append(state)\n",
    "    \n",
    "\n",
    "    \n",
    "    \n",
    "    "
   ]
  },
  {
   "cell_type": "code",
   "execution_count": 188,
   "metadata": {},
   "outputs": [
    {
     "data": {
      "text/plain": [
       "['Yes', 'Yes', 'Yes', 'Yes', 'No']"
      ]
     },
     "execution_count": 188,
     "metadata": {},
     "output_type": "execute_result"
    }
   ],
   "source": [
    "sterile"
   ]
  },
  {
   "cell_type": "code",
   "execution_count": 152,
   "metadata": {},
   "outputs": [],
   "source": [
    "basicCareGauzeSponges.insert(2, \"Sterile\", sterile)"
   ]
  },
  {
   "cell_type": "code",
   "execution_count": 168,
   "metadata": {},
   "outputs": [
    {
     "name": "stdout",
     "output_type": "stream",
     "text": [
      "8500\n",
      "8501\n",
      "8502\n",
      "8503\n",
      "Non-Sterile\n",
      "8505\n",
      "8506\n",
      "8507\n",
      "8508\n",
      "8509\n",
      "8510\n"
     ]
    }
   ],
   "source": [
    "for row in basicCareGauzeSponges.values:\n",
    "    print(row[0])\n",
    "        \n",
    "        "
   ]
  },
  {
   "cell_type": "code",
   "execution_count": 128,
   "metadata": {},
   "outputs": [],
   "source": [
    "basicCareGauzeSponges.dropna(inplace=True)"
   ]
  },
  {
   "cell_type": "code",
   "execution_count": null,
   "metadata": {},
   "outputs": [],
   "source": []
  },
  {
   "cell_type": "code",
   "execution_count": 167,
   "metadata": {},
   "outputs": [
    {
     "data": {
      "text/html": [
       "<div>\n",
       "<style scoped>\n",
       "    .dataframe tbody tr th:only-of-type {\n",
       "        vertical-align: middle;\n",
       "    }\n",
       "\n",
       "    .dataframe tbody tr th {\n",
       "        vertical-align: top;\n",
       "    }\n",
       "\n",
       "    .dataframe thead th {\n",
       "        text-align: right;\n",
       "    }\n",
       "</style>\n",
       "<table border=\"1\" class=\"dataframe\">\n",
       "  <thead>\n",
       "    <tr style=\"text-align: right;\">\n",
       "      <th></th>\n",
       "      <th>Item_#</th>\n",
       "      <th>Description</th>\n",
       "      <th>Packaging</th>\n",
       "    </tr>\n",
       "  </thead>\n",
       "  <tbody>\n",
       "    <tr>\n",
       "      <th>0</th>\n",
       "      <td>8500</td>\n",
       "      <td>2” x 2”, 8-ply</td>\n",
       "      <td>2/pk, 50 pk/bx, 30 bx/cs</td>\n",
       "    </tr>\n",
       "    <tr>\n",
       "      <th>1</th>\n",
       "      <td>8501</td>\n",
       "      <td>3” x 3”, 12-ply</td>\n",
       "      <td>2/pk, 50 pk/bx, 24 bx/cs</td>\n",
       "    </tr>\n",
       "    <tr>\n",
       "      <th>2</th>\n",
       "      <td>8502</td>\n",
       "      <td>4” x 4”, 8-ply</td>\n",
       "      <td>2/pk, 50 pk/bx, 12 bx/cs</td>\n",
       "    </tr>\n",
       "    <tr>\n",
       "      <th>3</th>\n",
       "      <td>8503</td>\n",
       "      <td>4” x 4”, 12-ply</td>\n",
       "      <td>2/pk, 25 pk/bx, 24 bx/cs</td>\n",
       "    </tr>\n",
       "    <tr>\n",
       "      <th>4</th>\n",
       "      <td>Non-Sterile</td>\n",
       "      <td>NaN</td>\n",
       "      <td>NaN</td>\n",
       "    </tr>\n",
       "    <tr>\n",
       "      <th>5</th>\n",
       "      <td>8505</td>\n",
       "      <td>2” x 2”, 8-ply</td>\n",
       "      <td>200/bg, 25 bg/cs</td>\n",
       "    </tr>\n",
       "    <tr>\n",
       "      <th>6</th>\n",
       "      <td>8506</td>\n",
       "      <td>2” x 2”, 12-ply</td>\n",
       "      <td>200/bg, 40 bg/cs</td>\n",
       "    </tr>\n",
       "    <tr>\n",
       "      <th>7</th>\n",
       "      <td>8507</td>\n",
       "      <td>3” x 3”, 8-ply</td>\n",
       "      <td>200/bg, 20 bg/cs</td>\n",
       "    </tr>\n",
       "    <tr>\n",
       "      <th>8</th>\n",
       "      <td>8508</td>\n",
       "      <td>3” x 3”, 12-ply</td>\n",
       "      <td>200/bg, 20 bg/cs</td>\n",
       "    </tr>\n",
       "    <tr>\n",
       "      <th>9</th>\n",
       "      <td>8509</td>\n",
       "      <td>4” x 4”, 8-ply</td>\n",
       "      <td>200/bg, 20 bg/cs</td>\n",
       "    </tr>\n",
       "    <tr>\n",
       "      <th>10</th>\n",
       "      <td>8510</td>\n",
       "      <td>4” x 4”, 12-ply</td>\n",
       "      <td>200/bg, 10 bg/cs</td>\n",
       "    </tr>\n",
       "  </tbody>\n",
       "</table>\n",
       "</div>"
      ],
      "text/plain": [
       "         Item_#      Description                 Packaging\n",
       "0          8500   2” x 2”, 8-ply  2/pk, 50 pk/bx, 30 bx/cs\n",
       "1          8501  3” x 3”, 12-ply  2/pk, 50 pk/bx, 24 bx/cs\n",
       "2          8502   4” x 4”, 8-ply  2/pk, 50 pk/bx, 12 bx/cs\n",
       "3          8503  4” x 4”, 12-ply  2/pk, 25 pk/bx, 24 bx/cs\n",
       "4   Non-Sterile              NaN                       NaN\n",
       "5          8505   2” x 2”, 8-ply          200/bg, 25 bg/cs\n",
       "6          8506  2” x 2”, 12-ply          200/bg, 40 bg/cs\n",
       "7          8507   3” x 3”, 8-ply          200/bg, 20 bg/cs\n",
       "8          8508  3” x 3”, 12-ply          200/bg, 20 bg/cs\n",
       "9          8509   4” x 4”, 8-ply          200/bg, 20 bg/cs\n",
       "10         8510  4” x 4”, 12-ply          200/bg, 10 bg/cs"
      ]
     },
     "execution_count": 167,
     "metadata": {},
     "output_type": "execute_result"
    }
   ],
   "source": [
    "basicCareGauzeSponges"
   ]
  },
  {
   "cell_type": "code",
   "execution_count": 97,
   "metadata": {},
   "outputs": [],
   "source": [
    "basicCareGauzeSponges.reset_index(drop=True, inplace=True)"
   ]
  },
  {
   "cell_type": "code",
   "execution_count": 98,
   "metadata": {},
   "outputs": [
    {
     "data": {
      "text/html": [
       "<div>\n",
       "<style scoped>\n",
       "    .dataframe tbody tr th:only-of-type {\n",
       "        vertical-align: middle;\n",
       "    }\n",
       "\n",
       "    .dataframe tbody tr th {\n",
       "        vertical-align: top;\n",
       "    }\n",
       "\n",
       "    .dataframe thead th {\n",
       "        text-align: right;\n",
       "    }\n",
       "</style>\n",
       "<table border=\"1\" class=\"dataframe\">\n",
       "  <thead>\n",
       "    <tr style=\"text-align: right;\">\n",
       "      <th></th>\n",
       "      <th>Item_#</th>\n",
       "      <th>Description</th>\n",
       "      <th>Sterile</th>\n",
       "      <th>Packaging</th>\n",
       "    </tr>\n",
       "  </thead>\n",
       "  <tbody>\n",
       "    <tr>\n",
       "      <th>0</th>\n",
       "      <td>8500</td>\n",
       "      <td>2” x 2”, 8-ply</td>\n",
       "      <td>Yes</td>\n",
       "      <td>2/pk, 50 pk/bx, 30 bx/cs</td>\n",
       "    </tr>\n",
       "    <tr>\n",
       "      <th>1</th>\n",
       "      <td>8501</td>\n",
       "      <td>3” x 3”, 12-ply</td>\n",
       "      <td>Yes</td>\n",
       "      <td>2/pk, 50 pk/bx, 24 bx/cs</td>\n",
       "    </tr>\n",
       "    <tr>\n",
       "      <th>2</th>\n",
       "      <td>8502</td>\n",
       "      <td>4” x 4”, 8-ply</td>\n",
       "      <td>Yes</td>\n",
       "      <td>2/pk, 50 pk/bx, 12 bx/cs</td>\n",
       "    </tr>\n",
       "    <tr>\n",
       "      <th>3</th>\n",
       "      <td>8503</td>\n",
       "      <td>4” x 4”, 12-ply</td>\n",
       "      <td>Yes</td>\n",
       "      <td>2/pk, 25 pk/bx, 24 bx/cs</td>\n",
       "    </tr>\n",
       "    <tr>\n",
       "      <th>4</th>\n",
       "      <td>8505</td>\n",
       "      <td>2” x 2”, 8-ply</td>\n",
       "      <td>No</td>\n",
       "      <td>200/bg, 25 bg/cs</td>\n",
       "    </tr>\n",
       "    <tr>\n",
       "      <th>5</th>\n",
       "      <td>8506</td>\n",
       "      <td>2” x 2”, 12-ply</td>\n",
       "      <td>No</td>\n",
       "      <td>200/bg, 40 bg/cs</td>\n",
       "    </tr>\n",
       "    <tr>\n",
       "      <th>6</th>\n",
       "      <td>8507</td>\n",
       "      <td>3” x 3”, 8-ply</td>\n",
       "      <td>No</td>\n",
       "      <td>200/bg, 20 bg/cs</td>\n",
       "    </tr>\n",
       "    <tr>\n",
       "      <th>7</th>\n",
       "      <td>8508</td>\n",
       "      <td>3” x 3”, 12-ply</td>\n",
       "      <td>No</td>\n",
       "      <td>200/bg, 20 bg/cs</td>\n",
       "    </tr>\n",
       "    <tr>\n",
       "      <th>8</th>\n",
       "      <td>8509</td>\n",
       "      <td>4” x 4”, 8-ply</td>\n",
       "      <td>No</td>\n",
       "      <td>200/bg, 20 bg/cs</td>\n",
       "    </tr>\n",
       "    <tr>\n",
       "      <th>9</th>\n",
       "      <td>8510</td>\n",
       "      <td>4” x 4”, 12-ply</td>\n",
       "      <td>No</td>\n",
       "      <td>200/bg, 10 bg/cs</td>\n",
       "    </tr>\n",
       "  </tbody>\n",
       "</table>\n",
       "</div>"
      ],
      "text/plain": [
       "  Item_#      Description Sterile                 Packaging\n",
       "0   8500   2” x 2”, 8-ply     Yes  2/pk, 50 pk/bx, 30 bx/cs\n",
       "1   8501  3” x 3”, 12-ply     Yes  2/pk, 50 pk/bx, 24 bx/cs\n",
       "2   8502   4” x 4”, 8-ply     Yes  2/pk, 50 pk/bx, 12 bx/cs\n",
       "3   8503  4” x 4”, 12-ply     Yes  2/pk, 25 pk/bx, 24 bx/cs\n",
       "4   8505   2” x 2”, 8-ply      No          200/bg, 25 bg/cs\n",
       "5   8506  2” x 2”, 12-ply      No          200/bg, 40 bg/cs\n",
       "6   8507   3” x 3”, 8-ply      No          200/bg, 20 bg/cs\n",
       "7   8508  3” x 3”, 12-ply      No          200/bg, 20 bg/cs\n",
       "8   8509   4” x 4”, 8-ply      No          200/bg, 20 bg/cs\n",
       "9   8510  4” x 4”, 12-ply      No          200/bg, 10 bg/cs"
      ]
     },
     "execution_count": 98,
     "metadata": {},
     "output_type": "execute_result"
    }
   ],
   "source": [
    "basicCareGauzeSponges"
   ]
  },
  {
   "cell_type": "code",
   "execution_count": 24,
   "metadata": {},
   "outputs": [
    {
     "data": {
      "text/plain": [
       "[Empty DataFrame\n",
       " Columns: [Traditional Wound Care]\n",
       " Index: [],\n",
       " Empty DataFrame\n",
       " Columns: [Traditional Wound Care]\n",
       " Index: [],\n",
       "         Sterile       Unnamed: 0                Unnamed: 1\n",
       " 0         C5119   2” x 2”, 8-ply  2/pk, 50 pk/bx, 30 bx/cs\n",
       " 1         C5129  3” x 3”, 12-ply  2/pk, 50 pk/bx, 24 bx/cs\n",
       " 2         C5189   4” x 4”, 8-ply  2/pk, 50 pk/bx, 12 bx/cs\n",
       " 3         C5139  4” x 4”, 12-ply  2/pk, 25 pk/bx, 24 bx/cs\n",
       " 4          C517  8” x 4”, 12-ply  2/pk, 25 pk/bx, 20 bx/cs\n",
       " 5   Non-Sterile              NaN                       NaN\n",
       " 6        C82082   2” x 2”, 8-ply          200/bg, 25 bg/cs\n",
       " 7        C82122  2” x 2”, 12-ply          200/bg, 40 bg/cs\n",
       " 8        C83083   3” x 3”, 8-ply          200/bg, 20 bg/cs\n",
       " 9        C83082  3” x 3”, 12-ply          200/bg, 20 bg/cs\n",
       " 10       C84088   4” x 4”, 8-ply          200/bg, 20 bg/cs\n",
       " 11       C84124  4” x 4”, 12-ply          200/bg, 10 bg/cs\n",
       " 12       C84166  4” x 4”, 16-ply          200/bg, 10 bg/cs,\n",
       "         Sterile        Unnamed: 0                Unnamed: 1\n",
       " 0          6208   2” x 2”,\\r8-ply  2/pk, 50 pk/bx, 30 bx/cs\n",
       " 1          6312   3” x 3”,\\r2-ply  2/pk, 50 pk/bx, 24 bx/cs\n",
       " 2          6408   4” x 4”,\\r8-ply  2/pk, 50 pk/bx, 12 bx/cs\n",
       " 3          6412  4” x 4”,\\r12-ply  2/pk, 25 pk/bx, 24 bx/cs\n",
       " 4          6842  8” x 4”,\\r12-ply  2/pk, 25 pk/bx, 20 bx/cs\n",
       " 5   Non-Sterile               NaN                       NaN\n",
       " 6          2085   2” x 2”,\\r8-ply          200/bg, 25 bg/cs\n",
       " 7          2128  2” x 2”,\\r12-ply          200/bg, 40 bg/cs\n",
       " 8      2128-100  2” x 2”,\\r12-ply          100/bg, 80 bg/cs\n",
       " 9          3084   3” x 3”,\\r8-ply          200/bg, 20 bg/cs\n",
       " 10         3124  3” x 3”,\\r12-ply          200/bg, 20 bg/cs\n",
       " 11     3124-100  3” x 3”,\\r12-ply          100/bg, 40 bg/cs\n",
       " 12         4084   4” x 4”,\\r8-ply          200/bg, 20 bg/cs\n",
       " 13         4122  4” x 4”,\\r12-ply          200/bg, 10 bg/cs\n",
       " 14     4122-100  4” x 4”,\\r12-ply          100/bg, 20 bg/cs\n",
       " 15         4162  4” x 4”,\\r16-ply          200/bg, 10 bg/cs\n",
       " 16         8412  8” x 4”,\\r12-ply          200/bg, 10 bg/cs,\n",
       "    Sterile       Unnamed: 0                 Unnamed: 1\n",
       " 0     1212  2” x 2”, 12-ply  1/pk, 100 pk/bx, 24 bx/cs\n",
       " 1     1312  3” x 3”, 12-ply  1/pk, 100 pk/bx, 24 bx/cs\n",
       " 2     1412  4” x 4”, 12-ply  1/pk, 100 pk/bx, 12 bx/cs\n",
       " 3  1212-10  2” x 2”, 12-ply   1/pk, 10 pk/bx, 60 bx/cs\n",
       " 4  1313-10  3” x 3”, 12-ply   1/pk, 10 pk/bx, 60 bx/cs\n",
       " 5  1414-10  4” x 4”, 12-ply   1/pk, 10 pk/bx, 60 bx/cs\n",
       " 6  1212-25  2” x 2”, 12-ply   1/pk, 25 pk/bx, 24 bx/cs\n",
       " 7  1313-25  3” x 3”, 12-ply   1/pk, 25 pk/bx, 24 bx/cs\n",
       " 8  1414-25  4” x 4”, 12-ply   1/pk, 25 pk/bx, 24 bx/cs,\n",
       "         Sterile       Unnamed: 0                Unnamed: 1\n",
       " 0          8500   2” x 2”, 8-ply  2/pk, 50 pk/bx, 30 bx/cs\n",
       " 1          8501  3” x 3”, 12-ply  2/pk, 50 pk/bx, 24 bx/cs\n",
       " 2          8502   4” x 4”, 8-ply  2/pk, 50 pk/bx, 12 bx/cs\n",
       " 3          8503  4” x 4”, 12-ply  2/pk, 25 pk/bx, 24 bx/cs\n",
       " 4   Non-Sterile              NaN                       NaN\n",
       " 5          8505   2” x 2”, 8-ply          200/bg, 25 bg/cs\n",
       " 6          8506  2” x 2”, 12-ply          200/bg, 40 bg/cs\n",
       " 7          8507   3” x 3”, 8-ply          200/bg, 20 bg/cs\n",
       " 8          8508  3” x 3”, 12-ply          200/bg, 20 bg/cs\n",
       " 9          8509   4” x 4”, 8-ply          200/bg, 20 bg/cs\n",
       " 10         8510  4” x 4”, 12-ply          200/bg, 10 bg/cs]"
      ]
     },
     "execution_count": 24,
     "metadata": {},
     "output_type": "execute_result"
    }
   ],
   "source": [
    "dfs.rename(columns={ df.columns[0]: \"Left\" , df.columns[1]: \"Right\",}, inplace = True)"
   ]
  },
  {
   "cell_type": "code",
   "execution_count": 197,
   "metadata": {},
   "outputs": [
    {
     "name": "stdout",
     "output_type": "stream",
     "text": [
      "Except\n",
      "Except\n",
      "Except\n"
     ]
    },
    {
     "ename": "KeyboardInterrupt",
     "evalue": "",
     "output_type": "error",
     "traceback": [
      "\u001b[0;31m---------------------------------------------------------------------------\u001b[0m",
      "\u001b[0;31mKeyboardInterrupt\u001b[0m                         Traceback (most recent call last)",
      "\u001b[0;32m<ipython-input-197-e3b83a8cfe19>\u001b[0m in \u001b[0;36m<module>\u001b[0;34m\u001b[0m\n\u001b[1;32m      3\u001b[0m     \u001b[0;32mwhile\u001b[0m \u001b[0;32mTrue\u001b[0m\u001b[0;34m:\u001b[0m\u001b[0;34m\u001b[0m\u001b[0;34m\u001b[0m\u001b[0m\n\u001b[1;32m      4\u001b[0m         \u001b[0;32mtry\u001b[0m\u001b[0;34m:\u001b[0m\u001b[0;34m\u001b[0m\u001b[0;34m\u001b[0m\u001b[0m\n\u001b[0;32m----> 5\u001b[0;31m             \u001b[0mx\u001b[0m \u001b[0;34m>\u001b[0m \u001b[0;36m6\u001b[0m\u001b[0;34m\u001b[0m\u001b[0;34m\u001b[0m\u001b[0m\n\u001b[0m\u001b[1;32m      6\u001b[0m \u001b[0;34m\u001b[0m\u001b[0m\n\u001b[1;32m      7\u001b[0m         \u001b[0;32mexcept\u001b[0m\u001b[0;34m:\u001b[0m\u001b[0;34m\u001b[0m\u001b[0;34m\u001b[0m\u001b[0m\n",
      "\u001b[0;31mKeyboardInterrupt\u001b[0m: "
     ]
    }
   ],
   "source": [
    "nums=[1,2,3,4,5,6,7,8,9]\n",
    "for x in nums:\n",
    "    while True:\n",
    "        try:\n",
    "            x > 6\n",
    "        \n",
    "        except:\n",
    "            print('Except')\n",
    "        \n",
    "    "
   ]
  },
  {
   "cell_type": "code",
   "execution_count": null,
   "metadata": {},
   "outputs": [],
   "source": []
  }
 ],
 "metadata": {
  "kernelspec": {
   "display_name": "Python 3",
   "language": "python",
   "name": "python3"
  },
  "language_info": {
   "codemirror_mode": {
    "name": "ipython",
    "version": 3
   },
   "file_extension": ".py",
   "mimetype": "text/x-python",
   "name": "python",
   "nbconvert_exporter": "python",
   "pygments_lexer": "ipython3",
   "version": "3.8.5"
  }
 },
 "nbformat": 4,
 "nbformat_minor": 4
}
